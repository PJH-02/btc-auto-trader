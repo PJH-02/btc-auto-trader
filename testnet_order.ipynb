{
 "cells": [
  {
   "cell_type": "code",
   "execution_count": 4,
   "metadata": {},
   "outputs": [
    {
     "name": "stdout",
     "output_type": "stream",
     "text": [
      "Collecting ccxt\n",
      "  Downloading ccxt-4.4.68-py2.py3-none-any.whl.metadata (131 kB)\n",
      "Requirement already satisfied: setuptools>=60.9.0 in c:\\users\\user\\anaconda3\\lib\\site-packages (from ccxt) (75.1.0)\n",
      "Requirement already satisfied: certifi>=2018.1.18 in c:\\users\\user\\anaconda3\\lib\\site-packages (from ccxt) (2025.1.31)\n",
      "Requirement already satisfied: requests>=2.18.4 in c:\\users\\user\\anaconda3\\lib\\site-packages (from ccxt) (2.32.3)\n",
      "Requirement already satisfied: cryptography>=2.6.1 in c:\\users\\user\\anaconda3\\lib\\site-packages (from ccxt) (43.0.0)\n",
      "Requirement already satisfied: typing-extensions>=4.4.0 in c:\\users\\user\\anaconda3\\lib\\site-packages (from ccxt) (4.11.0)\n",
      "Requirement already satisfied: aiohttp<=3.10.11 in c:\\users\\user\\anaconda3\\lib\\site-packages (from ccxt) (3.10.5)\n",
      "Collecting aiodns>=1.1.1 (from ccxt)\n",
      "  Downloading aiodns-3.2.0-py3-none-any.whl.metadata (4.0 kB)\n",
      "Requirement already satisfied: yarl>=1.7.2 in c:\\users\\user\\anaconda3\\lib\\site-packages (from ccxt) (1.11.0)\n",
      "Collecting pycares>=4.0.0 (from aiodns>=1.1.1->ccxt)\n",
      "  Downloading pycares-4.5.0-cp312-cp312-win_amd64.whl.metadata (4.3 kB)\n",
      "Requirement already satisfied: aiohappyeyeballs>=2.3.0 in c:\\users\\user\\anaconda3\\lib\\site-packages (from aiohttp<=3.10.11->ccxt) (2.4.0)\n",
      "Requirement already satisfied: aiosignal>=1.1.2 in c:\\users\\user\\anaconda3\\lib\\site-packages (from aiohttp<=3.10.11->ccxt) (1.2.0)\n",
      "Requirement already satisfied: attrs>=17.3.0 in c:\\users\\user\\anaconda3\\lib\\site-packages (from aiohttp<=3.10.11->ccxt) (24.3.0)\n",
      "Requirement already satisfied: frozenlist>=1.1.1 in c:\\users\\user\\anaconda3\\lib\\site-packages (from aiohttp<=3.10.11->ccxt) (1.4.0)\n",
      "Requirement already satisfied: multidict<7.0,>=4.5 in c:\\users\\user\\anaconda3\\lib\\site-packages (from aiohttp<=3.10.11->ccxt) (6.0.4)\n",
      "Requirement already satisfied: cffi>=1.12 in c:\\users\\user\\anaconda3\\lib\\site-packages (from cryptography>=2.6.1->ccxt) (1.17.1)\n",
      "Requirement already satisfied: charset-normalizer<4,>=2 in c:\\users\\user\\anaconda3\\lib\\site-packages (from requests>=2.18.4->ccxt) (3.3.2)\n",
      "Requirement already satisfied: idna<4,>=2.5 in c:\\users\\user\\anaconda3\\lib\\site-packages (from requests>=2.18.4->ccxt) (3.7)\n",
      "Requirement already satisfied: urllib3<3,>=1.21.1 in c:\\users\\user\\anaconda3\\lib\\site-packages (from requests>=2.18.4->ccxt) (2.2.3)\n",
      "Requirement already satisfied: pycparser in c:\\users\\user\\anaconda3\\lib\\site-packages (from cffi>=1.12->cryptography>=2.6.1->ccxt) (2.21)\n",
      "Downloading ccxt-4.4.68-py2.py3-none-any.whl (5.7 MB)\n",
      "   ---------------------------------------- 0.0/5.7 MB ? eta -:--:--\n",
      "   ----- ---------------------------------- 0.8/5.7 MB 11.2 MB/s eta 0:00:01\n",
      "   ---------------- ----------------------- 2.4/5.7 MB 6.7 MB/s eta 0:00:01\n",
      "   --------------------------- ------------ 3.9/5.7 MB 6.0 MB/s eta 0:00:01\n",
      "   ---------------------------------------- 5.7/5.7 MB 7.2 MB/s eta 0:00:00\n",
      "Downloading aiodns-3.2.0-py3-none-any.whl (5.7 kB)\n",
      "Downloading pycares-4.5.0-cp312-cp312-win_amd64.whl (76 kB)\n",
      "Installing collected packages: pycares, aiodns, ccxt\n",
      "Successfully installed aiodns-3.2.0 ccxt-4.4.68 pycares-4.5.0\n",
      "Note: you may need to restart the kernel to use updated packages.\n"
     ]
    }
   ],
   "source": [
    "%pip install ccxt"
   ]
  },
  {
   "cell_type": "code",
   "execution_count": 11,
   "metadata": {},
   "outputs": [
    {
     "name": "stdout",
     "output_type": "stream",
     "text": [
      "BTC 현재 가격: 83094.7 USDT\n",
      "최소 주문 수량: 0.018 BTC (최소 주문 금액 100 USDT)\n",
      "{'info': {'orderId': '4125350590', 'symbol': 'BTCUSDT', 'status': 'FILLED', 'clientOrderId': 'x-xcKtGhcue1980a6b2559abf3f0535', 'price': '0.00', 'avgPrice': '83101.20000', 'origQty': '0.018', 'executedQty': '0.018', 'cumQty': '0.018', 'cumQuote': '1495.82160', 'timeInForce': 'GTC', 'type': 'MARKET', 'reduceOnly': False, 'closePosition': False, 'side': 'BUY', 'positionSide': 'BOTH', 'stopPrice': '0.00', 'workingType': 'CONTRACT_PRICE', 'priceProtect': False, 'origType': 'MARKET', 'priceMatch': 'NONE', 'selfTradePreventionMode': 'EXPIRE_MAKER', 'goodTillDate': '0', 'updateTime': '1742362814056'}, 'id': '4125350590', 'clientOrderId': 'x-xcKtGhcue1980a6b2559abf3f0535', 'timestamp': 1742362814056, 'datetime': '2025-03-19T05:40:14.056Z', 'lastTradeTimestamp': 1742362814056, 'lastUpdateTimestamp': 1742362814056, 'symbol': 'BTC/USDT:USDT', 'type': 'market', 'timeInForce': 'GTC', 'postOnly': False, 'reduceOnly': False, 'side': 'buy', 'price': 83101.2, 'triggerPrice': None, 'amount': 0.018, 'cost': 1495.8216, 'average': 83101.2, 'filled': 0.018, 'remaining': 0.0, 'status': 'closed', 'fee': None, 'trades': [], 'fees': [], 'stopPrice': None, 'takeProfitPrice': None, 'stopLossPrice': None}\n"
     ]
    }
   ],
   "source": [
    "import ccxt\n",
    "import math\n",
    "\n",
    "api_key = '73661359c00e90892f167f4cbf2ae3be230e6c480b7ecbdc841bd4c7622f19df' #env에 넣을 예정\n",
    "secret_key = 'a3dc3a3c04e0bf1816e0ea3b3f80d0714f4b82db94ea64a57ed2db38040e827f'\n",
    "\n",
    "binance = ccxt.binance({\n",
    "    'apiKey': api_key,\n",
    "    'secret': secret_key,\n",
    "    'enableRateLimit': True,\n",
    "    'options': {\n",
    "        'defaultType': 'future',\n",
    "    },\n",
    "})\n",
    "\n",
    "# 테스트넷 사용 설정\n",
    "binance.set_sandbox_mode(True)\n",
    "\n",
    "symbol = 'BTC/USDT'\n",
    "\n",
    "# ✅ BTC/USDT 마켓 정보 가져오기\n",
    "binance.load_markets()\n",
    "market = binance.market(symbol)\n",
    "min_qty = market['limits']['amount']['min']  # 최소 주문 수량\n",
    "step_size = market['precision']['amount']   # 주문 수량 소수점 자리수\n",
    "min_notional = 100  # 최소 주문 금액 (USDT)\n",
    "\n",
    "# ✅ 현재 BTC 가격 가져오기\n",
    "ticker = binance.fetch_ticker(symbol)\n",
    "btc_price = ticker['last']\n",
    "\n",
    "# 계좌 잔액 확인\n",
    "balance = binance.fetch_balance()\n",
    "acc_balance = balance['info']['totalWalletBalance']\n",
    "\n",
    "# ✅ 최소 주문 수량 계산 (최소 주문 금액 100 USDT 충족)\n",
    "order_min = max(min_notional / btc_price, min_qty)\n",
    "order_min = round(order_min, int(abs(math.log10(step_size))))\n",
    "\n",
    "#X = AI로 계산한 매수 시 포지션 비율. 추후 개발에 따라 매수량 임의 조정 가능\n",
    "order = float(acc_balance) * 0.1\n",
    "order_size = round(order/btc_price, int(abs(math.log10(step_size))))\n",
    "\n",
    "if order_size<order_min:\n",
    "    order_size += step_size\n",
    "    order_size = round(order_size, int(abs(math.log10(step_size))))\n",
    "\n",
    "while order_size * btc_price < min_notional:\n",
    "    order_size += step_size\n",
    "    order_size = round(order_size, int(abs(math.log10(step_size))))\n",
    "\n",
    "print(f\"BTC 현재 가격: {btc_price} USDT\")\n",
    "print(f\"최소 주문 수량: {order_size} BTC (최소 주문 금액 {min_notional} USDT)\")\n",
    "\n",
    "# ✅ 시장가 매수 주문 실행\n",
    "order = binance.create_market_buy_order(symbol, order_size)\n",
    "print(order)"
   ]
  },
  {
   "cell_type": "code",
   "execution_count": null,
   "metadata": {},
   "outputs": [
    {
     "name": "stdout",
     "output_type": "stream",
     "text": [
      "{'info': {'orderId': '4125352493', 'symbol': 'BTCUSDT', 'status': 'FILLED', 'clientOrderId': 'x-xcKtGhcua05551dd2c90c847405540', 'price': '0.00', 'avgPrice': '83131.00000', 'origQty': '0.022', 'executedQty': '0.022', 'cumQty': '0.022', 'cumQuote': '1828.88200', 'timeInForce': 'GTC', 'type': 'MARKET', 'reduceOnly': False, 'closePosition': False, 'side': 'SELL', 'positionSide': 'BOTH', 'stopPrice': '0.00', 'workingType': 'CONTRACT_PRICE', 'priceProtect': False, 'origType': 'MARKET', 'priceMatch': 'NONE', 'selfTradePreventionMode': 'EXPIRE_MAKER', 'goodTillDate': '0', 'updateTime': '1742363031263'}, 'id': '4125352493', 'clientOrderId': 'x-xcKtGhcua05551dd2c90c847405540', 'timestamp': 1742363031263, 'datetime': '2025-03-19T05:43:51.263Z', 'lastTradeTimestamp': 1742363031263, 'lastUpdateTimestamp': 1742363031263, 'symbol': 'BTC/USDT:USDT', 'type': 'market', 'timeInForce': 'GTC', 'postOnly': False, 'reduceOnly': False, 'side': 'sell', 'price': 83131.0, 'triggerPrice': None, 'amount': 0.022, 'cost': 1828.882, 'average': 83131.0, 'filled': 0.022, 'remaining': 0.0, 'status': 'closed', 'fee': None, 'trades': [], 'fees': [], 'stopPrice': None, 'takeProfitPrice': None, 'stopLossPrice': None}\n"
     ]
    }
   ],
   "source": [
    "#매도 주문\n",
    "\n",
    "balance = binance.fetch_balance()\n",
    "positions = balance['info']['positions']\n",
    "for position in positions:\n",
    "    if float(position['positionAmt']) != 0:\n",
    "        entire = float(position['positionAmt'])\n",
    "\n",
    "#매도 포지션 양 결정\n",
    "sell_size = entire\n",
    "\n",
    "order = binance.create_market_sell_order(symbol, sell_size)\n",
    "print(order)"
   ]
  },
  {
   "cell_type": "code",
   "execution_count": null,
   "metadata": {},
   "outputs": [],
   "source": [
    "#현재 가격 조회\n",
    "ticker = binance.fetch_ticker(symbol)\n",
    "print(f\"현재 가격: {ticker['last']} USDT\")\n",
    "\n",
    "#주문 내역 조회\n",
    "orders = binance.fetch_orders(symbol)\n",
    "for order in orders:\n",
    "    print(order)"
   ]
  }
 ],
 "metadata": {
  "kernelspec": {
   "display_name": "Python 3",
   "language": "python",
   "name": "python3"
  },
  "language_info": {
   "codemirror_mode": {
    "name": "ipython",
    "version": 3
   },
   "file_extension": ".py",
   "mimetype": "text/x-python",
   "name": "python",
   "nbconvert_exporter": "python",
   "pygments_lexer": "ipython3",
   "version": "3.12.3"
  }
 },
 "nbformat": 4,
 "nbformat_minor": 2
}
