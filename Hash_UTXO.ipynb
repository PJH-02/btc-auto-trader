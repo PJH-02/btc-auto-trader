{
 "cells": [
  {
   "cell_type": "markdown",
   "metadata": {},
   "source": [
    "네트워크 보안 및 해시레이트 (Network & Mining Data) 활용 전략\n",
    "\n",
    "비트코인 네트워크의 보안 상태 및 채굴자들의 행동을 분석하여 시장 안정성과 가격 변화를 예측할 수 있습니다.\n",
    "\n",
    "-> 해시레이트와 난이도 기반 트렌드 분석\n",
    "\n",
    "지표: hash-rate, difficulty\n",
    "\n",
    "전략:\n",
    "\n",
    "해시레이트 상승 → 네트워크 강세 (채굴자들이 장기 보유 예상) → 강세 신호\n",
    "\n",
    "해시레이트 급락 → 채굴자들이 BTC를 덤핑할 가능성 → 약세 신호\n",
    "\n",
    "\n",
    "📌 예시: 2021년 중국의 채굴 금지 조치 이후 해시레이트 급락 → BTC 가격 하락."
   ]
  },
  {
   "cell_type": "code",
   "execution_count": 1,
   "metadata": {},
   "outputs": [
    {
     "name": "stdout",
     "output_type": "stream",
     "text": [
      "✅ 네트워크 관련 데이터 저장 완료: bitcoin_network_data.csv\n"
     ]
    }
   ],
   "source": [
    "import requests\n",
    "import pandas as pd\n",
    "from datetime import datetime, timedelta\n",
    "\n",
    "def fetch_network_data(metric, start_date, end_date):\n",
    "    \"\"\"Blockchain Data API에서 네트워크 및 채굴 데이터를 가져오는 함수\"\"\"\n",
    "    url = f\"https://api.blockchain.info/charts/{metric}?timespan=10years&format=json&sampled=false\"\n",
    "    response = requests.get(url)\n",
    "    data = response.json()\n",
    "\n",
    "    if \"values\" not in data:\n",
    "        print(f\"⚠️ API 응답 오류: '{metric}' 데이터에 'values' 키가 없습니다.\")\n",
    "        return pd.DataFrame()\n",
    "    \n",
    "    timestamps = [entry[\"x\"] for entry in data[\"values\"]]\n",
    "    values = [entry[\"y\"] for entry in data[\"values\"]]\n",
    "\n",
    "    df = pd.DataFrame({\"timestamp\": timestamps, metric: values})\n",
    "    df[\"timestamp\"] = pd.to_datetime(df[\"timestamp\"], unit=\"s\")\n",
    "\n",
    "    # 날짜 범위 필터링\n",
    "    df = df[(df[\"timestamp\"] >= start_date) & (df[\"timestamp\"] <= end_date)]\n",
    "    \n",
    "    return df\n",
    "\n",
    "# 5년 데이터 요청\n",
    "start_date = datetime.now() - timedelta(days=1825)\n",
    "end_date = datetime.now()\n",
    "\n",
    "# 가져올 네트워크 관련 데이터\n",
    "network_metrics = [\"hash-rate\", \"difficulty\"]\n",
    "df_network = fetch_network_data(network_metrics[0], start_date, end_date)\n",
    "\n",
    "for metric in network_metrics[1:]:\n",
    "    temp_df = fetch_network_data(metric, start_date, end_date)\n",
    "    if not temp_df.empty:\n",
    "        df_network = df_network.merge(temp_df, on=\"timestamp\", how=\"left\")\n",
    "\n",
    "# 데이터 저장\n",
    "df_network.to_csv(\"bitcoin_network_data.csv\", index=False)\n",
    "print(\"✅ 네트워크 관련 데이터 저장 완료: bitcoin_network_data.csv\")"
   ]
  },
  {
   "cell_type": "markdown",
   "metadata": {},
   "source": [
    "3. UTXO 활용 전략\n",
    "\n",
    "UTXO는 비트코인 보유자들의 행동 패턴을 분석하는 데 중요한 역할을 합니다.\n",
    "\n",
    "*아래 코드 utxo 총 개수만 읽음*"
   ]
  },
  {
   "cell_type": "code",
   "execution_count": 2,
   "metadata": {},
   "outputs": [
    {
     "name": "stdout",
     "output_type": "stream",
     "text": [
      "✅ UTXO 관련 데이터 저장 완료: bitcoin_utxo_data.csv\n"
     ]
    }
   ],
   "source": [
    "def fetch_utxo_data(metric, start_date, end_date):\n",
    "    \"\"\"Blockchain Data API에서 UTXO 관련 데이터를 가져오는 함수\"\"\"\n",
    "    url = f\"https://api.blockchain.info/charts/{metric}?timespan=5years&format=json&sampled=false\"\n",
    "    response = requests.get(url)\n",
    "    data = response.json()\n",
    "\n",
    "    if \"values\" not in data:\n",
    "        print(f\"⚠️ API 응답 오류: '{metric}' 데이터에 'values' 키가 없습니다.\")\n",
    "        return pd.DataFrame()\n",
    "    \n",
    "    timestamps = [entry[\"x\"] for entry in data[\"values\"]]\n",
    "    values = [entry[\"y\"] for entry in data[\"values\"]]\n",
    "\n",
    "    df = pd.DataFrame({\"timestamp\": timestamps, metric: values})\n",
    "    df[\"timestamp\"] = pd.to_datetime(df[\"timestamp\"], unit=\"s\")\n",
    "\n",
    "    # 날짜 범위 필터링\n",
    "    df = df[(df[\"timestamp\"] >= start_date) & (df[\"timestamp\"] <= end_date)]\n",
    "    \n",
    "    return df\n",
    "\n",
    "# 가져올 UTXO 관련 데이터\n",
    "utxo_metrics = [\"utxo-count\", \"total-bitcoins\"]\n",
    "df_utxo = fetch_utxo_data(utxo_metrics[0], start_date, end_date)\n",
    "\n",
    "# 데이터 저장\n",
    "df_utxo.to_csv(\"bitcoin_utxo_data.csv\", index=False)\n",
    "print(\"✅ UTXO 관련 데이터 저장 완료: bitcoin_utxo_data.csv\")"
   ]
  },
  {
   "cell_type": "code",
   "execution_count": null,
   "metadata": {},
   "outputs": [],
   "source": []
  }
 ],
 "metadata": {
  "kernelspec": {
   "display_name": "Python 3",
   "language": "python",
   "name": "python3"
  },
  "language_info": {
   "codemirror_mode": {
    "name": "ipython",
    "version": 3
   },
   "file_extension": ".py",
   "mimetype": "text/x-python",
   "name": "python",
   "nbconvert_exporter": "python",
   "pygments_lexer": "ipython3",
   "version": "3.12.3"
  }
 },
 "nbformat": 4,
 "nbformat_minor": 2
}
