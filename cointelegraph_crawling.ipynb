{
 "cells": [
  {
   "cell_type": "code",
   "execution_count": 10,
   "metadata": {},
   "outputs": [
    {
     "name": "stdout",
     "output_type": "stream",
     "text": [
      "Cointelegraph Markets 섹션에서 기사를 크롤링 중...\n",
      "기사 저장: Bitcoin reclaims $80K zone as BNB, TON, GT, ATOM hint at altcoin season (2025-03-16)\n",
      "기사 저장: Bitcoin gets $126K June target as data predicts bull market comeback (2025-03-16)\n",
      "기사 저장: Toncoin in 'great entry zone' as Pavel Durov's France exit fuels TON price rally (2025-03-16)\n",
      "기사 저장: Forget Solana, XRP may flip Ethereum first amid 5-year high (2025-03-16)\n",
      "기사 저장: Bitcoin’s role as an inflation hedge depends on where one lives — Analyst (2025-03-15)\n",
      "기사 저장: Bitcoin poised to reclaim $90,000, according to derivatives metrics (2025-03-15)\n",
      "기사 저장: Hyperliquid’s mystery 50x ETH whale is now betting on LINK (2025-03-14)\n",
      "기사 저장: Growth in Bitcoin and stablecoin adoption could accelerate dedollarization (2025-03-14)\n",
      "기사 저장: Bitcoin bull market in peril as US recession and tariff worries loom (2025-03-14)\n",
      "기사 저장: Price analysis 3/14: BTC, ETH, XRP, BNB, SOL, ADA, DOGE, PI, LEO, LINK (2025-03-14)\n",
      "기사 저장: Watch these Bitcoin price levels as BTC retests key $84K resistance (2025-03-14)\n",
      "기사 저장: Bitcoin-to-gold ratio breaks 12-year support as gold price hits a record $3K (2025-03-14)\n",
      "기사 저장: Why is Bitcoin price stuck? (2025-03-14)\n",
      "기사 저장: ZKsync sunsets liquidity program amid bearish market (2025-03-14)\n",
      "기사 저장: Bitcoin panic selling costs new investors $100M in 6 weeks — Research (2025-03-14)\n",
      "기사 저장: XRP price poised for 46% gains after Ripple secures first Dubai license (2025-03-14)\n",
      "기사 저장: Crypto regulation shifts as Bitcoin eyes $105K amid liquidity boost (2025-03-14)\n",
      "기사 저장: Solana price bottom below $100? Death cross hints at 30% drop (2025-03-14)\n",
      "기사 저장: Bitcoin price drops 2% as falling inflation boosts US trade war fears (2025-03-13)\n",
      "기사 저장: Trump family held talks with Binance for stake in crypto exchange — Report (2025-03-13)\n",
      "기사 저장: Will Bitcoin price reclaim $95K before the end of March? (2025-03-13)\n",
      "기사 저장: Bybit CEO on ‘brutal’ $4M Hyperliquid loss: Lower leverage as positions grow (2025-03-13)\n",
      "기사 저장: 3 reasons why Ethereum can outperform its rivals after crashing to 17-month lows (2025-03-13)\n",
      "기사 저장: Bitcoin must secure weekly close above $89K to confirm bottom has passed (2025-03-13)\n",
      "기사 저장: Ethereum 'falling knife' warning: Is another 30% crash versus Bitcoin coming? (2025-03-13)\n",
      "기사 저장: ETH/BTC hits 5-year low as trader suggests rotation into stronger alts (2025-03-13)\n",
      "기사 저장: Crypto trading volume slumps, signaling market exhaustion: Analysis (2025-03-13)\n",
      "기사 저장: Bitcoin dominance hits new highs, alts fade: Research (2025-03-13)\n",
      "기사 저장: SEC postpones ruling on Fidelity Ether ETF options (2025-03-13)\n",
      "기사 저장: Will Ethereum price bottom at $1.6K? (2025-03-13)\n",
      "기사 저장: Price analysis 3/12: BTC, ETH, XRP, BNB, SOL, ADA, DOGE, PI, LEO, HBAR (2025-03-13)\n",
      "기사 저장: Bitcoin battles US sellers as CPI inflation sees first drop since mid-2024 (2025-03-12)\n",
      "기사 저장: Why is XRP price up today? (2025-03-12)\n",
      "기사 저장: Crypto whale liquidated for $308M in leveraged Ether trade (2025-03-12)\n",
      "기사 저장: XRP ETF: Here are the funds awaiting SEC approval so far (2025-03-12)\n",
      "기사 저장: Bitcoin’s next catalyst: End of $36T US debt ceiling suspension (2025-03-12)\n",
      "기사 저장: Is Bitcoin price going to crash again? (2025-03-12)\n",
      "기사 저장: Bitcoin whales hint at $80K ‘market rebound’ as Binance inflows cool (2025-03-12)\n",
      "기사 저장: Why is Bitcoin price up today? (2025-03-12)\n",
      "기사 저장: Bitcoin high-entry buyers are driving sell pressure, price may ‘floor’ at $70K (2025-03-12)\n",
      "기사 저장: Bitcoin jumps 7% despite metrics flashing ‘bearish territory’ (2025-03-12)\n",
      "기사 저장: 4 signs that $76.7K Bitcoin is probably the ultimate low (2025-03-12)\n",
      "기사 저장: Bitcoin dips below $80K as Trump Canada tariffs halt BTC price comeback (2025-03-11)\n",
      "기사 저장: 3 reasons XRP might drop to $1.60 in March (2025-03-11)\n",
      "기사 저장: Why is Dogecoin price down today? (2025-03-11)\n",
      "기사 저장: Why is Ethereum (ETH) price down today? (2025-03-11)\n",
      "기사 저장: Why is Cardano price down today? (2025-03-11)\n",
      "기사 저장: Bitcoin price bounces 4% as data gives ‘89% chance’ stocks bottom is in (2025-03-11)\n",
      "기사 저장: Why is XRP price down today? (2025-03-11)\n",
      "기사 저장: Investors flee from risk assets as JPMorgan ups recession odds to 40% (2025-03-11)\n",
      "기사 저장: 4 things must happen before Ethereum can reclaim $2,600 (2025-03-11)\n",
      "기사 저장: Crypto needs policy change more than Bitcoin reserve — Execs (2025-03-11)\n",
      "기사 저장: Price analysis 3/10: SPX, DXY, BTC, ETH, XRP, BNB, SOL, DOGE, ADA, PI (2025-03-11)\n",
      "기사 저장: Bitcoin nears $78K lows as US stocks dive at the Wall Street open (2025-03-11)\n",
      "기사 저장: Bitcoin may benefit from US stablecoin dominance push (2025-03-10)\n",
      "기사 저장: Ethereum price bottom? $1.8B in ETH leaves exchanges, biggest outflow since 2022 (2025-03-10)\n",
      "기사 저장: European lawmakers silent on US Bitcoin reserve amid digital euro push (2025-03-10)\n",
      "기사 저장: Why is the crypto market down today? (2025-03-10)\n",
      "기사 저장: Strategy’s Bitcoin stash still up over $7B despite market downturn (2025-03-10)\n",
      "기사 저장: Bitcoin ‘Monte Carlo’ model forecasts $713K peak in 6 months (2025-03-10)\n",
      "기사 저장: Is XRP price going to crash again? (2025-03-10)\n",
      "기사 저장: Biggest red weekly candle ever: 5 things to know in Bitcoin this week (2025-03-10)\n",
      "기사 저장: Bitcoin slides another 3% — Is BTC price headed for $69K next? (2025-03-10)\n",
      "기사 저장: XRP price risks another 20% drop after ‘Digital Asset Stockpile’ letdown (2025-03-08)\n",
      "기사 저장: 50% of female crypto investors seek long-term wealth creation — Survey (2025-03-08)\n",
      "기사 저장: US Bitcoin reserve prompts $370 million in ETF outflows: Farside (2025-03-08)\n",
      "기사 저장: 4 reasons why Solana (SOL) price could rally back to $180 (2025-03-08)\n",
      "기사 저장: US Bitcoin reserve ups volatility, futures recoil (2025-03-08)\n",
      "기사 저장: Bitcoin price all-time highs historically linked to US Dollar Index declines — Analyst (2025-03-08)\n",
      "기사 저장: Price analysis 3/7: BTC, ETH, XRP, BNB, SOL, ADA, DOGE, PI, HBAR, LINK (2025-03-08)\n",
      "기사 저장: Bitcoin leaps toward $90K as US jobs data offers pre-crypto summit boost (2025-03-08)\n",
      "기사 저장: Why is Solana (SOL) price down today? (2025-03-07)\n",
      "기사 저장: Bitcoin analysts predict limited upside after BTC reserve disappointment (2025-03-07)\n",
      "기사 저장: Bitcoin forgets Strategic Reserve 'sell the news event' with 4% bounce (2025-03-07)\n",
      "기사 저장: Why is Bitcoin price down today? (2025-03-07)\n",
      "기사 저장: Bitcoin has ‘more than 50% chance’ of new high by June: Cory Klippsten (2025-03-07)\n",
      "기사 저장: Bitcoin plunges 6% as Trump’s crypto reserve falls short of hopes (2025-03-07)\n",
      "기사 저장: US crypto reserve could boost Bitcoin market cap by $460B — Research (2025-03-07)\n",
      "기사 저장: Bitcoin price rebound breaks down before key level is hit — Here is why (2025-03-07)\n",
      "기사 저장: Total crypto market cap could top $4 trillion in Q2 — Analyst (2025-03-07)\n",
      "기사 저장: What Bitcoin reserve? BTC price slips back below $90K (2025-03-07)\n",
      "기사 저장: Bitcoin, ETH, XRP, SOL, ADA charts versus US crypto reserve rumors — Which to trade? (2025-03-07)\n",
      "기사 저장: Solana DEX volumes still rival Ethereum’s despite memecoin meltdown: VanEck (2025-03-07)\n",
      "기사 저장: Litecoin traders say LTC price dips below $100 are ‘accumulation’ opportunities (2025-03-07)\n",
      "기사 저장: Bitwise makes first institutional DeFi allocation (2025-03-07)\n",
      "기사 저장: New York bill aims to protect crypto investors from memecoin rug pulls (2025-03-06)\n",
      "기사 저장: Bitcoin struggles near $90K as US tariff fears spook ETF investors (2025-03-06)\n",
      "기사 저장: Ethereum most 'undervalued' in 17-months — Can ETH return to $4K? (2025-03-06)\n",
      "기사 저장: Why is the crypto market up today? (2025-03-06)\n",
      "기사 저장: Bitcoin gets March 25 'blast-off date' as US dollar hits 4-month low (2025-03-06)\n",
      "기사 저장: Bitcoin reclaims $92K, but sentiment still stuck in ‘Extreme Fear’ (2025-03-06)\n",
      "기사 저장: Falling US dollar is signaling a strong quarter for crypto: Raoul Pal (2025-03-06)\n",
      "기사 저장: Ethereum price ‘double top’ hints at 42% drop as ETH bull market ends (2025-03-06)\n",
      "기사 저장: Bitcoin volatility soars amid US crypto reserve, tariff jitters (2025-03-06)\n",
      "기사 저장: Ethereum (ETH) price pinned below $2.2K — Here’s why (2025-03-06)\n",
      "기사 저장: XRP/ETH pair targets 160% rally according to bull market cycle history (2025-03-06)\n",
      "기사 저장: XRP traders eye rally to new all-time highs at $5.85 as key support holds (2025-03-06)\n",
      "기사 저장: Price analysis 3/5: BTC, ETH, XRP, BNB, SOL, ADA, DOGE, PI, HBAR, LINK (2025-03-06)\n",
      "기사 저장: Bitcoin trader eyes $78K BTC price retest as US seen delaying reserve (2025-03-06)\n",
      "기사 저장: 3 reasons why Bitcoin sells off on Trump tariff news (2025-03-05)\n",
      "기사 저장: Solana sees $485M outflows in February as crypto capital flees to ‘safety’ (2025-03-05)\n",
      "기사 저장: Bitcoin price metric that called 2020 bull run says $69K new bottom (2025-03-05)\n",
      "기사 저장: Why is Cardano (ADA) price up today? (2025-03-05)\n",
      "기사 저장: Bitcoin will ‘likely continue to consolidate’ in this pullback phase — Analyst (2025-03-05)\n",
      "기사 저장: Bitcoin will face ‘significant resistance’ reclaiming $94K: Analysts (2025-03-05)\n",
      "기사 저장: Bitcoin price stabilizes near $83K as investors eye S&P 500 recovery (2025-03-05)\n",
      "기사 저장: Bitcoin sags toward $80K as US dollar strength bounces off 12-week low (2025-03-05)\n",
      "기사 저장: Is crypto’s ‘Trump effect’ short-lived? (2025-03-05)\n",
      "기사 저장: How low can the Bitcoin price go? (2025-03-04)\n",
      "기사 저장: Bitcoin no longer ‘safe haven’ as $82K BTC price dive leaves gold on top (2025-03-04)\n",
      "기사 저장: XRP ‘distribution’ hits record level as the altcoin trades below $3 (2025-03-04)\n",
      "기사 저장: Bitcoin price action mirrors 2019 ‘Xi pump,’ are new BTC lows incoming? (2025-03-04)\n",
      "기사 저장: Trump crypto strategic reserve coins ‘ADA, XRP, SOL’ dump, Bitcoin follows (2025-03-04)\n",
      "기사 저장: Traders longing ADA futures spike after Trump’s crypto reserve reveal: Bitrue (2025-03-04)\n",
      "기사 저장: Bitcoin price dumps again — Will $90K turn into resistance or support? (2025-03-04)\n",
      "기사 저장: Bitcoin returns under $90K as crypto market liquidates $150M in hours (2025-03-04)\n",
      "기사 저장: Why is Ethereum (ETH) price up today? (2025-03-03)\n",
      "기사 저장: Why is Solana (SOL) price up today? (2025-03-03)\n",
      "기사 저장: Biggest CME gap ever at $85K: 5 things to know in Bitcoin this week (2025-03-03)\n",
      "기사 저장: XRP, ADA, SOL go parabolic after Trump US crypto reserve post: Will other altcoins follow? (2025-03-03)\n",
      "기사 저장: Bitcoin price jumps to $93K as XRP 'flips' Ethereum by fully diluted value (2025-03-03)\n",
      "기사 저장: What is Bitcoin price going to do next? — Bear trap, bottom, or oversold bounce? (2025-03-01)\n",
      "기사 저장: Bitcoin spot and margin longs push BTC to $85K, but the bottom isn’t in yet (2025-03-01)\n",
      "기사 저장: XRP price to $18K? — One crypto ‘research’ group says it’s possible (2025-03-01)\n",
      "기사 저장: Bitcoin’s ‘Trump trade’ is over — Traders shift hope to Fed rate cuts, expanding global liquidity (2025-03-01)\n",
      "기사 저장: Solana rallies 16% after SOL RSI drops to 2023 low: Was that the bottom? (2025-03-01)\n",
      "기사 저장: SEC again delays Ether ETF options on Cboe (2025-03-01)\n",
      "기사 저장: Bitcoin rebounds to $84K — Analysts say BTC crash was ultimate buy signal (2025-03-01)\n",
      "기사 저장: BlackRock adds BTC ETF to model portfolio (2025-03-01)\n",
      "기사 저장: Price analysis 2/28: BTC, ETH, XRP, BNB, SOL, DOGE, ADA, LTC, LINK, AVAX (2025-03-01)\n",
      "기사 저장: Bitcoin price metric hits ‘optimal DCA’ zone not seen since BTC traded in $50K to $70K range (2025-03-01)\n",
      "기사 저장: Bitcoin price bounces 5% as analyst sees crypto slump end in March (2025-03-01)\n",
      "기사 저장: XRP price can rise 50% to $3 if key support level holds — Analysts (2025-02-28)\n",
      "기사 저장: February in charts: SEC drops 6 cases, memecoin craze cools and more (2025-02-28)\n",
      "기사 저장: Ethereum nears 2-year low weekly close — Why $2K ETH price must hold (2025-02-28)\n",
      "기사 저장: Bitcoin’s correction may extend to April: Matrixport research (2025-02-28)\n",
      "기사 저장: When will Bitcoin price bottom? (2025-02-28)\n",
      "기사 저장: Bitcoin needs ‘to find real organic buyers’ to resume uptrend — VC (2025-02-28)\n",
      "기사 저장: Bitcoin sheds nearly all Trump election gains in plummet under $80K (2025-02-28)\n",
      "기사 저장: Bitcoin analyst eyes ‘near term floor’ as crypto fear hits redline (2025-02-28)\n",
      "기사 저장: Hyperliquid flips Solana in fees, but is the ‘HYPE’ justified? (2025-02-28)\n",
      "기사 저장: Brutal 20% Ethereum price sell-off is not over, but is there a silver lining for ETH? (2025-02-28)\n",
      "기사 저장: Bitcoin futures and spot ETF traders capitulate as BTC looks for a bottom (2025-02-28)\n",
      "기사 저장: The crypto exchange listing conundrum continues: Why newly listed tokens keep crashing (2025-02-28)\n",
      "기사 저장: Bitcoin retreats to $85K as US confirms March Canada, Mexico tariffs (2025-02-28)\n",
      "기사 저장: Solana TVL drops 40% as SOL price risks further losses to $110 (2025-02-27)\n",
      "기사 저장: Is BTC price about to fill a $78K Bitcoin futures gap? (2025-02-27)\n",
      "기사 저장: Why is Litecoin (LTC) price up today? (2025-02-27)\n",
      "기사 저장: Crypto fear index reaches Celsius, Terra, 3AC collapse levels (2025-02-27)\n",
      "기사 저장: Key metric shows Bitcoin hasn’t peaked, has bullish year ahead: Analyst (2025-02-27)\n",
      "기사 저장: Bitcoin bottom isn’t in: Traders target $74K zone as Trump EU tariff threat destroys markets (2025-02-27)\n",
      "기사 저장: XRP open interest drops to 2025 low — Are altcoin traders giving up? (2025-02-27)\n",
      "기사 저장: Litecoin (LTC) price rallies while Bitcoin and the wider crypto market crash (2025-02-27)\n",
      "기사 저장: Solana (SOL) price sell-off accelerates — Will traders defend the $130 support? (2025-02-27)\n",
      "기사 저장: Leveraged MicroStrategy ETF down 81% since November (2025-02-27)\n",
      "기사 저장: Bitcoin price falls to $83.4K — Should BTC traders expect a swift recovery? (2025-02-27)\n",
      "기사 저장: Price analysis 2/26: BTC, ETH, XRP, BNB, SOL, DOGE, ADA, LINK, SUI, AVAX (2025-02-27)\n",
      "기사 저장: Bitcoin sets new 3-month low as analyst eyes $93.5K reclaim 'this week' (2025-02-27)\n",
      "기사 저장: Bitcoin price 'top is not in' as Wyckoff model hints at $100K retest (2025-02-26)\n",
      "기사 저장: Short-term crypto traders sent record 79.3K Bitcoin to exchanges as BTC crashed to $86K (2025-02-26)\n",
      "기사 저장: M2 money supply could trigger a ‘parabolic’ Bitcoin rally — Analyst (2025-02-26)\n",
      "기사 저장: Crypto market is seeing a ‘tactical retreat, not a reversal’ — Binance CEO (2025-02-26)\n",
      "기사 저장: 3 reasons why Solana (SOL) price is 50% down from its all-time high (2025-02-26)\n",
      "기사 저장: Solana price unlikely to bounce back quickly: Here’s why (2025-02-26)\n",
      "기사 저장: Whales shift 26.4K Bitcoin to accumulation addresses as BTC falls to 3-month low (2025-02-26)\n",
      "기사 저장: Microstrategy stock down 16% YTD amid Bitcoin rout (2025-02-26)\n",
      "기사 저장: Bitcoin price enters generational buying territory — Should traders expect more downside? (2025-02-26)\n",
      "기사 저장: Bitcoin crashes to 3-month low — Will macroeconomic uncertainty spark a BTC price rebound? (2025-02-26)\n",
      "기사 저장: Bitcoin enters 'technical bear market' as BTC price drops 20% from all-time high (2025-02-26)\n",
      "기사 저장: Nasdaq files to list Grayscale Polkadot ETF (2025-02-26)\n",
      "기사 저장: BTC price levels to watch as Bitcoin skids to 3-month lows under $87K (2025-02-25)\n",
      "기사 저장: XRP price chart eyes 30% drop to $1.50 as open interest tumbles to 8-week lows (2025-02-25)\n",
      "기사 저장: Crypto sentiment sinks to ‘extreme fear’ as Trump says tariffs still on (2025-02-25)\n",
      "기사 저장: Analysts eye Bitcoin miners’ AI, chip sales ahead of Q4 earnings (2025-02-25)\n",
      "기사 저장: Ethereum’s favorable risk-return ratio has traders ‘insanely bullish’ on ETH price (2025-02-25)\n",
      "기사 저장: Ethereum price drops despite Bybit reportedly buying $700M ETH — Why? (2025-02-25)\n",
      "기사 저장: Bitcoin daily transfer volume drops 76%, but $160B net capital rise is bullish — Analyst (2025-02-25)\n",
      "기사 저장: Nasdaq files to list Canary HBAR ETF (2025-02-25)\n",
      "기사 저장: Price analysis 2/24: SPX, DXY, BTC, ETH, XRP, BNB, SOL, DOGE, ADA, LINK (2025-02-25)\n",
      "기사 저장: Crypto market weakness sparks $86K Bitcoin price target next (2025-02-25)\n",
      "기사 저장: How DeFAI can scale safely in the age of AI (2025-02-25)\n",
      "기사 저장: Strategy buys 20,356 Bitcoin for almost $2B; holdings approach 500K BTC (2025-02-24)\n",
      "기사 저장: $90K bull market support retest? 5 things to know in Bitcoin this week (2025-02-24)\n",
      "기사 저장: Bitcoin lacks strength, but ETH, BNB, XMR, and TAO show promise (2025-02-24)\n",
      "기사 저장: Bitcoin implied volatility nears record lows as Strategy signals BTC buy (2025-02-24)\n",
      "기사 저장: US crypto index ETFs off to slow start in first days since listing (2025-02-22)\n",
      "기사 저장: Solana vs Ethereum, a tale of two blockchains — Which will be the victor? (2025-02-22)\n",
      "기사 저장: Bitcoin comes back to life — Does data support a rally to $100K and higher? (2025-02-22)\n",
      "기사 저장: The LIBRA scandal exposed: Is the memecoin market rigged against you? (2025-02-22)\n",
      "기사 저장: Argentina’s crypto adoption hopes dim after Milei’s LIBRA memecoin scandal (2025-02-22)\n",
      "기사 저장: Price analysis 2/21: BTC, ETH, XRP, BNB, SOL, DOGE, ADA, LINK, SUI, XLM (2025-02-22)\n",
      "기사 저장: Bitcoin faces $100K test: Bull trap or 'bonafide' BTC price breakout? (2025-02-22)\n",
      "기사 저장: Bitcoin price must close week above $97K for 'attack to the ATH' — Analysis (2025-02-21)\n",
      "기사 저장: XRP price will see $3.20 next if key support level is reclaimed — Analyst (2025-02-21)\n",
      "기사 저장: $108K BTC price next? Bitcoin reaches bull market 'pivot point' (2025-02-21)\n",
      "기사 저장: Analyst says spot Bitcoin ETFs used for ‘massive market manipulation’ — Is he right? (2025-02-21)\n",
      "기사 저장: Muted demand for long-dated US Treasurys raises alarm — Is Bitcoin at risk? (2025-02-21)\n",
      "기사 저장: SEC acknowledgment of 3 spot XRP ETF filings could trigger rally to $6 — Analyst (2025-02-21)\n",
      "기사 저장: Spot Bitcoin ETF inflows stall, but analysts say CME BTC basis hints at price reversal (2025-02-21)\n",
      "기사 저장: Franklin Templeton launches Bitcoin, Ether index ETF (2025-02-21)\n",
      "기사 저장: Bitfinex Bitcoin long positions reach $5.1B — Is someone buying or hedging? (2025-02-20)\n",
      "기사 저장: Price analysis 2/19: BTC, ETH, XRP, SOL, BNB, DOGE, ADA, LINK, XLM, LTC (2025-02-20)\n",
      "기사 저장: $6K Ethereum (ETH) price still possible, but 2 things must happen first — Analyst (2025-02-20)\n",
      "기사 저장: Robinhood tips Singapore launch, touts memecoin interest: Report (2025-02-20)\n",
      "기사 저장: Bitcoin price ’carnage’ comes as gold hits new all-time high (2025-02-20)\n",
      "기사 저장: How long will Bitcoin’s price consolidation last? (2025-02-20)\n",
      "기사 저장: LIBRA, Solana drama: Meteora co-founder resigns, Jupiter begins probe (2025-02-19)\n",
      "기사 저장: Bitcoin bull market can survive $77K BTC price dip in 2025 — Analyst (2025-02-19)\n",
      "기사 저장: 3 reasons why stablecoin growth thrives globally — Will US follow under Trump? (2025-02-19)\n",
      "기사 저장: FTX announces next repayment round for May (2025-02-19)\n",
      "기사 저장: LIBRA memecoin scandal dings Solana’s image, but here’s the real reason why SOL is down (2025-02-19)\n",
      "기사 저장: Grayscale launches Pyth investment fund (2025-02-19)\n",
      "기사 저장: SEC acknowledges Cboe’s request to list 21Shares XRP ETF (2025-02-19)\n",
      "기사 저장: Is Ethereum bottoming out at last? Analysts weigh in (2025-02-19)\n",
      "기사 저장: Bitcoin teases August 2023 breakdown as analysis eyes $85K BTC price (2025-02-18)\n",
      "기사 저장: Ethereum price rallies to 2-week high above $2.8K — Data suggests it’s a pump-n-dump (2025-02-18)\n",
      "기사 저장: Solana shorts spike amid memecoin scandals (2025-02-18)\n",
      "기사 저장: $2B Solana unlock incoming — Is it time to hold, short or sell SOL? (2025-02-18)\n",
      "기사 저장: Price analysis 2/17: SPX, DXY, BTC, ETH, XRP, BNB, SOL, DOGE, ADA, LINK (2025-02-18)\n",
      "기사 저장: Bitcoin 'death crosses' pile up to spark $92K BTC price support retest (2025-02-18)\n",
      "기사 저장: XRP price ‘cup-and-handle’ hints at 25% gains as exchange outflows return (2025-02-17)\n",
      "기사 저장: $102K BTC price ‘short squeeze’? 5 things to know in Bitcoin this week (2025-02-17)\n",
      "기사 저장: Bitcoin trades in tight range as XRP, LT, OM, and GT aim to move higher (2025-02-17)\n",
      "기사 저장: Bitcoin price metric flips red as analysis warns of 'bearish phase' next (2025-02-17)\n",
      "기사 저장: Bitcoin's giant ’megaphone pattern’ sets $270K-300K BTC price target (2025-02-15)\n",
      "기사 저장: Bitcoin, crypto firms move to El Salvador, but success rides on banking access (2025-02-15)\n",
      "기사 저장: Bitcoin traders fearful after $651M spot BTC ETF outflows — Is a price crash coming? (2025-02-15)\n",
      "기사 저장: 2025 XRP ETF approval odds hit 81% on Polymarket (2025-02-15)\n",
      "기사 저장: Price analysis 2/14: BTC, ETH, XRP, SOL, BNB, DOGE, ADA, LINK, AVAX, SUI (2025-02-15)\n",
      "기사 저장: Binance’s CZ suggests CEXs immediately list like DEXs, prompting concerns (2025-02-15)\n",
      "기사 저장: Why is Dogecoin (DOGE) price up today? (2025-02-14)\n",
      "기사 저장: Bitcoin retail demand dips just 2% as analyst eyes BTC price breakout (2025-02-14)\n",
      "기사 저장: Bitcoin’s chance of hitting $125K by June rises as traders bid on upside: Derive (2025-02-14)\n",
      "기사 저장: Ether is at ‘peak bearishness’ and faces tipping point: Tyr Capital co-founder (2025-02-14)\n",
      "기사 저장: Ethereum TVL approaches 3-year high — Will ETH price follow? (2025-02-14)\n",
      "기사 저장: Global stablecoin use soars — Will Trump crypto policy prompt US adoption? (2025-02-14)\n",
      "기사 저장: NFT market OpenSea teases token launch (2025-02-14)\n",
      "기사 저장: 2020-era Cardano chart fractal forecasts $3 ADA price in 2025 (2025-02-14)\n",
      "기사 저장: Bitcoin battles hot US PPI as trader warns crypto ‘positioned for lower’ (2025-02-14)\n",
      "기사 저장: XRP price analyst targets $8 as ETF approval speculation intensifies (2025-02-13)\n",
      "기사 저장: Bitcoin bull run comeback? Whale exchange inflow metric nears 5-year high (2025-02-13)\n",
      "기사 저장: Why is the BNB price up today? (2025-02-13)\n",
      "기사 저장: US states lead in strategic Bitcoin reserve creation — Will Trump deliver on his BTC promise? (2025-02-13)\n",
      "기사 저장: Bitcoin price sells off after hot CPI print, but $100K remains in sight (2025-02-13)\n",
      "기사 저장: CME Group reports record crypto volumes for Q4 (2025-02-13)\n",
      "기사 저장: Price analysis 2/12: BTC, ETH, XRP, SOL, BNB, DOGE, ADA, LINK, AVAX, SUI (2025-02-13)\n",
      "기사 저장: Bitcoin traders say $400K BTC price is possible if 3 key events occur (2025-02-13)\n",
      "기사 저장: XRP risks 30% drop if critical $2.20 support fails — Analyst (2025-02-13)\n",
      "기사 저장: Bitcoin price sees $94K dip as crypto retreats on US CPI overshoot (2025-02-13)\n",
      "기사 저장: Can new Bitcoin whales stop a sub-$90K BTC price crash? (2025-02-12)\n",
      "기사 저장: Easing inflation could ignite another BTC rally: 10x Research (2025-02-12)\n",
      "기사 저장: Crypto custodian BitGo mulls IPO in 2025: Report (2025-02-12)\n",
      "기사 저장: Coinbase expected to see 109% YoY revenue increase for Q4 — Coin Metrics (2025-02-12)\n",
      "기사 저장: SEC seeks comment on in-kind redemptions for Bitcoin, Ether ETFs (2025-02-12)\n",
      "기사 저장: Solana (SOL) price softens as onchain volumes drop 28% in a week (2025-02-12)\n",
      "기사 저장: CAR’s wild memecoin ride from $600M to $35M, explained (2025-02-12)\n",
      "기사 저장: Crypto’s ‘DeFAI’ sector is down 80% — Can it come back up? (2025-02-12)\n",
      "기사 저장: Bitcoin all-time high due in ‘2-3 weeks’ as traders see BTC copying gold (2025-02-12)\n",
      "기사 저장: New Bitcoin miner ‘capitulation’ hints at sub-$100K BTC price bottom (2025-02-11)\n",
      "기사 저장: Bitcoin price rallies above $97K as institutional and retail traders’ appetites shrink (2025-02-11)\n",
      "기사 저장: Bitcoin's booming 'permanent holder demand' positions BTC price for $116K (2025-02-11)\n",
      "기사 저장: Crypto betting markets’ huge growth fuels calls for billion-dollar volumes in 2025 (2025-02-11)\n",
      "기사 저장: Bitcoin teases gains as traders say $100K now key support reclaim (2025-02-10)\n",
      "기사 저장: Most sell risk since 3AC collapse: 5 things to know in Bitcoin this week (2025-02-10)\n",
      "기사 저장: XRP futures open interest drops 37% — Are altcoin traders jumping ship? (2025-02-10)\n",
      "기사 저장: Ethereum an 'obvious buy' as accumulation addresses see record $883M ETH inflow (2025-02-09)\n",
      "기사 저장: Bitcoin OG sees $700K BTC price, $16K Ethereum in this ‘Valhalla’ cycle (2025-02-09)\n",
      "기사 저장: AI compute cannot create a new class system (2025-02-09)\n",
      "기사 저장: New agent launches on Virtuals plummet amid AI token drawdown (2025-02-08)\n",
      "기사 저장: SEC seeks more time to mull options on Ethereum ETFs (2025-02-08)\n",
      "기사 저장: Bitcoin could reach new highs in Q1 despite sluggish jobs print: Grayscale Research (2025-02-08)\n",
      "기사 저장: XRP and Solana race toward the next crypto ETF approval (2025-02-08)\n",
      "기사 저장: Bitcoin tags $100K despite warning Fed rate cut pause 'here to stay' (2025-02-08)\n",
      "기사 저장: Market analyst sees '1500% pump' in XRP price amid multiple ETF applications (2025-02-07)\n",
      "기사 저장: Bitcoin traders eye ‘huge’ US jobs data as BTC price risks $95K dip (2025-02-07)\n",
      "기사 저장: Ether derivatives netflow falls to lowest in 18 months — Why is this bullish? (2025-02-07)\n",
      "기사 저장: Bitcoin price seasonality data calls for $120K in Q1, but leverage remains BTC’s ‘biggest risk’ (2025-02-07)\n",
      "기사 저장: Bitcoin slumps as tech giant Palantir (PLTR) rallies to new highs — What gives? (2025-02-07)\n",
      "기사 저장: Bitcoin treasury adoption grows in LATAM, mirroring US strategic BTC reserve plan (2025-02-07)\n",
      "기사 저장: CME crypto volumes hit all-time high in January: CCData (2025-02-07)\n",
      "기사 저장: Traders ‘aggressively’ bought XRP after market crash sent prices under $2 — Analyst (2025-02-07)\n",
      "기사 저장: Is XRP price under $3 an opportunity or the rally's end? Analysts weigh in (2025-02-07)\n",
      "기사 저장: Bitcoin enjoys 'plenty' of demand at $98K as analyst eyes RSI breakout (2025-02-06)\n",
      "기사 저장: 4 reasons why Bitcoin remains bullish with BTC price above $98K (2025-02-06)\n",
      "기사 저장: Bitcoin chart signals ‘decisive price move’ in coming weeks: Analyst (2025-02-06)\n",
      "기사 저장: Solana app revenues up 213% in Q4: Messari (2025-02-06)\n",
      "기사 저장: Bitcoin sell pressure could ramp up after 49.7K BTC onchain move (2025-02-06)\n",
      "기사 저장: Ethereum futures optimism at monthly low — Is $2.8K a buy zone? (2025-02-06)\n",
      "기사 저장: ‘Altseason’ ended in 2024: Bitcoin dominance should hit 71% before it returns (2025-02-06)\n",
      "기사 저장: XRP price analysts bullish on $5 next, long-term target of $18 (2025-02-05)\n",
      "기사 저장: ‘Atypical’ Bitcoin bull market can extend beyond March 2025 — Research (2025-02-05)\n",
      "기사 저장: Crypto market has become ‘very confusing,’ losing all logic — Traders (2025-02-05)\n",
      "기사 저장: Crypto market may take over 2 months for ‘full recovery’ if 2022 pattern repeats (2025-02-05)\n",
      "기사 저장: The lesson of El Salvador’s failed Bitcoin experiment (2025-02-05)\n",
      "기사 저장: Time for a Solana price rebound? SOL futures are mixed, but onchain looks bullish (2025-02-05)\n",
      "기사 저장: Will Trump’s trade war bring an early end to the Bitcoin bull market? (2025-02-05)\n",
      "기사 저장: XRP bearish divergence raises chance of $2 retest — Here’s what bulls must do (2025-02-05)\n",
      "기사 저장: Bitcoin bull trap? Watch these BTC price levels as BTC price risks $90K retrace (2025-02-04)\n",
      "기사 저장: 'The worst thing that happened to Ethereum' — Bitcoin up 160% since the Merge (2025-02-04)\n",
      "기사 저장: US-China tariffs cost Bitcoin $100K mark as analyst eyes all-time high (2025-02-04)\n",
      "기사 저장: Ethereum tops $2.9K as Eric Trump says ‘it’s a great time to add ETH’ (2025-02-04)\n",
      "기사 저장: Is the Bitcoin bottom in? BTC derivatives point to limited price downside (2025-02-04)\n",
      "기사 저장: Price analysis 2/3: SPX, DXY, BTC, ETH, XRP, SOL, BNB, DOGE, ADA, LINK (2025-02-04)\n",
      "기사 저장: Risk-on assets? Trump tariffs lead to mass Bitcoin, crypto liquidations (2025-02-04)\n",
      "기사 저장: Bitcoin rebounds 7% from low as BTC price chart prints rare RSI signal (2025-02-04)\n",
      "기사 저장: Ethereum leads crypto’s $2.24B liquidation amid tariff wars (2025-02-03)\n",
      "기사 저장: BTC dominance nears 4-year high: 5 things to know in Bitcoin this week (2025-02-03)\n",
      "기사 저장: Nasdaq futures plunge 2.7% as Trump’s trade war rattles markets (2025-02-03)\n",
      "기사 저장: Bitcoin falls to $96.8K as Trump tariffs spook markets: OM, XMR, MNT, GT show promise (2025-02-03)\n",
      "기사 저장: Bitcoin dominance back above 60% as altcoins slow-bleed (2025-02-03)\n",
      "기사 저장: Bitcoin seals first $100K+ monthly close with BTC price due 'big move' (2025-02-01)\n",
      "기사 저장: Stablecoin market cap surpasses $200B as USDC dominance rises (2025-02-01)\n",
      "기사 저장: Grayscale launches Dogecoin investment fund (2025-02-01)\n",
      "기사 저장: Nayib Bukele sticks to ‘Bitcoin piggy bank’ strategy, but is it working? (2025-02-01)\n",
      "기사 저장: Bitcoin rises toward its all-time high as futures markets show interest from bulls (2025-02-01)\n",
      "기사 저장: Price analysis 1/31: BTC, ETH, XRP, SOL, BNB, DOGE, ADA, LINK, AVAX, XLM (2025-02-01)\n",
      "기사 저장: Ethereum comeback in February? Trump-linked fund buying 'truckloads of ETH' (2025-02-01)\n",
      "기사 저장: Bitcoin retail sellers send $625M to Binance before 'first cycle top' (2025-01-31)\n",
      "기사 저장: Bitcoin rallies above $106K but 3 key actions must happen for new all-time highs (2025-01-31)\n",
      "기사 저장: Solana stablecoin supply up 73% since TRUMP launch: CCData (2025-01-31)\n",
      "기사 저장: Bitcoin futures metric adds $1.2B after FOMC, but retail investor spending is down 50% — Why? (2025-01-31)\n",
      "기사 저장: Danny Ryan’s return? Ethereum wallets say yes (2025-01-31)\n",
      "기사 저장: Interest in Bitcoin-backed loans returns: Will TradFi join this time? (2025-01-31)\n",
      "기사 저장: XRP’s 50% rally outperforms crypto market in January — Is $4 the next stop? (2025-01-31)\n",
      "기사 저장: BTC price taps $106K as US GDP miss boosts Bitcoin bull case (2025-01-31)\n",
      "기사 저장: Forget FOMC — Bitcoin price now has 'plenty of room' to reach $108K (2025-01-30)\n",
      "기사 저장: Bitcoin 'leaving crypto in the dust' in 2025 despite altseason calls (2025-01-30)\n",
      "기사 저장: Ethereum price will stick below $3.5K until these 3 things happen (2025-01-30)\n",
      "기사 저장: Robinhood hints at Bitcoin futures launch (2025-01-30)\n",
      "기사 저장: Bitcoin rallies to $104.7K after Fed FOMC ‘nothing burger’ lines up with market expectations (2025-01-30)\n",
      "기사 저장: XRP bull trap lurks below $2.95 — Will altcoin traders take the bait? (2025-01-30)\n",
      "기사 저장: CME to launch options on Bitcoin ‘Friday’ futures (2025-01-30)\n",
      "기사 저장: Price analysis 1/29: BTC, ETH, XRP, SOL, BNB, DOGE, ADA, LINK, AVAX, XLM (2025-01-30)\n",
      "기사 저장: Bitcoin sellers wait at $104K as Fed faces Trump rates pressure at FOMC (2025-01-30)\n",
      "기사 저장: Bitcoin price risks 'critical' gold breakdown after 20% annual gains (2025-01-29)\n",
      "기사 저장: Bitcoin drop under $75K before April has under 10% chance: Analyst (2025-01-29)\n",
      "기사 저장: Crypto mining stocks extend losses, tech stocks steady after DeepSeek scare (2025-01-29)\n",
      "기사 저장: How Lunar New Year brightens Bitcoin and crypto trading (2025-01-29)\n",
      "기사 저장: 3 things must happen for Solana (SOL) price to rebound to new all-time highs (2025-01-29)\n",
      "기사 저장: Bitcoin preps for FOMC comments as BTC price coils near $103K (2025-01-29)\n",
      "기사 저장: Bitcoin far from 'extreme' FOMO at above $100K BTC price — Research (2025-01-29)\n",
      "기사 저장: How high can XRP price go? (2025-01-29)\n",
      "기사 저장: Bitcoin 'extremely bullish' as traders gear up for next BTC price pump (2025-01-28)\n",
      "기사 저장: Absence of Bitcoin ‘panic selling’ suggests BTC drop below $98K is a short-term blip: Analyst (2025-01-28)\n",
      "기사 저장: Bitcoin price drops under $98K as markets sell-off following DeepSeek AI launch (2025-01-28)\n",
      "기사 저장: Price analysis 1/27: SPX, DXY, BTC, ETH, XRP, SOL, BNB, DOGE, ADA, LINK (2025-01-28)\n",
      "기사 저장: Bitcoin price bounces 5%, cancels DeepSeek stocks dive as $102K returns (2025-01-28)\n",
      "기사 저장: Bitcoin falls below $100K for the first time under Trump presidency (2025-01-27)\n",
      "기사 저장: DeepSeek rout costs bulls $100K — 5 things to know in Bitcoin this week (2025-01-27)\n",
      "기사 저장: Ethereum drops 7% in January, but next 2 months typically ‘very good’ for gains (2025-01-27)\n",
      "기사 저장: SOL, LINK, OM, and RAY flash bullish signs as Bitcoin traders wait for BTC’s next move (2025-01-27)\n",
      "기사 저장: Binance Bitcoin price ‘gap’ hits record as perps stay bearish at $105K (2025-01-26)\n",
      "기사 저장: Price analysis 1/24: BTC, ETH, XRP, SOL, BNB, DOGE, ADA, LINK, AVAX, XLM (2025-01-25)\n",
      "기사 저장: Bitcoin bull market at risk? 7 indicators warn of BTC price ‘cycle top’ (2025-01-24)\n",
      "기사 저장: AI agents in DeFi: How real-time data ensures market safety (2025-01-24)\n",
      "기사 저장: Solana stablecoin supply hits $10B ATH, TVL up 800% — Can SOL price reach $1K? (2025-01-24)\n",
      "기사 저장: Crypto 'confused' on Trump stockpile as Bitcoin price rejects at $106K (2025-01-24)\n",
      "기사 저장: Ether set for ‘potential tactical breakout’ after SEC kills SAB 121 (2025-01-24)\n",
      "기사 저장: Bitcoin could top $150K before retrace in repeat of 2017 cycle, says analyst (2025-01-24)\n",
      "기사 저장: Bitcoin drops after Trump signs crypto and ‘national digital asset stockpile’ executive order (2025-01-24)\n",
      "기사 저장: BlackRock CEO wants SEC to ‘rapidly approve’ tokenization of bonds, stocks: What it means for crypto (2025-01-24)\n",
      "기사 저장: Bitcoin chart shows ‘diamond pattern’ with $96K target — What will kick off the downside? (2025-01-24)\n",
      "기사 저장: BTC price whipsaws to $106K as US strategic reserve rumors return (2025-01-24)\n",
      "기사 저장: XRP price targets $15 amid enthusiasm over CME futures launch (2025-01-23)\n",
      "기사 저장: BTC price gained 40% in 2 months when Bitcoin was last this rangebound (2025-01-23)\n",
      "기사 저장: Bitcoin not a ‘threat’ to the US dollar: Goldman Sachs CEO (2025-01-23)\n",
      "기사 저장: Ethereum whales add $1B in ETH — Is the accumulation trend hinting at a $5K ETH price? (2025-01-23)\n",
      "기사 저장: Solana price rallies to $272, but what will it take for SOL to hit new highs? (2025-01-23)\n",
      "기사 저장: Bitcoin price probably ‘chops’ in $100K–$110K range until FOMC meeting (2025-01-23)\n",
      "기사 저장: Price analysis 1/22: BTC, ETH, XRP, BNB, SOL, DOGE, ADA, AVAX, XLM, SUI (2025-01-23)\n",
      "기사 저장: Why Dogecoin price is still running toward $2 (2025-01-23)\n",
      "기사 저장: Buy Bitcoin, stock price goes up 80%: Rumble follows 'MicroStrategy' strategy (2025-01-23)\n",
      "기사 저장: US Bitcoin reserve idea sparks Davos debate on crypto’s future (2025-01-22)\n",
      "기사 저장: Watch these Bitcoin price levels next with 'door open' to $100K retest (2025-01-22)\n",
      "기사 저장: Bitcoin may hit $122K next month before ‘another consolidation’ — 10x Research (2025-01-22)\n",
      "기사 저장: Bitcoin holds above $106K as traders bite nails over the absence of Trump crypto executive order (2025-01-22)\n",
      "기사 저장: Ethereum Foundation infighting and drop in DApp volumes put cloud over ETH price (2025-01-22)\n",
      "기사 저장: Trading Bitcoin can be tricky — Here’s 3 key macroeconomic indicators worth following (2025-01-22)\n",
      "기사 저장: US asset managers file for TRUMP, DOGE ETFs (2025-01-22)\n",
      "기사 저장: 80% of Bitcoin short-term holders back in profit as analyst says ‘FOMO in full swing’ (2025-01-22)\n",
      "기사 저장: Dogecoin price jumps 13% in minutes on official US DOGE website launch (2025-01-21)\n",
      "기사 저장: TRUMP, MELANIA tokens crash hardest as memecoins bleed (2025-01-21)\n",
      "기사 저장: Bitcoin ‘fully gassed’ to leave $100K BTC price behind — Analysis (2025-01-21)\n",
      "기사 저장: Analysts say Trump presidency marks ‘a turning point’ in US crypto policy (2025-01-21)\n",
      "기사 저장: Pro-Bitcoin presidents unite — Trump, Milei, and Bukele spark crypto optimism (2025-01-21)\n",
      "기사 저장: Bitcoin traders refuse to YOLO after BTC nearly hits $110K — Why are they waiting? (2025-01-21)\n",
      "기사 저장: Price analysis 1/20: SPX, DXY, BTC, TRUMP, ETH, XRP, BNB, SOL, DOGE, ADA, LINK (2025-01-21)\n",
      "기사 저장: Bitcoin price consolidates, TRUMP memecoin sells off as Donald Trump takes office (2025-01-21)\n",
      "기사 저장: MELANIA memecoin whale nets $36.5M profit amid 'rug pull' concerns (2025-01-20)\n",
      "기사 저장: TRUMP memecoin helps SOL price beat Ethereum — Solana's TVL jumps to $12B (2025-01-20)\n",
      "기사 저장: $99K Trump 'plunge protection' — 5 things to know in Bitcoin this week (2025-01-20)\n",
      "기사 저장: Bitcoin's 10% 'god candle' hints at $130K next — Analyst (2025-01-20)\n",
      "기사 저장: BTC price nears $110K after Trump Bitcoin reserve odds spike to 60% (2025-01-20)\n",
      "기사 저장: Crypto liquidations hit $1B over 24 hours as Bitcoin plummets (2025-01-20)\n",
      "기사 저장: Donald Trump’s memecoin drops 38% as wife Melania launches token (2025-01-20)\n",
      "기사 저장: Official Trump memecoin captures crypto market trading volume as Bitcoin prepares for new highs (2025-01-20)\n",
      "기사 저장: TRUMP targets $100B market cap as Arthur Hayes calls on ‘degens’ to celebrate (2025-01-20)\n",
      "기사 저장: Bitcoin traders see $122K in weeks as BTC price breakout looms (2025-01-19)\n",
      "기사 저장: Official Trump memecoin launch breaks records, as Solana (SOL) rallies to new all-time high (2025-01-19)\n",
      "기사 저장: TRUMP memecoin makes record price run, possibly multiplying Donald Trump’s net worth by 5x (2025-01-19)\n",
      "기사 저장: XRP price bearish divergence spotted, hinting at a drop to $2.28 (2025-01-18)\n",
      "기사 저장: Dogecoin to $1? Traders say a 140% DOGE rally could happen before February (2025-01-18)\n",
      "기사 저장: Can Ethereum price go to $4K? ETH’s open interest surges as institutions turn bullish (2025-01-18)\n",
      "기사 저장: Price analysis 1/17: BTC, ETH, XRP, BNB, SOL, DOGE, ADA, AVAX, LINK, XLM (2025-01-18)\n",
      "기사 저장: Dan Tapiero predicts $10T crypto market by 2025, driven by US pro-business policies (2025-01-18)\n",
      "기사 저장: Bitcoin price still on track for $180K in 2025: Interview with Filbfilb (2025-01-18)\n",
      "기사 저장: XRP’s 2017 playbook hints at 100% rally vs Bitcoin by March (2025-01-17)\n",
      "기사 저장: Trump inauguration buzz makes Bitcoin Coinbase premium green again (2025-01-17)\n",
      "기사 저장: XRP price to $10–$50 'plausible' if spot ETF approved, ChatGPT says (2025-01-17)\n",
      "기사 저장: Trader says ETH bears are making a ‘mistake’ despite ETH/BTC 6-week slide (2025-01-17)\n",
      "기사 저장: Measly $150K target for Bitcoin this cycle is ‘silly low,' says trader (2025-01-17)\n",
      "기사 저장: Bitcoin CME gap drop to $78K possible due to fringe risks surrounding US economy (2025-01-17)\n",
      "기사 저장: Cardano (ADA) ‘bottomed’ and on verge of ‘grand bull market’ — Peter Brandt (2025-01-17)\n",
      "기사 저장: XRP key price metric up by 300% in 2025 as the altcoin hits new all-time highs (2025-01-17)\n",
      "기사 저장: Bitcoin price will hold $100K for good after three key events take place (2025-01-17)\n",
      "기사 저장: Bitcoin price slips 3%, ignores US jobs beat as XRP sees all-time high (2025-01-17)\n",
      "기사 저장: Bitcoin risks weeks of sideways moves amid $102K 'rejection' warning (2025-01-16)\n",
      "기사 저장: 60% of crypto investors are young, educated and invest under $10K — Survey (2025-01-16)\n",
      "기사 저장: Binance BTC open interest jumps $500M hours after ‘favorable’ US inflation data (2025-01-16)\n",
      "기사 저장: Monthly crypto trading on CEXs hits all-time high in December: CCData (2025-01-16)\n",
      "기사 저장: XRP rally to $3 holds, overtaking Bitcoin searches on Google Trends (2025-01-16)\n",
      "기사 저장: Solana DApp volumes shed 10%, but a rally to $230 is still possible (2025-01-16)\n",
      "기사 저장: Analysts eye Bitcoin rally after bullish CPI print (2025-01-16)\n",
      "기사 저장: Bitcoin ‘power of 3’ setup targets $103K by President-elect Trump’s inauguration day (2025-01-16)\n",
      "기사 저장: Price analysis 1/15: BTC, ETH, XRP, BNB, SOL, DOGE, ADA, AVAX, XLM, SUI (2025-01-16)\n",
      "기사 저장: Bitcoin price nears $100K as US dollar dips on CPI relief (2025-01-16)\n",
      "기사 저장: XRP re-enters top 3 cryptocurrencies, overtakes BlackRock in market cap (2025-01-16)\n",
      "기사 저장: XRP price snaps 8-year downtrend vs Bitcoin as predictions target $14 (2025-01-15)\n",
      "기사 저장: Bitcoin inflows under Trump spark new $249K BTC price target for 2025 (2025-01-15)\n",
      "기사 저장: XRP spikes 12% as whales continue 'enormous accumulation' — Santiment (2025-01-15)\n",
      "기사 저장: Bitcoin breakout ‘likely no later’ than Jan FOMC meeting: 10x Research (2025-01-15)\n",
      "기사 저장: Ethereum price rebound will take time, even if ETH data looks bullish (2025-01-15)\n",
      "기사 저장: 3 reasons why 2025 is set to be another blockbuster year for Bitcoin and crypto sector (2025-01-15)\n",
      "기사 저장: Bitcoin poised to dip further as inflation looms: Steno Research (2025-01-15)\n",
      "기사 저장: Bitcoin price cements $96K as ‘crucial’ US PPI data boosts stocks (2025-01-15)\n",
      "기사 저장: XRP rally to $4 possible after XRP/BTC pair clears 30-day resistance level (2025-01-14)\n",
      "기사 저장: Bitcoin price dip below $90K driven by investors bracing for upcoming economic risks (2025-01-14)\n",
      "기사 저장: Price analysis 1/13: SPX, DXY, BTC, ETH, XRP, BNB, SOL, DOGE, ADA, AVAX (2025-01-14)\n",
      "기사 저장: Can Bitcoin crash to $69K? Watch these BTC price levels at 2-month lows (2025-01-14)\n",
      "기사 저장: Bitcoin technical indicator predicts BTC price cycle top in summer 2025 (2025-01-13)\n",
      "기사 저장: Strongest US dollar since 2022 bear market: 5 things to know in Bitcoin this week (2025-01-13)\n",
      "기사 저장: Bitcoin traders share their ‘PvP’ views on BTC’s recent price weakness (2025-01-13)\n",
      "기사 저장: XRP, HBAR, BGB and XMR flash bullish signs as Bitcoin searches for direction (2025-01-13)\n",
      "기사 저장: XRP price eyes 60% gain ahead of Gary Gensler’s SEC exit (2025-01-13)\n",
      "기사 저장: Bitcoin needs 'sharp bounce' at $88K as S&P 500 echoes COVID-19 crash (2025-01-11)\n",
      "기사 저장: Bitcoin analysts explain why BTC could avoid a drop under $90K (2025-01-11)\n",
      "기사 저장: Price analysis 1/10: BTC, ETH, XRP, BNB, SOL, DOGE, ADA, AVAX, SUI, TON (2025-01-11)\n",
      "기사 저장: Did Bitcoin bottom at $92K? These 3 BTC charts say the worst is over (2025-01-11)\n",
      "기사 저장: Spot Bitcoin ETFs broke records in 2024 — Can they do it again in 2025? (2025-01-11)\n",
      "기사 저장: Bitcoin price drops 1.5% on Fed rate cut gloom as $88K remains in play (2025-01-11)\n",
      "기사 저장: Bitcoin speculators panic sell at $92K in 'good time for accumulation' (2025-01-10)\n",
      "기사 저장: Fed officials lean ‘neutral’ on policy but expect clarity once Trump begins (2025-01-10)\n",
      "기사 저장: Crypto sentiment index drops to October levels as Bitcoin dips under $92K (2025-01-10)\n",
      "기사 저장: Crypto headed for ‘Banana Singularity’ where everything goes up: Analyst (2025-01-10)\n",
      "기사 저장: 56% of advisers more likely to invest in crypto after Trump win: Bitwise survey (2025-01-10)\n",
      "기사 저장: XRP price preps for 'powerful move' above $2.90 as sentiment metrics signal optimism (2025-01-10)\n",
      "기사 저장: Bitcoin’s Trump trade dented by rising yields and strong US dollar (2025-01-10)\n",
      "기사 저장: Is the Bitcoin bull run ending? Analyst says metrics don’t point to a ‘market peak’ yet (2025-01-10)\n",
      "기사 저장: US cleared to sell $6.5B in Bitcoin — Will it crash BTC price? (2025-01-10)\n",
      "기사 저장: Bitcoin will hit $1.5M by 2035, says analyst who called 2024 bounce (2025-01-09)\n",
      "기사 저장: Bitcoin investors exit spot ETFs at near-record levels as BTC slumps 2.3% (2025-01-09)\n",
      "기사 저장: DOGE ’extremely quiet’ social chatter could be an opportunity: Analyst (2025-01-09)\n",
      "기사 저장: Bitcoin traders set $80K short-term price target as DXY hits new highs (2025-01-09)\n",
      "기사 저장: Pudgy Penguins’ NFT sales nosedive as token rallies: Nifty Newsletter (2025-01-09)\n",
      "기사 저장: Bitcoin price dip to $92.5K caused by Fed interest rate concerns: Analyst (2025-01-09)\n",
      "기사 저장: Price analysis 1/8: BTC, ETH, XRP, BNB, SOL, DOGE, ADA, AVAX, SUI, LINK (2025-01-09)\n",
      "기사 저장: Bitcoin hourly RSI falls to most 'oversold' since $60K BTC price (2025-01-08)\n",
      "기사 저장: 'Trump dump' risks pulling Bitcoin price down to $88K (2025-01-08)\n",
      "기사 저장: Ether could hit $12K on Trump pump, Pectra update: Derive researcher (2025-01-08)\n",
      "기사 저장: Bitcoin downward pressure ‘abated’ as sell-side markets shrink (2025-01-08)\n",
      "기사 저장: Bitcoin’s brief rally to $100K triggers record 5.4K BTC monthly outflow (2025-01-08)\n",
      "기사 저장: BTC price loses 4% on US JOLTS data as Bitcoin trader warns of $92K dip (2025-01-08)\n",
      "기사 저장: XRP market cap of $500B 'possible' within 6 weeks, says veteran trader (2025-01-07)\n",
      "기사 저장: Bitcoin gurus see these BTC price levels hitting next as $100K holds (2025-01-07)\n",
      "기사 저장: How high can Bitcoin price go? (2025-01-07)\n",
      "기사 저장: Bitcoin traders target $138K BTC price after Coinbase premium hits ‘breakeven point’ (2025-01-07)\n",
      "기사 저장: Price analysis 1/06: SPX, DXY, BTC, ETH, XRP, BNB, SOL, DOGE, ADA, AVAX (2025-01-07)\n",
      "기사 저장: BTC price tops $101K as MicroStrategy makes first Bitcoin buy of 2025 (2025-01-07)\n",
      "기사 저장: XRP price chart 'bull flag' targets $15 amid increasing open interest (2025-01-06)\n",
      "기사 저장: Back to $76K for 2025? 5 things to know in Bitcoin this week (2025-01-06)\n",
      "기사 저장: Bitcoin price move above $100K could pull SOL, SUI, ICP and ENA higher (2025-01-06)\n",
      "기사 저장: Bitcoin ETF inflows rebound to 6-week highs as BTC price reclaims $97K (2025-01-04)\n",
      "기사 저장: Price analysis 1/3: BTC, ETH, XRP, BNB, SOL, DOGE, ADA, AVAX, LINK, TON (2025-01-04)\n",
      "기사 저장: Bitcoin bulls run at $97K: Key BTC price resistance levels to beat (2025-01-04)\n",
      "기사 저장: 'Parabolic' Bitcoin is a buy at $80K if BTC price tracks stocks — Research (2025-01-03)\n",
      "기사 저장: Bitcoin traders see 'massive' $130K+ BTC price next as TradFi returns (2025-01-02)\n",
      "기사 저장: Memecoins will continue to lose market share to AI agent coins: Dragonfly VC (2025-01-02)\n",
      "기사 저장: Bitcoin ’seller pressure’ pushes Coinbase premium index to 12-month low (2025-01-02)\n",
      "기사 저장: Improving Bitcoin price metrics highlight bears’ dwindling confidence in sub-$95K BTC (2025-01-02)\n",
      "기사 저장: How ETH, SOL, SUI and AAVE could respond to new Bitcoin price ATHs in 2025 (2025-01-02)\n",
      "기사 저장: Price analysis 1/1: BTC, ETH, XRP, BNB, SOL, DOGE, ADA, AVAX, LINK, TON (2025-01-02)\n",
      "기사 저장: Ether could struggle to deliver meaningful rallies in 2025: 10x Research (2025-01-01)\n",
      "기사 저장: Bitcoin price ‘stuck in a void between liquidity’ on NYE — Will 2025 open bring the volume? (2025-01-01)\n",
      "기사 저장: AI agents ‘perfectly parallel’ the dawn of the corporation — Bitwise CEO (2024-12-31)\n",
      "기사 저장: MicroStrategy shares slip 8% after its end-of-year Bitcoin buy (2024-12-31)\n",
      "기사 저장: Does bearish Bitcoin chart pattern mean $76K BTC price before Trump inauguration? (2024-12-31)\n",
      "기사 저장: Price analysis 12/30: SPX, DXY, BTC, ETH, XRP, BNB, SOL, DOGE, ADA, AVAX (2024-12-31)\n",
      "기사 저장: BTC price ‘breakdown confirmed?’ 5 things to know in Bitcoin this week (2024-12-30)\n",
      "기사 저장: Bitcoin chart pattern hints at sub $80K drop: BNB, AAVE, XMR and VIRTUAL still look strong (2024-12-30)\n",
      "기사 저장: Bitcoin dips below $94K level, bears now in control? (2024-12-30)\n",
      "기사 저장: Bitcoin trader eyes yearly close 'games' as Q4 BTC price gains top 50% (2024-12-29)\n",
      "기사 저장: Will Solana price hold $180 after 30% drop in weekly DApp volumes? (2024-12-28)\n",
      "기사 저장: Dogecoin price ‘conservative target’ starts at $2.35 based on DOGE bull market fractal (2024-12-28)\n",
      "기사 저장: Price analysis 12/27: BTC, ETH, XRP, BNB, SOL, DOGE, ADA, AVAX, LINK, TON (2024-12-28)\n",
      "기사 저장: Bitcoin analyst warns 'huge dump' amid recovering stablecoin dominance (2024-12-27)\n",
      "기사 저장: XRP price warning signs emerge after 300% gains in two months (2024-12-27)\n",
      "기사 저장: Bitcoin 'head and shoulders' pattern risks $80K BTC price dip — Analyst (2024-12-27)\n",
      "기사 저장: BTC could rebound in ‘coming days’ as metric signals growing buy pressure (2024-12-27)\n",
      "기사 저장: Is the Bitcoin DCA opportunity over? Here’s what traders are thinking (2024-12-27)\n",
      "기사 저장: XRP price must reclaim $2.30 to absorb buy wall — Analyst (2024-12-27)\n",
      "기사 저장: Ethereum price falls to $3.3K, but data shows ETH bulls are still in control (2024-12-27)\n",
      "기사 저장: Bitcoin price dips 4% as TradingView 'glitch' sends dominance to zero (2024-12-26)\n",
      "기사 저장: Binance Bitcoin reserves hit January levels — months before BTC jumped 90% (2024-12-26)\n",
      "기사 저장: Bitcoin bulls are back: BTC derivatives data hints at rally to $105K (2024-12-26)\n",
      "기사 저장: Price analysis 12/25: BTC, ETH, XRP, SOL, BNB, DOGE, ADA, AVAX, LINK, TON (2024-12-26)\n",
      "기사 저장: Bitcoin coils between key trend lines as $98K boosts 'Kimchi premium' (2024-12-25)\n",
      "기사 저장: BlackRock’s Bitcoin ETF sees record outflow as funds bleed $1.5B in 4 days (2024-12-25)\n",
      "기사 저장: Analyst ‘wouldn’t be surprised’ if Ethereum outperforms Bitcoin in January (2024-12-25)\n",
      "기사 저장: Bitcoin ‘Santa rally’ buyers step in to drive BTC price to $98K (2024-12-25)\n",
      "기사 저장: Bitcoin bull market over? ‘Decembear’ has only sent BTC price 2% lower (2024-12-24)\n",
      "기사 저장: Price analysis 12/23: SPX, DXY, BTC, ETH, XRP, SOL, BNB, DOGE, ADA, AVAX (2024-12-24)\n",
      "기사 저장: Bitcoin extends losses as traders see sub-$90K BTC price support test (2024-12-24)\n",
      "기사 저장: Got rich off Bitcoin? Unchained explains how multisig wallets protect investors’ BTC (2024-12-23)\n",
      "기사 저장: BTC price risks $20K crash: 5 things to know in Bitcoin this week (2024-12-23)\n",
      "기사 저장: SUI, BGB, ENA and VIRTUAL show strength as Bitcoin looks for direction (2024-12-23)\n",
      "기사 저장: BTC price stampedes to $99.5K hours after record Bitcoin ETF outflow (2024-12-21)\n",
      "기사 저장: Bitcoin correction ‘almost done’ as realized losses rise above weekly average (2024-12-21)\n",
      "기사 저장: Price analysis 12/20: BTC, ETH, XRP, SOL, BNB, DOGE, ADA, AVAX, LINK, TON (2024-12-21)\n",
      "기사 저장: Bitcoin dips to $92K in ‘optimal dip-buying’ move as PCE boosts crypto (2024-12-21)\n",
      "기사 저장: Bitcoin whale support includes mid-$60K zone in new BTC price warning (2024-12-20)\n",
      "기사 저장: Crypto chatter about ‘buying the dip’ hits 8-month high: Santiment (2024-12-20)\n",
      "기사 저장: Crypto liquidations hit $1B as traders were ‘unprepared for bad news’ (2024-12-20)\n",
      "기사 저장: Bollinger Bands point to explosive Bitcoin price upside, but how high? (2024-12-20)\n",
      "기사 저장: Bitcoin price has legs above $100K despite holders booking record profits — Analysis (2024-12-20)\n",
      "기사 저장: Bitcoin trader sees ‘larger’ BTC price dip next month as $100K holds (2024-12-19)\n",
      "기사 저장: BTC reclaims $100K but weekly chart forming ‘bearish engulfing’ candlestick (2024-12-19)\n",
      "기사 저장: Fartcoin briefly taps $1B market cap despite altcoin bloodbath (2024-12-19)\n",
      "기사 저장: Bitcoin price drops to $100.3K after Fed rate cut and Powell’s revised 2025 inflation outlook (2024-12-19)\n",
      "기사 저장: Double-digit drop in Bitcoin profit-taking metric hints it’s ‘ready’ to rally — Analyst (2024-12-19)\n",
      "기사 저장: Bitcoin in ‘dip-buying mood’ as BTC price skirts $105K into FOMC (2024-12-19)\n",
      "기사 저장: Price analysis 12/18: BTC, ETH, XRP, SOL, BNB, DOGE, ADA, AVAX, LINK, SHIB (2024-12-19)\n",
      "기사 저장: Bitcoin funding rate signals no signs of ‘late-cycle overheating’ — Analyst (2024-12-18)\n",
      "기사 저장: Bitcoin may hit $200K by mid-2025 as price drops ‘will remain mild,’ says Bitfinex (2024-12-18)\n",
      "기사 저장: Solana repeat bull flag hints at ‘absolute monster run’ to $300 SOL (2024-12-18)\n",
      "기사 저장: Ethereum price eyes new all-time highs, but will $15K be the top? (2024-12-18)\n",
      "기사 저장: MicroStrategy to eclipse Starbucks, Nike market cap if Bitcoin rallies to $138K (2024-12-18)\n",
      "기사 저장: Bitcoin $108K all-time high lasts seconds as BTC price dives 2.4% (2024-12-18)\n",
      "기사 저장: Crypto 'eating TradFi's lunch' as $5.75B Coinbase revenue beats Nasdaq (2024-12-17)\n",
      "기사 저장: Bitcoin price all-time highs driven by spot volumes — Analyst says $115K is next (2024-12-17)\n",
      "기사 저장: Price analysis 12/16: SPX, DXY, BTC, ETH, XRP, SOL, BNB, DOGE, ADA, AVAX (2024-12-17)\n",
      "기사 저장: Bitcoin price eyes ’round number’ next as bulls run past $106K (2024-12-17)\n",
      "기사 저장: XRP price chart 'bull flag' targets $15 despite consolidation phase (2024-12-16)\n",
      "기사 저장: BTC price 'base case' now $140K: 5 things to know in Bitcoin this week (2024-12-16)\n",
      "기사 저장: ETH, LINK, AAVE and BGB move higher as Bitcoin inches toward new all-time high (2024-12-16)\n",
      "기사 저장: Trump may use Bitcoin as US reserve asset on 'day one' — How high will BTC price go? (2024-12-15)\n",
      "기사 저장: Bitcoin’s $19.8B options expiry is coming up — What does it mean for BTC price? (2024-12-14)\n",
      "기사 저장: Bitcoin price 2025 cycle target ‘minimum’ starts at $175K — Analyst (2024-12-14)\n",
      "기사 저장: Price analysis 12/13: BTC, ETH, XRP, SOL, BNB, DOGE, ADA, AVAX, LINK, SHIB (2024-12-14)\n",
      "기사 저장: VanEck predicts Q1 2025 crypto correction before Q4 all-time highs (2024-12-14)\n",
      "기사 저장: Bitcoin miners earned just 3.6% of record $2T market cap — Analysis (2024-12-14)\n",
      "기사 저장: Dogecoin fractal hints at 85% DOGE price rally amid whale accumulation (2024-12-13)\n",
      "기사 저장: Bitcoin analysis: Start selling BTC when this key metric hits 4% (2024-12-13)\n",
      "기사 저장: Is $4.5K the next stop for Ethereum? — Why ETH price is up today (2024-12-13)\n",
      "기사 저장: Bitcoin bulls ignore PPI shock as whales fuel BTC price run to $102K (2024-12-13)\n",
      "기사 저장: Bitcoin 15% futures basis 'insane' as BTC price sees record daily close (2024-12-12)\n",
      "기사 저장: Dogecoin rally to $0.50 imminent after DOGE’s ‘overbought’ conditions cool down (2024-12-12)\n",
      "기사 저장: Price analysis 12/11: BTC, ETH, XRP, SOL, BNB, DOGE, ADA, AVAX, TON, SHIB (2024-12-12)\n",
      "기사 저장: Solana rallies above $230, paving the way for new SOL price all-time highs (2024-12-12)\n",
      "기사 저장: Bitcoin price recaptures $100K following funding reset and Coinbase premium return (2024-12-12)\n",
      "기사 저장: Bitcoin price reclaims 6 figures on CPI relief as traders see $110K+ next (2024-12-12)\n",
      "기사 저장: Is Bitcoin topping out? Gold fractal hints at 35% BTC price correction ahead (2024-12-11)\n",
      "기사 저장: Bitcoin hits level bulls must 'control' for a new $100K BTC price push (2024-12-11)\n",
      "기사 저장: Ethereum has less than 10% chance of tapping $5K by year-end, says Derive (2024-12-11)\n",
      "기사 저장: Majority of altcoins may see a 'slow bleed' until late January 2025: VC (2024-12-11)\n",
      "기사 저장: Bitcoin is crashing, but options markets are calling for $111K BTC price by February (2024-12-11)\n",
      "기사 저장: Bitcoin finds willing dip-buyers after BTC price wicks to key $94K low (2024-12-11)\n",
      "기사 저장: Dogecoin, WIF and other memecoins crash hardest amid $1.7B crypto liquidations (2024-12-10)\n",
      "기사 저장: Bitcoin sees most liquidations since 2021 as ‘crazy’ reset wipes $1.6B (2024-12-10)\n",
      "기사 저장: Crypto ‘buy the dip’ moments to last longer this cycle: Hedge fund founder (2024-12-10)\n",
      "기사 저장: Bitcoin tumbles will be ‘less abrupt’ after realized profit drops 76% (2024-12-10)\n",
      "기사 저장: Ethereum falls to $3.8K, but are ETH traders turning bearish? (2024-12-10)\n",
      "기사 저장: Price analysis 12/9: SPX, DXY, BTC, ETH, XRP, SOL, BNB, DOGE, ADA, AVAX (2024-12-10)\n",
      "기사 저장: XRP has 'most powerful chart in crypto' after breaking a 7-year price trend (2024-12-10)\n",
      "기사 저장: XRP price to $5 next? 3 charts suggest that the historic rally isn’t over (2024-12-09)\n",
      "기사 저장: BTC price back to $94K? 5 things to know in Bitcoin this week (2024-12-09)\n",
      "기사 저장: Ethereum’s chart signals to traders that a new high could hit next week (2024-12-09)\n",
      "기사 저장: ‘Potential top’ for Bitcoin as long-term holders sell 828K BTC in 30 days (2024-12-09)\n",
      "기사 저장: Traders watch DOGE, SUI, PEPE and FTM as Bitcoin range trades near $100K (2024-12-09)\n",
      "기사 저장: $100K Bitcoin price: From cypherpunk dream to financial mainstream (2024-12-08)\n",
      "기사 저장: Bitcoin 'Choppiness' index hints $110K BTC price will be tough to crack (2024-12-08)\n",
      "기사 저장: Ethereum poised to copy XRP’s 390% rally toward $7.6K next (2024-12-07)\n",
      "기사 저장: Ethereum ‘impulse breakout’ will lead to $15K ETH price in 2025 — Analyst (2024-12-07)\n",
      "기사 저장: Future Bitcoin price dips to $90K ‘routine profit taking’ — Why BTC traders keep buying (2024-12-07)\n",
      "기사 저장: Bitcoin ‘spinning top’ candle targets $115K after recent 15% BTC flash crash (2024-12-07)\n",
      "기사 저장: Bitcoin to top $110K by Jan, $20B TRX hints at ‘altseason’ — Finance Redefined (2024-12-07)\n",
      "기사 저장: Price analysis 12/6: BTC, ETH, XRP, SOL, BNB, DOGE, ADA, AVAX, TON, SHIB (2024-12-07)\n",
      "기사 저장: Bitcoin aims for $100K as analyst sees record BTC price daily close (2024-12-07)\n",
      "기사 저장: Bitcoin price metric 'bearish since October' warns analyst amid $10K dip (2024-12-06)\n",
      "기사 저장: XRP bulls could face ‘bloodbath’ if Bitcoin dominance rises: Analyst (2024-12-06)\n",
      "기사 저장: Bitcoin sudden drop to $93K wipes out $303M of longs within minutes (2024-12-06)\n",
      "기사 저장: Bitcoin futures premium hits 8-month high — Will the BTC rally continue? (2024-12-06)\n",
      "기사 저장: 4 new BTC price targets see Bitcoin over $124K by New Year (2024-12-06)\n",
      "기사 저장: BTC price can surge 43% before 'bubble' as Bitcoin market cap hits $2T (2024-12-05)\n",
      "기사 저장: RIP altseason? XRP price tumbles 13% despite Bitcoin’s $100K surge (2024-12-05)\n",
      "기사 저장: Bitcoin is ‘memetic’ and won’t stay down around $100K for long: Analyst (2024-12-05)\n",
      "기사 저장: Bitcoin dominance bounces back to 57% as BTC punches to $104K (2024-12-05)\n",
      "기사 저장: Analyst says ETH/BTC ’collapse is over’ as Ether reclaims $3.8K (2024-12-05)\n",
      "기사 저장: Altcoin funding rates hit 9-month high — Bullish for altseason or a red flag? (2024-12-05)\n",
      "기사 저장: Price analysis 12/4: BTC, ETH, XRP, SOL, BNB, DOGE, ADA, AVAX, TON, SHIB (2024-12-05)\n",
      "기사 저장: Dogecoin rally to $1 imminent after recent bullish chart development — Analyst (2024-12-05)\n",
      "기사 저장: Ethereum to $7K? ETH price targets mushroom as altseason gathers pace (2024-12-05)\n",
      "기사 저장: Bitcoin bottom at $94K? BTC traders regroup after 'Kimchi premium' flash crash (2024-12-04)\n",
      "기사 저장: Tron copies XRP with 70% 'god candle' to all-time highs — What’s next for TRX price? (2024-12-04)\n",
      "기사 저장: Crypto analyst says ‘flash crash likely’ as 24-hour liquidations hit $618M (2024-12-04)\n",
      "기사 저장: Bitcoin whales employ ‘wait-and-see strategy’ as price hovers at $96K (2024-12-04)\n",
      "기사 저장: Bitcoin range consolidation a ‘healthy next step’ before BTC attempt at $100K (2024-12-04)\n",
      "기사 저장: Cardano price gains 88% — Is the ADA rally just getting started? (2024-12-04)\n",
      "기사 저장: Chainlink ‘god candle’ appears as LINK price soars 27% in 24 hours (2024-12-03)\n",
      "기사 저장: MicroStrategy can ignore Bitcoin bear market price crash to $20K — Research (2024-12-03)\n",
      "기사 저장: Bitcoin price weakens, but BTC derivatives remain healthy (2024-12-03)\n",
      "기사 저장: XRP has ‘FOMO’ target at $6.60 by 2025 — Analyst (2024-12-03)\n",
      "기사 저장: Price analysis 12/2: SPX, DXY, BTC, ETH, XRP, SOL, BNB, DOGE, ADA, AVAX (2024-12-03)\n",
      "기사 저장: Bitcoin jumps 2% on MicroStrategy buy with $100K BTC price in focus (2024-12-03)\n",
      "기사 저장: Different this time: 'Altcoin season' no longer driven by Bitcoin rotation — Analyst (2024-12-02)\n",
      "기사 저장: Biggest US dollar gains ever — 5 things to know in Bitcoin this week (2024-12-02)\n",
      "기사 저장: Bitcoin set for ‘insane long opportunities’ as it enters price discovery: Traders (2024-12-02)\n",
      "기사 저장: Bitcoin price move toward $100K opens doors for SHIB, FIL, MNT, AAVE (2024-12-02)\n",
      "기사 저장: Bitcoin smashes records with biggest-ever $26K monthly BTC price gain (2024-12-02)\n",
      "기사 저장: XRP price soars to 43-month highs, but is the rally over for now? (2024-11-30)\n",
      "기사 저장: Fund strategist echos 6-figure BTC price targets, sees $250K+ in 2025 (2024-11-30)\n",
      "기사 저장: XRP price chases $2 after bull flag breakout leads to new 2024 highs (2024-11-30)\n",
      "기사 저장: Ethereum layer-2 volumes rose by 70%— Will they eclipse Solana? (2024-11-30)\n",
      "기사 저장: Price analysis 11/29: BTC, ETH, SOL, BNB, XRP, DOGE, ADA, AVAX, TON, SHIB (2024-11-30)\n",
      "기사 저장: Bitcoin CME futures hit $100K for the second time in a week: Will BTC spot price follow? (2024-11-30)\n",
      "기사 저장: Bitcoin toward $100K: Samson Mow predicts the ‘Omega candle’ era (2024-11-30)\n",
      "기사 저장: BTC price: $100K 'in sight' as open interest reset boosts Bitcoin bulls (2024-11-29)\n",
      "기사 저장: Here’s how AI reshapes the trading landscape for retail investors (2024-11-29)\n",
      "기사 저장: Bitcoin whales 'took advantage' of $90K BTC price dip, scooping up $1.5B (2024-11-29)\n",
      "기사 저장: Bitcoin price retains 8% gains as attention switches to Ethereum comeback (2024-11-29)\n",
      "기사 저장: Over 90% of ETH holders are in profit, but doubts linger over $4K breakout (2024-11-29)\n",
      "기사 저장: Altcoins to stay choppy until Bitcoin hits ‘exuberant move’ — Analyst (2024-11-29)\n",
      "기사 저장: 4 reasons why $100K is the next logical step for Bitcoin (2024-11-29)\n",
      "기사 저장: $13.6B in Bitcoin options expire Friday — Can bulls push BTC price to $100K? (2024-11-28)\n",
      "기사 저장: Bought the dip? 3 signs that $90K Bitcoin price was the local bottom (2024-11-28)\n",
      "기사 저장: Solana price recovers from sharp sell-off, is $300 SOL possible? (2024-11-28)\n",
      "기사 저장: Bitcoin’s metrics suggest bull market is far from overvalued (2024-11-28)\n",
      "기사 저장: Price analysis 11/27: BTC, ETH, SOL, BNB, XRP, DOGE, ADA, AVAX, TON, SHIB (2024-11-28)\n",
      "기사 저장: Ether futures open interest hits all-time high — Is the ETH bull run starting? (2024-11-28)\n",
      "기사 저장: Bitcoin demands $95K reclaim as six-figure BTC price calls return (2024-11-28)\n",
      "기사 저장: Bitcoin $2B daily profit-taking involves mostly new hodlers — Research (2024-11-27)\n",
      "기사 저장: Bitcoin has a 50-50 chance of reaching $100K by year-end: Options data (2024-11-27)\n",
      "기사 저장: Bitcoin could drop 20% if moves stay tied with M2 money supply: Analyst (2024-11-27)\n",
      "기사 저장: Did 8% Bitcoin price drop change bulls' chance of BTC hitting $100K? (2024-11-27)\n",
      "기사 저장: Bitcoin price dip fails to squeeze leverage as $92.5K becomes ‘pivotal’ (2024-11-26)\n",
      "기사 저장: Bitcoin‘s $93K dip could be ‘last flush’ before the rush: Analysts (2024-11-26)\n",
      "기사 저장: Bitcoin price slips to $93K as liquidations soar and long-term BTC holders take profit (2024-11-26)\n",
      "기사 저장: Dogecoin futures open interest hits all-time high — Is it a top signal for DOGE? (2024-11-26)\n",
      "기사 저장: Price analysis 11/25: SPX, DXY, BTC, ETH, SOL, BNB, XRP, DOGE, ADA, AVAX (2024-11-26)\n",
      "기사 저장: Bitcoin sees new $90K BTC price target as 3% dip sparks liquidations (2024-11-26)\n",
      "기사 저장: Solana DEX volume hits record high: Is SOL price headed to $300? (2024-11-25)\n",
      "기사 저장: Who cares about $100K? 5 things to know in Bitcoin this week (2024-11-25)\n",
      "기사 저장: Bitcoin price dip may spur buying spree in BNB, AVAX, NEAR and OKB (2024-11-25)\n",
      "기사 저장: Bitcoin 'spoofing' drives BTC price to $97K amid record profit-taking (2024-11-24)\n",
      "기사 저장: Bitcoin 'wild' odds see 85% chance of BTC price above $100K by New Year (2024-11-23)\n",
      "기사 저장: How high can the Dogecoin price go? (2024-11-23)\n",
      "기사 저장: Is Solana price primed for more upside now that SOL hit a new all-time high? (2024-11-23)\n",
      "기사 저장: Price analysis 11/22: BTC, ETH, SOL, BNB, XRP, DOGE, ADA, AVAX, SHIB, TON (2024-11-23)\n",
      "기사 저장: Bitcoin to $100K: A matter of when, not if (2024-11-23)\n",
      "기사 저장: Bitcoin back to $90K next? Traders diverge on BTC price pullback odds (2024-11-22)\n",
      "기사 저장: Bitcoin counts down to $100K BTC price as shorts risk 'violent breakout' (2024-11-22)\n",
      "기사 저장: Is MicroStrategy a bubble? What is the risk for Bitcoin’s price? (2024-11-21)\n",
      "기사 저장: Bitcoin 'diamond hand' sell-off risks outpacing ETF inflows at $98K (2024-11-21)\n",
      "기사 저장: Will $100K Bitcoin price trigger a big correction? (2024-11-21)\n",
      "기사 저장: Bitcoin 'teleportation' due as traders bet on BTC price passing $100K (2024-11-21)\n",
      "기사 저장: Are spot Bitcoin ETF options traders really expecting a $176K BTC price? (2024-11-21)\n",
      "기사 저장: Price analysis 11/20: BTC, ETH, SOL, BNB, XRP, DOGE, ADA, SHIB, TON, AVAX (2024-11-21)\n",
      "기사 저장: $100K Bitcoin next? No euphoria ‘encouraging’ as BTC price breaks new highs (2024-11-21)\n",
      "기사 저장: BTC price all-time high above $94K comes amid Bitcoin sell-off warning (2024-11-20)\n",
      "기사 저장: Cardano price risks erasing 40% of 'Trump Trade' gains by December (2024-11-20)\n",
      "기사 저장: Solana’s record $318B transfer volume ‘bot driven’ — Will SOL price suffer? (2024-11-20)\n",
      "기사 저장: Dogecoin to $5? It’s possible according to a ‘Gaussian channel’ model (2024-11-20)\n",
      "기사 저장: Ethereum DApp volumes gain 38% in a month — Will ETH price follow? (2024-11-20)\n",
      "기사 저장: Bitcoin to $100K: What will milestone mean for derivatives markets? (2024-11-20)\n",
      "기사 저장: Bitcoin price analysis sees $94K swipe as ETF options launch arrives (2024-11-20)\n",
      "기사 저장: Ethereum price targets $3.7K on soaring ‘smart money’ interest (2024-11-20)\n",
      "기사 저장: Bitcoin metric breakout teases 'inevitable' 90% BTC price rally next (2024-11-19)\n",
      "기사 저장: Bitcoin price metrics point to more upside despite $92K acting as resistance (2024-11-19)\n",
      "기사 저장: Price analysis 11/18: SPX, DXY, BTC, ETH, SOL, BNB, XRP, DOGE, ADA, SHIB (2024-11-19)\n",
      "기사 저장: Solana price targets $400 after monthly cup-and-handle breakout — Analyst (2024-11-19)\n",
      "기사 저장: Bitcoin ‘daily pennant’ targets $125K as BTC coils near its all-time high (2024-11-19)\n",
      "기사 저장: Bitcoin price dips 3% as liquidity hunt follows $4.6B MicroStrategy buy (2024-11-18)\n",
      "기사 저장: BTC price weekly close nears $90K — 5 things to know in Bitcoin this week (2024-11-18)\n",
      "기사 저장: SOL, AVAX, SUI and NEAR advance as Bitcoin price trades in the $90K zone (2024-11-18)\n",
      "기사 저장: BTC price 'issues' include $70K dip despite Bitcoin whale accumulation (2024-11-17)\n",
      "기사 저장: XRP price retreats 20% after hitting a multiyear high — Is the top in? (2024-11-17)\n",
      "기사 저장: Ethereum 'dying a slow death' as ETH breaks 8-year trend vs. Bitcoin (2024-11-16)\n",
      "기사 저장: Bitcoin breakout or black swan? $90K BTC price lacks gold, stocks high (2024-11-16)\n",
      "기사 저장: XRP outperforms crypto market with 17% pump — What’s driving rally? (2024-11-16)\n",
      "기사 저장: Price analysis 11/15: BTC, ETH, SOL, BNB, DOGE, XRP, ADA, SHIB, TON, AVAX (2024-11-16)\n",
      "기사 저장: Bitcoin price metrics and ‘influx’ of stablecoins to exchanges hint at rally continuation (2024-11-16)\n",
      "기사 저장: Bitcoin will not fall to $60K with no ‘threats in the near-term’ — Michael Saylor (2024-11-15)\n",
      "기사 저장: Bitcoin price can hit $100K by Thanksgiving if bulls hold key level (2024-11-15)\n",
      "기사 저장: Bitcoin blips down as Fed’s Powell says no ‘hurry to lower rates’ (2024-11-15)\n",
      "기사 저장: Bitcoin corrects as US inflation data emerges — Is the rally to $100K at stake? (2024-11-15)\n",
      "기사 저장: New Ethereum whales arrive, but will their accumulation send ETH above $3.5K? (2024-11-15)\n",
      "기사 저장: PEPE rallies 78% to new all-time highs as memecoin market cap tops $116B (2024-11-15)\n",
      "기사 저장: Analyst says strong DXY no good for Bitcoin price, urges leverage traders to be ‘careful’ (2024-11-15)\n",
      "기사 저장: 3 reasons why Solana price is on the verge of new all-time highs (2024-11-15)\n",
      "기사 저장: Bitcoin analysts brace for 6 figures as BTC price seals $93.5K record (2024-11-14)\n",
      "기사 저장: Hitting and holding $100K Bitcoin price depends on $11.8B end-of-year BTC options expiry (2024-11-14)\n",
      "기사 저장: Bitcoin price metrics forecast rally to $100K and above — Here's why (2024-11-14)\n",
      "기사 저장: Price analysis 11/13: BTC, ETH, SOL, BNB, DOGE, XRP, ADA, SHIB, TON, AVAX (2024-11-14)\n",
      "기사 저장: XRP 'god candle imminent' with $2 end of the year target — Analyst (2024-11-14)\n",
      "기사 저장: Dogecoin follows ‘classical charting principle’ which hints at 1,000%+ DOGE rally (2024-11-14)\n",
      "기사 저장: New Bitcoin price all-time high 'unlikely' as trader eyes $70K floor (2024-11-13)\n",
      "기사 저장: Bitcoin profit-taking remains ‘below historical peaks’ amid $90K high (2024-11-13)\n",
      "기사 저장: Here's why Bitcoin traders really want to punch through $90K (2024-11-13)\n",
      "기사 저장: 3 reasons why Ethereum price is headed toward $4K (2024-11-13)\n",
      "기사 저장: Ethereum funding rate hits 8-month high — Is an ETH price correction coming? (2024-11-13)\n",
      "기사 저장: Why are memecoins up today? (2024-11-13)\n",
      "기사 저장: Crypto market cap hits $3.1T high, may soon surpass France’s GDP (2024-11-12)\n",
      "기사 저장: Solana price hits 2+ year high — Is a new SOL all-time high on the way? (2024-11-12)\n",
      "기사 저장: Investors see crypto markets peaking in H2 2025: Survey (2024-11-12)\n",
      "기사 저장: Bitcoin trader say BTC headed toward $125K by New Year’s Even based on ‘Bayesian probability’ (2024-11-12)\n",
      "기사 저장: Price analysis 11/11: SPX, DXY, BTC, ETH, SOL, BNB, DOGE, XRP, ADA, TON (2024-11-12)\n",
      "기사 저장: Bitcoin price gains see ‘significant pullbacks’ ruled out before $150K (2024-11-12)\n",
      "기사 저장: $80K BTC price chases gold — 5 things to know in Bitcoin this week (2024-11-11)\n",
      "기사 저장: Bitcoin’s rise to $81,000 may trigger rally in ETH, SOL, SUI, AAVE (2024-11-11)\n",
      "기사 저장: Bitcoin price hits $80K for the first time — New 'inflation-adjusted' all-time high (2024-11-10)\n",
      "기사 저장: ADA price pumps 30% amid rumors of Cardano founder-Trump collaboration (2024-11-10)\n",
      "기사 저장: Bitcoin ripe for 'major leg down' as BTC price nears $80K — Trader (2024-11-10)\n",
      "기사 저장: Bitcoin pundits wary after 'spoof city' sours BTC price gains at $77K (2024-11-09)\n",
      "기사 저장: Ethereum enters ‘scarcity mode,’ paving the way for ETH rally to $6K — Analyst (2024-11-09)\n",
      "기사 저장: Why Ethereum traders are closely watching ETH/BTC charts — Spoiler alert, it's bullish (2024-11-09)\n",
      "기사 저장: Price analysis 11/8: BTC, ETH, SOL, BNB, XRP, DOGE, TON, ADA, SHIB, AVAX (2024-11-09)\n",
      "기사 저장: $9.3B stablecoin exchange inflows have traders bracing higher Bitcoin prices (2024-11-09)\n",
      "기사 저장: How high can Bitcoin price go before Trump's inauguration? (2024-11-08)\n",
      "기사 저장: BTC price sets fresh all-time high near $77K amid 'long squeeze' fears (2024-11-08)\n",
      "기사 저장: Bitcoin shows no ‘overheated’ signals despite new highs, says analyst (2024-11-08)\n",
      "기사 저장: BTC investors pour $1.1B into BlackRock ETF as Bitcoin marks another high (2024-11-08)\n",
      "기사 저장: Bitcoin all-time high at $76.8K is just the beginning, according to data (2024-11-08)\n",
      "기사 저장: Solana open interest hits record high: Will SOL top $200? (2024-11-08)\n",
      "기사 저장: Bitcoin can go ‘parabolic’ with BTC price weekly close above $71.5K — Analysis (2024-11-08)\n",
      "기사 저장: Ethereum holder turns $38K into $30M after 8 years (2024-11-07)\n",
      "기사 저장: Bitcoin preps FOMC reaction as BTC price coils below new $76.5K record (2024-11-07)\n",
      "기사 저장: Ethereum set for a ‘monster rally’ as price nears $2.9K (2024-11-07)\n",
      "기사 저장: Bitcoin open interest tops chart after hitting $75K ‘sweet spot’ (2024-11-07)\n",
      "기사 저장: Bitcoin gained 1,900% in Trump’s first term: Will BTC price hit $1M this time? (2024-11-07)\n",
      "기사 저장: The future of money and backbone of globalization 2.0 is the cost of consensus (2024-11-07)\n",
      "기사 저장: Bitcoin price metrics align to project further upside for BTC (2024-11-07)\n",
      "기사 저장: Bitcoin price rally to $110K ‘incoming’ after positive Coinbase premium, Trump victory — Analyst (2024-11-07)\n",
      "기사 저장: Price analysis 11/6: BTC, ETH, SOL, BNB, XRP, DOGE, TON, ADA, SHIB, AVAX (2024-11-07)\n",
      "기사 저장: Dogecoin, memecoins outperform crypto market as Trump wins US election (2024-11-06)\n",
      "기사 저장: Bitcoin heads to the moon — Watch these BTC price levels next from $75K (2024-11-06)\n",
      "기사 저장: Bitcoin shorters ‘are getting rekt’ after new $75K high (2024-11-06)\n",
      "기사 저장: Bitcoin hits new $75K high as Trump takes early election lead (2024-11-06)\n",
      "기사 저장: Ether traders eye more downside amid ETH/BTC tapping 'new multi-year lows' (2024-11-06)\n",
      "기사 저장: Solana rally follows Bitcoin price as SOL data points to traders’ $200 target (2024-11-06)\n",
      "기사 저장: Dogecoin eyes 30% gain as market 'prices in' potential Trump victory (2024-11-06)\n",
      "기사 저장: Bitcoin set for post-election breakout, but flipping $70K to support is the first hurdle (2024-11-06)\n",
      "기사 저장: Crypto Twitter: A dangerous source for financial advice? (2024-11-06)\n",
      "기사 저장: Bitcoin price jumps 3.7% in an hour as US election fever begins (2024-11-06)\n",
      "기사 저장: Bitcoin price target is $120K, says analyst, as key metric flips bullish (2024-11-05)\n",
      "기사 저장: Bitcoin price needs 2 months to return 'above macro trend' — Forecast (2024-11-05)\n",
      "기사 저장: 3 reasons why Bitcoin price bottom  may have been $67.3K (2024-11-05)\n",
      "기사 저장: Bitcoin price volatility expected ahead of US elections: Here are the price levels to watch (2024-11-05)\n",
      "기사 저장: Price analysis 11/4: SPX, DXY, BTC, ETH, BNB, SOL, XRP, DOGE, TON, ADA (2024-11-05)\n",
      "기사 저장: 3 signs Ethereum price is in trouble below $2,500 (2024-11-04)\n",
      "기사 저장: US election vs. Fed rate cut — 5 things to know in Bitcoin this week (2024-11-04)\n",
      "기사 저장: ‘Grand finale of altcoin reckoning’ soon, warns crypto trader (2024-11-04)\n",
      "기사 저장: Bitcoin looks ripe for a rebound, and so do ETH, DOGE, LTC, and XMR (2024-11-04)\n",
      "기사 저장: Bitcoin analyst sees $66K 'local bottom' as BTC price liquidates $200M (2024-11-03)\n",
      "기사 저장: Bitcoin price peels back from its weekly high, but BTC derivatives markets look good (2024-11-03)\n",
      "기사 저장: Why is Cardano (ADA) price up this week? (2024-11-02)\n",
      "기사 저장: Price analysis 11/1: BTC, ETH, BNB, SOL, XRP, DOGE, TON, ADA, AVAX, SHIB (2024-11-02)\n",
      "기사 저장: Bitcoin traders eye key levels as US jobs shock sends BTC price past $71K (2024-11-01)\n",
      "기사 저장: Bitcoin speculators send $4B to exchanges as BTC price loses $70K (2024-11-01)\n",
      "기사 저장: 'Uptober' sees 11% Bitcoin price spike as traders ponder ‘nuclear’ rally (2024-11-01)\n",
      "기사 저장: Coinbase sees largest single-day decline in 2 years amid stock market wipeout (2024-11-01)\n",
      "기사 저장: Bitcoin needs catalyst for $100K, gold going higher, ETH still undervalued: Analyst (2024-11-01)\n",
      "기사 저장: Ethereum price rally to $3K depends on a few key factors (2024-11-01)\n",
      "기사 저장: Ethereum ‘final dip’ to $2.5K likely before ETH treks to new all-time high — Analyst (2024-11-01)\n",
      "기사 저장: Bitcoin wipes $500M open interest as BTC price drops toward key $70K (2024-10-31)\n",
      "기사 저장: BTC price risks new 'FOMO' top as Bitcoin ETF inflows near $1B daily (2024-10-31)\n",
      "기사 저장: Dogecoin’s breakout from 3-year channel signals 500% rally potential in 2025 (2024-10-31)\n",
      "기사 저장: MicroStrategy shares fumble as Q3 earnings fall just short of estimates (2024-10-31)\n",
      "기사 저장: Bitcoin investors pile $875M into BlackRock fund amid crypto rally (2024-10-31)\n",
      "기사 저장: Bitcoin traders take a breather as BTC price metrics hint new highs are incoming (2024-10-31)\n",
      "기사 저장: Price analysis 10/30: BTC, ETH, BNB, SOL, XRP, DOGE, TON, ADA, AVAX, SHIB (2024-10-31)\n",
      "기사 저장: Bitcoin technical indicator predicts BTC cycle peak in $174K–$462K range (2024-10-31)\n",
      "기사 저장: Bitcoin analyst sees ‘scary’ BTC price upside as funding flat at $73K (2024-10-31)\n",
      "기사 저장: 5 metrics suggest Bitcoin price will break new all-time highs (2024-10-30)\n",
      "기사 저장: BTC price sets 68K euro all-time high as Bitcoin bulls eye gold next (2024-10-30)\n",
      "기사 저장: Trump victory may give crypto a 'dopamine hit,' but traders should be cautious (2024-10-30)\n",
      "기사 저장: 'FOMO confirmed' — BlackRock Bitcoin ETF clocks biggest trading day in 6 months (2024-10-30)\n",
      "기사 저장: Bitcoin hits $73.6K as fundamentals suggest new all-time highs are programmed (2024-10-30)\n",
      "기사 저장: Solana price hits 3-month high as data hints at SOL rally above $200 (2024-10-30)\n",
      "기사 저장: Bitcoin trader sees all-time high ‘this week’ as BTC price nears $73K (2024-10-30)\n",
      "기사 저장: Bitcoin open interest nears $23B as analyst warns of BTC price euphoria (2024-10-29)\n",
      "기사 저장: Bitcoin bulls charge toward $72K as analysts set 6-figure BTC price targets (2024-10-29)\n",
      "기사 저장: Bitcoin chases $70K as global tensions ease and crypto traders long the US elections (2024-10-29)\n",
      "기사 저장: Bitcoin in bullish setup ahead of election: VanEck (2024-10-29)\n",
      "기사 저장: Price analysis 10/28: SPX, DXY, BTC, ETH, BNB, SOL, XRP, DOGE, TON, ADA (2024-10-29)\n",
      "기사 저장: Bitcoin needs this one thing to hit and hold $70K (2024-10-29)\n",
      "기사 저장: Is crypto 'altseason' coming? Watch these 3 key signals in the months ahead (2024-10-29)\n",
      "기사 저장: 'Most bullish' weekly close — 5 things to know in Bitcoin this week (2024-10-28)\n",
      "기사 저장: Bitcoin price push through $68K adds strength to SOL, DOGE, RUNE and BGB (2024-10-28)\n",
      "기사 저장: 3 signs Ethereum price is gearing up for a rebound toward $6K (2024-10-28)\n",
      "기사 저장: BTC price nurses 5% dip amid warning Bitcoin can still 'flush' to $60K (2024-10-26)\n",
      "기사 저장: What happens to Bitcoin price if Microsoft shareholders vote to buy BTC? (2024-10-26)\n",
      "기사 저장: 4 reasons why Bitcoin price is not trading above $70K (2024-10-26)\n",
      "기사 저장: Bitcoin ETF demand hits 6-month high while futures volumes remain ‘subdued’ (2024-10-26)\n",
      "기사 저장: Ethereum price enters buy zone — Is a revenge rally in the making? (2024-10-26)\n",
      "기사 저장: Price analysis 10/25: BTC, ETH, BNB, SOL, XRP, DOGE, TON, ADA, AVAX, SHIB (2024-10-26)\n",
      "기사 저장: Next phase of the bull run is ‘all about’ Bitcoin, not ETH or memecoins — Analyst (2024-10-26)\n",
      "기사 저장: Bitcoin price is headed toward $100K — One analyst explains why (2024-10-26)\n",
      "기사 저장: MicroStrategy overtakes Microsoft in all-time stock gains as Bitcoin bet pays off (2024-10-25)\n",
      "기사 저장: Ethereum falls to 42-month lows vs. Bitcoin — Is the bottom close? (2024-10-25)\n",
      "기사 저장: Bitcoin analyst: $100K BTC price by February 'completely within reason' (2024-10-25)\n",
      "기사 저장: Altcoin season ‘more probable’ once Bitcoin hits $80K — Hashkey Capital (2024-10-25)\n",
      "기사 저장: ‘Unusually’ large Bitcoin ETF inflows spark concerns of BTC price decline (2024-10-25)\n",
      "기사 저장: Bitcoin whale accumulation hits 670K all-time high amid BTC’s v-shaped bounce (2024-10-25)\n",
      "기사 저장: BTC price aims for $68K as US unemployment beat ups Fed rate cut odds (2024-10-24)\n",
      "기사 저장: Bitcoin must hold this 2021 level as traders see BTC price dip 'over' (2024-10-24)\n",
      "기사 저장: Surprise ETH price drop below $2.5K raises questions about Ethereum fundamentals (2024-10-24)\n",
      "기사 저장: Price analysis 10/23: BTC, ETH, BNB, SOL, XRP, DOGE, TON, ADA, AVAX, SHIB (2024-10-24)\n",
      "기사 저장: Bitcoin’s repeating bearish engulfing trend and spot ETF outflows boost odds of sub-$60K BTC (2024-10-24)\n",
      "기사 저장: These 4 metrics suggest Ethereum price is sinking toward $2,300 (2024-10-23)\n",
      "기사 저장: Bitcoin MACD prints first bullish BTC price signal since October 2023 (2024-10-23)\n",
      "기사 저장: Bitcoin ETF $79M outflow ends 2-week bull run amid 'sideways' BTC price (2024-10-23)\n",
      "기사 저장: Bitcoin to benefit from rising hashrate, inflation fears, crypto-friendly president (2024-10-23)\n",
      "기사 저장: Bitcoin options traders say $80K is a given as Trump victory odds spike (2024-10-23)\n",
      "기사 저장: Bitcoin traders expect price pullbacks, but $73K remains the short-term target (2024-10-23)\n",
      "기사 저장: Price analysis 10/22: SPX, DXY, BTC, ETH, BNB, SOL, XRP, DOGE, TON, ADA (2024-10-23)\n",
      "기사 저장: Bitcoin price needs new high above $69K ‘mid week’ as US dollar surges (2024-10-23)\n",
      "기사 저장: 94% of all Bitcoin in profit hints that $69K BTC price was a local top (2024-10-22)\n",
      "기사 저장: Bitcoin analysis sees 'lower risk aversion' as retail demand adds 13% (2024-10-22)\n",
      "기사 저장: Bitcoin falls under $67K as stocks sell off, but BTC derivatives are stable (2024-10-22)\n",
      "기사 저장: ‘Quantile model’ analyst predicts $135K–$285K Bitcoin price in 2025 (2024-10-22)\n",
      "기사 저장: Bitcoin drops 3% as US sellers spark sub-$65K BTC price targets (2024-10-22)\n",
      "기사 저장: ApeCoin (APE) price jumps 100% on ApeChain launch (2024-10-21)\n",
      "기사 저장: Solana chart cup-and-handle positions SOL price for potential 2,000% rally (2024-10-21)\n",
      "기사 저장: Lowest search interest since 2020 — 5 things to know in Bitcoin this week (2024-10-21)\n",
      "기사 저장: Bitcoin price rally above $70K could supercharge ETH, SOL, DOGE and SHIB (2024-10-21)\n",
      "기사 저장: Bitcoin price analysis sees rematch with 2021 record high vs. S&P 500 (2024-10-20)\n",
      "기사 저장: 3 signs Bitcoin’s 'parabolic phase' with a $250K target is about to begin (2024-10-20)\n",
      "기사 저장: Bitcoin teases breakout as 'FOMO liquidity grab' keeps $69K in place (2024-10-19)\n",
      "기사 저장: Memecoin craze fuels Solana price rally — Is $180 SOL the next stop? (2024-10-19)\n",
      "기사 저장: Price analysis 10/18: BTC, ETH, BNB, SOL, XRP, DOGE, TON, ADA, AVAX, SHIB (2024-10-19)\n",
      "기사 저장: Bitcoin whale accumulation mirrors 2020 trend where BTC rallied 550% (2024-10-19)\n",
      "기사 저장: Odds of Ethereum price rally to $3K increase, but a few red flags remain (2024-10-19)\n",
      "기사 저장: Dogwifhat price makes a comeback as WIF price rallies 76% in 30 days — What’s next? (2024-10-18)\n",
      "기사 저장: BTC price set to break 7-month slump as Bitcoin ETFs hit $65B record (2024-10-18)\n",
      "기사 저장: Bitcoin bears could turn ‘giddy’ at prospect of sub-$60K BTC price (2024-10-18)\n",
      "기사 저장: Bitcoin price drops under $67K as investors chase profit in stocks (2024-10-18)\n",
      "기사 저장: The dams are open: Spot Bitcoin ETFs harness $20B after 4th consecutive day of inflows (2024-10-18)\n",
      "기사 저장: Bitcoin rally to $68.4K may have been the Uptober top — Here’s why (2024-10-18)\n",
      "기사 저장: Bitcoin traders see $70K BTC price as market trims Fed rate cut bets (2024-10-17)\n",
      "기사 저장: Why are Bitcoin traders worried about a 'painful' BTC price dip? (2024-10-17)\n",
      "기사 저장: Ethereum price crashes often follow ETH open interest peaks — Will history repeat? (2024-10-17)\n",
      "기사 저장: Price analysis 10/16: BTC, ETH, BNB, SOL, XRP, DOGE, TON, ADA, AVAX, SHIB (2024-10-17)\n",
      "기사 저장: Bitcoiners should be wary of final dip ‘before another leg up’ — Analyst (2024-10-17)\n",
      "기사 저장: 4th time's the charm? Bitcoin tags $68K in attempt to break 217-day downtrend (2024-10-17)\n",
      "기사 저장: Bitcoin risks ‘exit pump’ on 3-month DXY highs as BTC price hits $68K (2024-10-17)\n",
      "기사 저장: Dogecoin 'god candle' coming? DOGE price jumps 10% (2024-10-16)\n",
      "기사 저장: Bitcoin profit-taking nears $74K peak as speculators send Binance $500M (2024-10-16)\n",
      "기사 저장: Bitcoin dominance hits 3.5-year high as altcoins get left behind (2024-10-16)\n",
      "기사 저장: Ethereum price shows strength, but a 23% drop in DApps activity raises concern (2024-10-16)\n",
      "기사 저장: Bitcoin open interest soars to 1-year high as BTC price rallies toward $68K (2024-10-16)\n",
      "기사 저장: Ethereum traders see limited ‘upside’ in ETH price beyond $2.6K (2024-10-16)\n",
      "기사 저장: Bitcoin traders brace for new highs after BTC rally to $68K (2024-10-16)\n",
      "기사 저장: BTC price focus shifts to $69K as Bitcoin challenges 8-month downtrend (2024-10-15)\n",
      "기사 저장: These 5 Bitcoin price metrics hint at a new all-time high in 2024 (2024-10-15)\n",
      "기사 저장: Different this time? Bitcoin RSI says $233K BTC price possible in 2025 (2024-10-15)\n",
      "기사 저장: Is Bitcoin’s Uptober beginning, or will today’s BTC rally end with more of the same? (2024-10-15)\n",
      "기사 저장: Price analysis 10/14: SPX, DXY, BTC, ETH, BNB, SOL, XRP, DOGE, TON, ADA (2024-10-15)\n",
      "기사 저장: Bitcoin price hits $66K as analysis asks, ‘Has Uptober begun?’ (2024-10-14)\n",
      "기사 저장: Bitcoin to 'break loose' at $70K as 'Uptober' flips green (2024-10-14)\n",
      "기사 저장: 5 things to know as Bitcoin price heads for $65,000 (2024-10-14)\n",
      "기사 저장: 'Like Bitcoin on steroids' — Why is MSTR stock trading at a 2.7x premium? (2024-10-14)\n",
      "기사 저장: Bitcoin’s indecisiveness could drive investors to SUI, APT, TAO, and WIF (2024-10-14)\n",
      "기사 저장: BNB DApp volumes down 25% in a week — Will BNB price follow? (2024-10-13)\n",
      "기사 저장: BTC price eyes sub-$65K hurdles as metric hints Bitcoin 'going to rip' (2024-10-13)\n",
      "기사 저장: 3 key metrics point to ‘up only season’ in altcoins — Analysts (2024-10-12)\n",
      "기사 저장: Price analysis 10/11: BTC, ETH, BNB, SOL, XRP, DOGE, TON, ADA, AVAX, SHIB (2024-10-12)\n",
      "기사 저장: Bitcoin surfs US PPI overshoot as BTC price recovers from sub-$59K dip (2024-10-11)\n",
      "기사 저장: Ethereum eyes 40% gains as ETH price fractal approaches final phase (2024-10-11)\n",
      "기사 저장: BTC price gains 'on horizon' as Bitcoin whales buy 1.5M BTC — Analysis (2024-10-11)\n",
      "기사 저장: Uniswap (UNI) books 25% weekly gain leading into Unichain launch (2024-10-11)\n",
      "기사 저장: Bitcoin price fell 24%+ the last time this metric turned negative — Will it happen again? (2024-10-11)\n",
      "기사 저장: US election outcome won’t stop Bitcoin from hitting $100K: Dan Tapiero (2024-10-11)\n",
      "기사 저장: Bitcoin retraces to $59K amid altcoins stagnant with ‘regulatory hurdles’ (2024-10-11)\n",
      "기사 저장: Bitcoin digests US 'nightmare' CPI, jobs data as $60K hangs in balance (2024-10-10)\n",
      "기사 저장: Bitcoin price must leave $60K range 'to re-awaken supply' — Market analyst (2024-10-10)\n",
      "기사 저장: Bitcoin 'capitulation incoming' as liquidity risks sub-$50K BTC price (2024-10-10)\n",
      "기사 저장: SEC, FBI, DOJ coordinate takedown of fraudulent crypto firms (2024-10-10)\n",
      "기사 저장: Bitcoin short-term holders will be ‘seriously tested’ if BTC loses $61.6K — Analyst (2024-10-10)\n",
      "기사 저장: Bitcoin traders don’t expect new highs until the 200-MA becomes support (2024-10-10)\n",
      "기사 저장: Bitcoin’s drop below $62K shows BTC price remains on ‘delicate ground’ (2024-10-10)\n",
      "기사 저장: Price analysis 10/9: BTC, ETH, BNB, SOL, XRP, DOGE, TON, ADA, AVAX, SHIB (2024-10-10)\n",
      "기사 저장: BTC price target sees $135K in 2025 — if Bitcoin bulls avoid a 25% dip (2024-10-10)\n",
      "기사 저장: Bitcoin’s compressed $62K price signals ‘a large’ move next (2024-10-10)\n",
      "기사 저장: BTC price retests $62K as Bitcoin preps 'very high impact' month end (2024-10-09)\n",
      "기사 저장: Bitcoin following ‘perfect script’ to chart $150K all-time high this cycle — Analysis (2024-10-09)\n",
      "기사 저장: Ethereum price lags Bitcoin and altcoins, but is a rally to $2.6K possible? (2024-10-09)\n",
      "기사 저장: Bitcoin Coinbase premium turns negative as BTC price stalls under $63K (2024-10-09)\n",
      "기사 저장: Bitcoin due 'capital reallocation' as China halts stimulus — Analysis (2024-10-08)\n",
      "기사 저장: Bitcoin price faltered at $64K again — Here’s why (2024-10-08)\n",
      "기사 저장: Bittensor (TAO) leads AI token rally with 160%+ monthly gain (2024-10-08)\n",
      "기사 저장: Price analysis 10/7: SPX, DXY, BTC, ETH, BNB, SOL, XRP, DOGE, TON, ADA (2024-10-08)\n",
      "기사 저장: Bitcoin rally to $64.4K proves bullish chart pattern is ‘locked in’ — Analyst (2024-10-08)\n",
      "기사 저장: Crypto adoption on track to hit 8% by 2025: Report (2024-10-07)\n",
      "기사 저장: 'Definition of a leverage driven pump' — 5 things to know in Bitcoin this week (2024-10-07)\n",
      "기사 저장: Bitcoin’s rise above $62,000 could pull APT, WIF, FTM, and BGB higher (2024-10-07)\n",
      "기사 저장: BTC short-term holders 'likely taking on more risk' as realized cap spikes by $6B (2024-10-06)\n",
      "기사 저장: Bitcoin realized price rejections hint BTC price ‘weakening’ — Analyst (2024-10-06)\n",
      "기사 저장: XRP price falls 15% in 3 days — Will Ripple’s legal setback mark the bottom? (2024-10-05)\n",
      "기사 저장: Bitcoin price recovery driven by growing US financial concerns (2024-10-05)\n",
      "기사 저장: ‘Uptober’ builds strength as Bitcoin held on exchanges falls to 6-year low (2024-10-05)\n",
      "기사 저장: Price analysis 10/4: BTC, ETH, BNB, SOL, XRP, DOGE, TON, ADA, AVAX, SHIB (2024-10-05)\n",
      "기사 저장: Bitcoin 16% drop in trading volume ‘explainable,’ as price may fluctuate to $72K (2024-10-05)\n",
      "기사 저장: Bitcoin gets US employment boost as BTC price eyes $300M ask liquidity (2024-10-04)\n",
      "기사 저장: Whale sell-offs and token unlocks weigh on Bitcoin — 10x Research (2024-10-04)\n",
      "기사 저장: Bitcoin analysis sees BTC price gains on Coinbase premium golden cross (2024-10-04)\n",
      "기사 저장: Bullish Bitcoin traders switch sides and target new BTC lows under $60K (2024-10-04)\n",
      "기사 저장: Ethereum price falls 12% in 2 days — Are investors running out of reasons to hold ETH?&nbsp; (2024-10-04)\n",
      "기사 저장: Bitcoin investors in ‘better position’ as onchain metrics signal market shift — Glassnode (2024-10-04)\n",
      "기사 저장: Focusing too much on Bitcoin Uptober is a ‘mistake,’ says crypto trader (2024-10-04)\n",
      "기사 저장: Bitcoin price dip below $60K sparks most exchange buying since 2022 (2024-10-03)\n",
      "기사 저장: Ethereum traders pricing in ‘more extreme movements’ ahead of US election (2024-10-03)\n",
      "기사 저장: AI tokens lose $4.69B market cap in 3 days — When ‘UPtober?’ (2024-10-03)\n",
      "기사 저장: Bitcoin traders stress ‘bullish’ market while BTC price threatens $60K (2024-10-03)\n",
      "기사 저장: Fantom price gains 70% in 30 days — What’s driving FTM? (2024-10-03)\n",
      "기사 저장: Bitcoin price decline continues — How are pro BTC traders positioned? (2024-10-03)\n",
      "기사 저장: $100K Bitcoin price depends on ‘increasing demand’ and ‘favorable seasonality’ — CryptoQuant (2024-10-03)\n",
      "기사 저장: Price analysis 10/2: BTC, ETH, BNB, SOL, XRP, DOGE, TON, ADA, AVAX, SHIB (2024-10-03)\n",
      "기사 저장: Bitcoin open interest surge past $35B raises ‘overheating’ concerns (2024-10-02)\n",
      "기사 저장: Bitcoin breaking $74K will 'take time' as BTC structure 'moving to neutral' — Analyst (2024-10-02)\n",
      "기사 저장: Bitcoin traders see $54K BTC price or lower amid Middle East tensions (2024-10-02)\n",
      "기사 저장: Solana DApps volume increased by 46% in a week — Is $180 SOL the next stop? (2024-10-02)\n",
      "기사 저장: Bitcoin metrics reset and point to ‘major move’ in Q4 — Analysts (2024-10-02)\n",
      "기사 저장: Hashdex files amended S-1 for Nasdaq Crypto Index US ETF (2024-10-02)\n",
      "기사 저장: 3 signs that Bitcoin’s Q3 close was bullish (2024-10-01)\n",
      "기사 저장: 'Quantile Regression' Bitcoin price model hints at $275K BTC by November 2025 (2024-10-01)\n",
      "기사 저장: Bitcoin all-time high target remains as BTC price bounces back to $64K (2024-10-01)\n",
      "기사 저장: Bitcoin drops to $63K, fails to rebound after Fed hints at future interest rate cuts (2024-10-01)\n",
      "기사 저장: Ethereum gas fees rose 498% in two weeks as network activity surged — Report (2024-10-01)\n",
      "기사 저장: Debunking the 'Binance manipulator' theory: 3 reasons why the allegation falls short (2024-10-01)\n",
      "기사 저장: Bitcoin price falls as global recession and AI bubble fears send investors scrambling (2024-10-01)\n",
      "기사 저장: Price analysis 9/30: SPX, DXY, BTC, ETH, BNB, SOL, XRP, DOGE, TON, ADA (2024-10-01)\n",
      "기사 저장: Solana’s SOL/BTC pair flashes bullish — Are new highs in store? (2024-10-01)\n",
      "기사 저장: Bitcoin exchange flow multiple nears yearly low, signs of ‘upward trend’ (2024-10-01)\n",
      "기사 저장: Bitcoin investment product inflows topped $1B as BTC rallied to $66K — CoinShares report (2024-10-01)\n",
      "기사 저장: XRP price breaks 3.5-year downtrend as analyst predicts $200 (2024-09-30)\n",
      "기사 저장: Bitcoin’s window to reach $100K by end of Q4 'looks very tight' (2024-09-30)\n",
      "기사 저장: New all-time high in 'Uptober?' 5 things to know in Bitcoin this week (2024-09-30)\n",
      "기사 저장: 3 signs that Bitcoin price is not ready to make a new all-time high (2024-09-30)\n",
      "기사 저장: Bitcoin monthly close, fresh bullish narratives lead BTC traders to aim for new price highs (2024-09-30)\n",
      "기사 저장: Bullish trading pattern on BNB/USD looks ready to explode, but what about the BNB/BTC pair? (2024-09-30)\n",
      "기사 저장: Bitcoin’s strong monthly close could spark a rally in XRP, TAO, RUNE and SEI (2024-09-30)\n",
      "기사 저장: Ethereum underperforms Bitcoin, but is the ETH/BTC pair ripe for a turnaround? (2024-09-30)\n",
      "기사 저장: Bitcoin price eyes 11% monthly gains as DXY threatens 'major' plunge (2024-09-30)\n",
      "기사 저장: Bitcoin price to $62K? Bearish div hints at a slow start to Uptober (2024-09-29)\n",
      "기사 저장: Bitcoin retail comeback on the cards as Coinbase pierces top-400 apps (2024-09-29)\n",
      "기사 저장: XRP leads crypto weekend gains fueled by surging open interest (2024-09-29)\n",
      "기사 저장: BNB rallies to $600 and traders call for higher — Does data support this view? (2024-09-28)\n",
      "기사 저장: Price analysis 9/27: BTC, ETH, BNB, SOL, XRP, DOGE, TON, ADA, AVAX, SHIB (2024-09-28)\n",
      "기사 저장: Pepe gains 30% in a week as memecoin trading volumes explode (2024-09-28)\n",
      "기사 저장: Bitcoin at ‘pivotal juncture,’ $60K not out of the picture — Analyst (2024-09-28)\n",
      "기사 저장: Bitcoin has ‘familiar bullish smell’ as BTC price hits $66K — Analyst (2024-09-27)\n",
      "기사 저장: Bitcoin’s 'Coinbase premium' returns as BTC price heads for best September ever (2024-09-27)\n",
      "기사 저장: Q4 crypto rally chances ‘exceptionally high,’ fueled by BTC $65K breakout (2024-09-27)\n",
      "기사 저장: Stacks (STX) makes 30% gain as mainnet upgrade and stablecoin launch approach (2024-09-27)\n",
      "기사 저장: Bitcoin rallied above $65K, but will BTC price hold this level? (2024-09-27)\n",
      "기사 저장: Bitcoin analysts say BTC is in a ‘good position’ above the 200-MA and $65K (2024-09-27)\n",
      "기사 저장: AVAX price rallies after Avalanche development incentive and mainnet upgrade announcement (2024-09-27)\n",
      "기사 저장: Memecoins are back? Dogwifhat price rallies 46% in September (2024-09-27)\n",
      "기사 저장: Bitcoin price 2-month highs on ‘soft landing’ may precede sub-$60K dip (2024-09-27)\n",
      "기사 저장: BlackRock Bitcoin ETF posts September's biggest daily inflow of over $180M (2024-09-26)\n",
      "기사 저장: Bitcoin traders brace for US macro data, Fed as BTC price bounces 2% (2024-09-26)\n",
      "기사 저장: Bitcoin $73.7K breakout ‘imminent,’ sell-off intensity ‘might vary’ — Analyst (2024-09-26)\n",
      "기사 저장: Ethereum bulls and bears fight to win this week’s $2.8B ETH options expiry (2024-09-26)\n",
      "기사 저장: 3 reasons why Bitcoin struggles to hold $64.5K (2024-09-26)\n",
      "기사 저장: Price analysis 9/25: BTC, ETH, BNB, SOL, XRP, DOGE, TON, ADA, AVAX, SHIB (2024-09-26)\n",
      "기사 저장: Bitcoin price stuck in ‘extended consolidation phase’ due to drop in capital inflows — Report (2024-09-26)\n",
      "기사 저장: Bitcoin price coils as market confirms $65K as ‘real resistance’ (2024-09-25)\n",
      "기사 저장: Fed’s ‘juice’ into crypto has analyst eyeing ‘trimming’ opportunities (2024-09-25)\n",
      "기사 저장: 85% on Polymarket betting Ethereum won’t see new all-time high by 2025 (2024-09-25)\n",
      "기사 저장: ‘Sustained’ Bitcoin ETF inflows may ‘buoy’ price despite slowing spot buying (2024-09-25)\n",
      "기사 저장: Bitcoin sell-side risk hits 2024 low just $10K from BTC price record (2024-09-25)\n",
      "기사 저장: 3 reasons why Near Protocol (NEAR) has gained 50% in a month (2024-09-25)\n",
      "기사 저장: Bitcoin bulls are laying the path to $66K, but will they make it? (2024-09-25)\n",
      "기사 저장: Dogwifhat makes a comeback after WIF rallies 25% in a week — What is next? (2024-09-25)\n",
      "기사 저장: $8.1B in Bitcoin options expire this month — Do bulls or bears have the upper hand? (2024-09-25)\n",
      "기사 저장: $70K next for Bitcoin? China joins Fed in ‘huge macro event’ (2024-09-24)\n",
      "기사 저장: Bitcoin price target rises to $78K after Chinese stimulus package (2024-09-24)\n",
      "기사 저장: BTC price support at $62K must hold if Bitcoin bears step in — Traders (2024-09-24)\n",
      "기사 저장: Drop in Bitcoin dominance and bullish altcoin market structure have traders predicting ‘altseason’ (2024-09-24)\n",
      "기사 저장: Solana TVL declines, but will SOL price react negatively? (2024-09-24)\n",
      "기사 저장: Ethereum gains 15% in a week — Is a recovery to $3K back in sight? (2024-09-24)\n",
      "기사 저장: Price analysis 9/23: SPX, DXY, BTC, ETH, BNB, SOL, XRP, DOGE, TON, ADA (2024-09-24)\n",
      "기사 저장: Bitcoin’s new price targets of over $80K may not actually be the ‘all-time high’ (2024-09-23)\n",
      "기사 저장: Bitcoin poised for potential rally as FTX payout looms and Fed shifts (2024-09-23)\n",
      "기사 저장: RSI hints at classic BTC price breakout — 5 things to know in Bitcoin this week (2024-09-23)\n",
      "기사 저장: Bitcoin price strength extends to AVAX, SUI, TAO and AAVE — Are altcoins back? (2024-09-23)\n",
      "기사 저장: Bitcoin weekly RSI sparks 'intermediate' $85K BTC price target (2024-09-22)\n",
      "기사 저장: Is Bitcoin set for 400% gains against gold? Veteran analyst weighs in (2024-09-22)\n",
      "기사 저장: Bitcoin is pinned below $65K but several market structure-altering factors are at play (2024-09-22)\n",
      "기사 저장: Solana prepares for possible ‘sizable’ move after defending $120 support (2024-09-21)\n",
      "기사 저장: Ethereum open interest hits 20-month high: Bullish or bearish for ETH? (2024-09-21)\n",
      "기사 저장: Price analysis 9/20: BTC, ETH, BNB, SOL, XRP, DOGE, TON, ADA, AVAX, SHIB (2024-09-21)\n",
      "기사 저장: Bitcoin traders now agree $65K is ‘key’ BTC price resistance to beat (2024-09-21)\n",
      "기사 저장: Watch these BTC price levels as Bitcoin taps $64K (2024-09-20)\n",
      "기사 저장: Bitcoin rally above short-term holder metric has traders calling for new BTC price highs (2024-09-20)\n",
      "기사 저장: Artificial Superintelligence Alliance (FET) gains 75% in a month — Here is why (2024-09-20)\n",
      "기사 저장: Bitcoin options markets reduce risk hedges — Are new range highs in sight? (2024-09-20)\n",
      "기사 저장: Ethereum is a 'contrarian bet' into 2025, says Bitwise exec (2024-09-20)\n",
      "기사 저장: Bitcoin bulls target $64K BTC price hurdle as US stocks eye new record (2024-09-19)\n",
      "기사 저장: Bitcoin price hits $62.6K as Fed ‘crisis’ move sparks US stocks warning (2024-09-19)\n",
      "기사 저장: Ethereum’s value accretion narrative under duress after 19% drop in ETH DApp volumes (2024-09-19)\n",
      "기사 저장: Bitcoin price attempts to turn the tide after Fed’s 0.5% rate cut (2024-09-19)\n",
      "기사 저장: Price analysis 9/18: BTC, ETH, BNB, SOL, XRP, DOGE, TON, ADA, AVAX, SHIB (2024-09-19)\n",
      "일주일 범위를 벗어난 기사가 발견되었습니다. 크롤링을 종료합니다.\n",
      "총 1022개의 기사를 수집했습니다.\n",
      "기사 데이터가 'cointelegraph_articles.csv' 파일에 저장되었습니다!\n"
     ]
    }
   ],
   "source": [
    "import csv\n",
    "from selenium import webdriver\n",
    "from selenium.webdriver.common.by import By\n",
    "from selenium.webdriver.common.action_chains import ActionChains\n",
    "from selenium.webdriver.support.ui import WebDriverWait\n",
    "from selenium.webdriver.support import expected_conditions as EC\n",
    "from datetime import datetime, timedelta\n",
    "import time\n",
    "\n",
    "# URL 설정\n",
    "base_url = \"https://cointelegraph.com/tags/markets\"\n",
    "today = datetime.now()\n",
    "half_months_ago = today - timedelta(days=180)\n",
    "\n",
    "def create_driver():\n",
    "    \"\"\"Selenium WebDriver 생성 및 설정\"\"\"\n",
    "    options = webdriver.ChromeOptions()\n",
    "    options.add_argument(\"--headless\")  # Headless 모드 활성화\n",
    "    options.add_argument(\"--disable-blink-features=AutomationControlled\")  # Selenium 표시 제거\n",
    "    driver = webdriver.Chrome(options=options)\n",
    "    return driver\n",
    "\n",
    "def scrape_articles():\n",
    "    \"\"\"\n",
    "    Cointelegraph Markets 섹션에서 기사를 크롤링하는 함수.\n",
    "    \n",
    "    Returns:\n",
    "        articles (list): 크롤링된 기사 목록 (제목, 링크, 날짜 포함)\n",
    "    \"\"\"\n",
    "    driver = create_driver()\n",
    "    driver.get(base_url)\n",
    "    \n",
    "    # 페이지 로딩 대기\n",
    "    wait = WebDriverWait(driver, 10)\n",
    "    wait.until(EC.presence_of_element_located((By.CSS_SELECTOR, \"li[data-testid='posts-listing__item']\")))\n",
    "    \n",
    "    articles = []\n",
    "    seen_titles = set()  # 중복 제거를 위한 제목 저장소\n",
    "    \n",
    "    # footer 요소 가져오기 (스크롤 제한용)\n",
    "    footer_xpath = \"//footer\"\n",
    "    footer_element = driver.find_element(By.XPATH, footer_xpath)\n",
    "    \n",
    "    try:\n",
    "        while True:\n",
    "            # 기사 추출\n",
    "            elements = driver.find_elements(By.CSS_SELECTOR, \"li[data-testid='posts-listing__item']\")\n",
    "            new_articles_found = False\n",
    "            \n",
    "            for element in elements:\n",
    "                try:\n",
    "                    # 제목과 링크 추출\n",
    "                    title_tag = element.find_element(By.CLASS_NAME, \"post-card-inline__title-link\")\n",
    "                    title = title_tag.text.strip()\n",
    "                    link = title_tag.get_attribute(\"href\")\n",
    "                    \n",
    "                    # 날짜 추출\n",
    "                    date_tag = element.find_element(By.TAG_NAME, \"time\")\n",
    "                    date_str = date_tag.get_attribute(\"datetime\")\n",
    "                    article_date = datetime.strptime(date_str[:10], '%Y-%m-%d')\n",
    "                    \n",
    "                    # 날짜 필터링 (180일 이내 기사만)\n",
    "                    if half_months_ago <= article_date <= today and title not in seen_titles:\n",
    "                        articles.append({\n",
    "                            \"title\": title,\n",
    "                            \"link\": link,\n",
    "                            \"date\": article_date.strftime('%Y-%m-%d')\n",
    "                        })\n",
    "                        seen_titles.add(title)  # 제목 저장하여 중복 방지\n",
    "                        new_articles_found = True\n",
    "                        print(f\"기사 저장: {title} ({article_date.strftime('%Y-%m-%d')})\")\n",
    "                    \n",
    "                    # 일주일 범위를 벗어난 기사 발견 시 종료\n",
    "                    elif article_date < half_months_ago:\n",
    "                        print(\"180일 범위를 벗어난 기사가 발견되었습니다. 크롤링을 종료합니다.\")\n",
    "                        driver.quit()\n",
    "                        return articles\n",
    "\n",
    "                except Exception as e:\n",
    "                    print(f\"Error processing article: {e}\")\n",
    "            \n",
    "            # 현재 스크롤 위치 확인\n",
    "            current_scroll_position = driver.execute_script(\"return window.scrollY + window.innerHeight\")\n",
    "            footer_position = footer_element.location['y']  # footer의 Y축 위치\n",
    "            \n",
    "            # footer에 도달하기 전에만 스크롤 수행\n",
    "            if current_scroll_position + 100 >= footer_position:\n",
    "                print(\"Reached near the footer. Stopping scroll.\")\n",
    "                break\n",
    "            \n",
    "            # 더 이상 새로운 기사가 없으면 종료\n",
    "            if not new_articles_found:\n",
    "                print(\"더 이상 새로운 기사가 없습니다. 크롤링을 종료합니다.\")\n",
    "                break\n",
    "            \n",
    "            # 스크롤 내리기: `ActionChains`를 사용해 부드럽게 스크롤 수행\n",
    "            actions = ActionChains(driver)\n",
    "            actions.move_to_element(footer_element).scroll_by_amount(0, -200).perform()\n",
    "            time.sleep(3)  # 페이지 로딩 대기\n",
    "    \n",
    "    except Exception as e:\n",
    "        print(f\"Error during scraping: {e}\")\n",
    "    \n",
    "    finally:\n",
    "        driver.quit()\n",
    "    \n",
    "    return articles\n",
    "\n",
    "# 실행 코드\n",
    "if __name__ == \"__main__\":\n",
    "    print(\"Cointelegraph Markets 섹션에서 기사를 크롤링 중...\")\n",
    "    articles = scrape_articles()\n",
    "    \n",
    "    print(f\"총 {len(articles)}개의 기사를 수집했습니다.\")\n",
    "    \n",
    "    # CSV 파일로 저장\n",
    "    with open(\"cointelegraph_articles.csv\", mode=\"w\", newline=\"\", encoding=\"utf-8\") as file:\n",
    "        fieldnames = [\"title\", \"link\", \"date\"]\n",
    "        writer = csv.DictWriter(file, fieldnames=fieldnames)\n",
    "\n",
    "        writer.writeheader()  # 헤더 추가\n",
    "        writer.writerows(articles)  # 모든 데이터를 한 번에 저장\n",
    "\n",
    "    print(\"기사 데이터가 'cointelegraph_articles.csv' 파일에 저장되었습니다!\")"
   ]
  },
  {
   "cell_type": "markdown",
   "metadata": {},
   "source": [
    "## csv 파일에 기사 내용 업데이트\n",
    "csv 파일에 저장할 때, 이중 따옴표와 콤마를 공백으로, 줄바꿈을 띄어쓰기로 대체하면서 context 열에 기사 내용이 온전히 저장되도록 전처리"
   ]
  },
  {
   "cell_type": "code",
   "execution_count": null,
   "metadata": {},
   "outputs": [
    {
     "name": "stderr",
     "output_type": "stream",
     "text": [
      "Processing articles 1-10: 100%|██████████| 10/10 [00:18<00:00,  1.86s/it]\n"
     ]
    },
    {
     "ename": "ValueError",
     "evalue": "dict contains fields not in fieldnames: None",
     "output_type": "error",
     "traceback": [
      "\u001b[0;31m---------------------------------------------------------------------------\u001b[0m",
      "\u001b[0;31mValueError\u001b[0m                                Traceback (most recent call last)",
      "Cell \u001b[0;32mIn[23], line 141\u001b[0m\n\u001b[1;32m    138\u001b[0m \u001b[38;5;28;01mif\u001b[39;00m \u001b[38;5;18m__name__\u001b[39m \u001b[38;5;241m==\u001b[39m \u001b[38;5;124m\"\u001b[39m\u001b[38;5;124m__main__\u001b[39m\u001b[38;5;124m\"\u001b[39m:\n\u001b[1;32m    139\u001b[0m     input_csv_path \u001b[38;5;241m=\u001b[39m \u001b[38;5;124m\"\u001b[39m\u001b[38;5;124mcointelegraph_articles.csv\u001b[39m\u001b[38;5;124m\"\u001b[39m  \u001b[38;5;66;03m# 입력 CSV 파일 경로\u001b[39;00m\n\u001b[0;32m--> 141\u001b[0m     update_csv_with_content_in_batches(input_csv\u001b[38;5;241m=\u001b[39minput_csv_path, batch_size\u001b[38;5;241m=\u001b[39m\u001b[38;5;241m10\u001b[39m)\n",
      "Cell \u001b[0;32mIn[23], line 132\u001b[0m, in \u001b[0;36mupdate_csv_with_content_in_batches\u001b[0;34m(input_csv, batch_size)\u001b[0m\n\u001b[1;32m    129\u001b[0m     writer \u001b[38;5;241m=\u001b[39m csv\u001b[38;5;241m.\u001b[39mDictWriter(file, fieldnames\u001b[38;5;241m=\u001b[39mfieldnames, quoting\u001b[38;5;241m=\u001b[39mcsv\u001b[38;5;241m.\u001b[39mQUOTE_ALL)  \u001b[38;5;66;03m# 모든 필드를 따옴표로 감싸기\u001b[39;00m\n\u001b[1;32m    131\u001b[0m     writer\u001b[38;5;241m.\u001b[39mwriteheader()  \u001b[38;5;66;03m# 헤더 추가\u001b[39;00m\n\u001b[0;32m--> 132\u001b[0m     writer\u001b[38;5;241m.\u001b[39mwriterows(reader[:start_idx] \u001b[38;5;241m+\u001b[39m updated_articles \u001b[38;5;241m+\u001b[39m reader[end_idx:])\n\u001b[1;32m    134\u001b[0m \u001b[38;5;66;03m# 잠시 대기하여 서버 부하를 줄임\u001b[39;00m\n\u001b[1;32m    135\u001b[0m time\u001b[38;5;241m.\u001b[39msleep(\u001b[38;5;241m5\u001b[39m)\n",
      "File \u001b[0;32m/opt/anaconda3/lib/python3.12/csv.py:167\u001b[0m, in \u001b[0;36mDictWriter.writerows\u001b[0;34m(self, rowdicts)\u001b[0m\n\u001b[1;32m    166\u001b[0m \u001b[38;5;28;01mdef\u001b[39;00m \u001b[38;5;21mwriterows\u001b[39m(\u001b[38;5;28mself\u001b[39m, rowdicts):\n\u001b[0;32m--> 167\u001b[0m     \u001b[38;5;28;01mreturn\u001b[39;00m \u001b[38;5;28mself\u001b[39m\u001b[38;5;241m.\u001b[39mwriter\u001b[38;5;241m.\u001b[39mwriterows(\u001b[38;5;28mmap\u001b[39m(\u001b[38;5;28mself\u001b[39m\u001b[38;5;241m.\u001b[39m_dict_to_list, rowdicts))\n",
      "File \u001b[0;32m/opt/anaconda3/lib/python3.12/csv.py:159\u001b[0m, in \u001b[0;36mDictWriter._dict_to_list\u001b[0;34m(self, rowdict)\u001b[0m\n\u001b[1;32m    157\u001b[0m     wrong_fields \u001b[38;5;241m=\u001b[39m rowdict\u001b[38;5;241m.\u001b[39mkeys() \u001b[38;5;241m-\u001b[39m \u001b[38;5;28mself\u001b[39m\u001b[38;5;241m.\u001b[39mfieldnames\n\u001b[1;32m    158\u001b[0m     \u001b[38;5;28;01mif\u001b[39;00m wrong_fields:\n\u001b[0;32m--> 159\u001b[0m         \u001b[38;5;28;01mraise\u001b[39;00m \u001b[38;5;167;01mValueError\u001b[39;00m(\u001b[38;5;124m\"\u001b[39m\u001b[38;5;124mdict contains fields not in fieldnames: \u001b[39m\u001b[38;5;124m\"\u001b[39m\n\u001b[1;32m    160\u001b[0m                          \u001b[38;5;241m+\u001b[39m \u001b[38;5;124m\"\u001b[39m\u001b[38;5;124m, \u001b[39m\u001b[38;5;124m\"\u001b[39m\u001b[38;5;241m.\u001b[39mjoin([\u001b[38;5;28mrepr\u001b[39m(x) \u001b[38;5;28;01mfor\u001b[39;00m x \u001b[38;5;129;01min\u001b[39;00m wrong_fields]))\n\u001b[1;32m    161\u001b[0m \u001b[38;5;28;01mreturn\u001b[39;00m (rowdict\u001b[38;5;241m.\u001b[39mget(key, \u001b[38;5;28mself\u001b[39m\u001b[38;5;241m.\u001b[39mrestval) \u001b[38;5;28;01mfor\u001b[39;00m key \u001b[38;5;129;01min\u001b[39;00m \u001b[38;5;28mself\u001b[39m\u001b[38;5;241m.\u001b[39mfieldnames)\n",
      "\u001b[0;31mValueError\u001b[0m: dict contains fields not in fieldnames: None"
     ]
    }
   ],
   "source": [
    "import csv\n",
    "from selenium import webdriver\n",
    "from selenium.webdriver.common.by import By\n",
    "from selenium.webdriver.support.ui import WebDriverWait\n",
    "from selenium.webdriver.support import expected_conditions as EC\n",
    "from tqdm import tqdm\n",
    "import time\n",
    "\n",
    "def create_driver():\n",
    "    \"\"\"Selenium WebDriver 생성 및 설정\"\"\"\n",
    "    options = webdriver.ChromeOptions()\n",
    "    options.add_argument(\"--disable-blink-features=AutomationControlled\")  # Selenium 표시 제거\n",
    "    options.add_argument(\"--headless\")  # Headless 모드 활성화\n",
    "    driver = webdriver.Chrome(options=options)\n",
    "    return driver\n",
    "\n",
    "def scrape_article_content(link):\n",
    "    \"\"\"\n",
    "    특정 링크를 방문하여 기사 내용을 크롤링하는 함수.\n",
    "\n",
    "    Parameters:\n",
    "        link (str): 기사의 URL\n",
    "    \n",
    "    Returns:\n",
    "        content (str): 기사의 본문 내용\n",
    "    \"\"\"\n",
    "    driver = create_driver()\n",
    "    driver.get(link)\n",
    "    \n",
    "    try:\n",
    "        # 기사 내용 대기 및 추출\n",
    "        wait = WebDriverWait(driver, 10)\n",
    "        article_element = wait.until(EC.presence_of_element_located((By.CLASS_NAME, \"post-content\")))\n",
    "        content = article_element.text.strip()\n",
    "        \n",
    "        # 줄바꿈 제거\n",
    "        content = remove_newlines(content)\n",
    "        \n",
    "    except Exception:\n",
    "        content = \"내용을 가져올 수 없습니다.\"\n",
    "    \n",
    "    finally:\n",
    "        driver.quit()\n",
    "    \n",
    "    return content\n",
    "\n",
    "def remove_newlines(content):\n",
    "    \"\"\"\n",
    "    텍스트에서 줄바꿈(\\n)을 제거하는 함수.\n",
    "    \n",
    "    Parameters:\n",
    "        content (str): 원본 텍스트\n",
    "    \n",
    "    Returns:\n",
    "        str: 줄바꿈이 제거된 텍스트\n",
    "    \"\"\"\n",
    "    return content.replace(\"\\n\", \" \").strip()\n",
    "\n",
    "def validate_row_fields(row, fieldnames):\n",
    "    \"\"\"\n",
    "    데이터 딕셔너리의 필드를 검증하고 누락된 필드를 기본값으로 추가하는 함수.\n",
    "\n",
    "    Parameters:\n",
    "        row (dict): 데이터 딕셔너리\n",
    "        fieldnames (list): CSV 파일의 필드 이름 목록\n",
    "\n",
    "    Returns:\n",
    "        dict: 검증된 데이터 딕셔너리\n",
    "    \"\"\"\n",
    "    validated_row = {key: row.get(key, \"\").strip() for key in fieldnames}  # 누락된 필드는 빈 문자열로 채움\n",
    "    return validated_row\n",
    "\n",
    "def update_csv_with_content_in_batches(input_csv, batch_size=10):\n",
    "    \"\"\"\n",
    "    기존 CSV 파일에 기사 내용을 100개씩 나누어 업데이트하는 함수.\n",
    "    \n",
    "    Parameters:\n",
    "        input_csv (str): 입력 CSV 파일 경로 (제목, 링크, 날짜 포함)\n",
    "        batch_size (int): 한 번에 처리할 기사 개수\n",
    "    \n",
    "    Returns:\n",
    "        None: 기존 파일을 업데이트하여 저장\n",
    "    \"\"\"\n",
    "    # 입력 CSV 파일 읽기\n",
    "    with open(input_csv, mode=\"r\", encoding=\"utf-8\") as file:\n",
    "        reader = list(csv.DictReader(file))\n",
    "    \n",
    "    # 필드 이름 정의 및 content 열 추가\n",
    "    fieldnames = [\"title\", \"link\", \"date\", \"content\"]\n",
    "    \n",
    "    for row in reader:\n",
    "        if \"content\" not in row:  # content 열이 없으면 빈 값으로 추가\n",
    "            row[\"content\"] = \"\"\n",
    "\n",
    "    total_articles = len(reader)\n",
    "    \n",
    "    for start_idx in range(0, total_articles, batch_size):\n",
    "        end_idx = min(start_idx + batch_size, total_articles)\n",
    "        \n",
    "        # tqdm으로 진행 상황 표시\n",
    "        updated_articles = []\n",
    "        \n",
    "        for row in tqdm(reader[start_idx:end_idx], desc=f\"Processing articles {start_idx + 1}-{end_idx}\"):\n",
    "            title = row.get(\"title\", \"\").strip()\n",
    "            link = row.get(\"link\", \"\").strip()\n",
    "            date = row.get(\"date\", \"\").strip()\n",
    "            \n",
    "            # 이미 content가 있는 경우 건너뜀\n",
    "            if \"content\" in row and row[\"content\"].strip():\n",
    "                validated_row = validate_row_fields(row, fieldnames)  # 필드 검증 추가\n",
    "                updated_articles.append(validated_row)  # 기존 데이터 유지\n",
    "                continue\n",
    "            \n",
    "            content = scrape_article_content(link)  # 기사 내용 크롤링\n",
    "            \n",
    "            # 기존 데이터에 content 추가 및 필드 검증 수행\n",
    "            updated_row = {\n",
    "                \"title\": title,\n",
    "                \"link\": link,\n",
    "                \"date\": date,\n",
    "                \"content\": content,\n",
    "            }\n",
    "            validated_row = validate_row_fields(updated_row, fieldnames)  # 필드 검증 추가\n",
    "            \n",
    "            updated_articles.append(validated_row)\n",
    "        \n",
    "        # 출력 CSV 파일 저장 (덮어쓰기)\n",
    "        with open(input_csv, mode=\"w\", newline=\"\", encoding=\"utf-8\") as file:\n",
    "            writer = csv.DictWriter(file, fieldnames=fieldnames, quoting=csv.QUOTE_ALL)  # 모든 필드를 따옴표로 감싸기\n",
    "            \n",
    "            writer.writeheader()  # 헤더 추가\n",
    "            writer.writerows(reader[:start_idx] + updated_articles + reader[end_idx:])\n",
    "        \n",
    "        # 잠시 대기하여 서버 부하를 줄임\n",
    "        time.sleep(5)\n",
    "\n",
    "# 실행 코드\n",
    "if __name__ == \"__main__\":\n",
    "    input_csv_path = \"cointelegraph_articles.csv\"  # 입력 CSV 파일 경로\n",
    "    \n",
    "    update_csv_with_content_in_batches(input_csv=input_csv_path, batch_size=10)"
   ]
  },
  {
   "cell_type": "code",
   "execution_count": null,
   "metadata": {},
   "outputs": [],
   "source": [
    "import pandas as pd\n",
    "import re\n",
    "\n",
    "# 1. 데이터 로드\n",
    "data = pd.read_csv(\"cointelegraph_articles.csv\")  # 크롤링된 데이터 파일\n",
    "\n",
    "# 2. 텍스트 전처리 함수\n",
    "def preprocess_text(text):\n",
    "    \"\"\"\n",
    "    텍스트 전처리: HTML 태그 제거, 특수 문자 제거, 소문자 변환\n",
    "    \n",
    "    Parameters:\n",
    "        text (str): 원본 텍스트\n",
    "    \n",
    "    Returns:\n",
    "        cleaned_text (str): 정제된 텍스트\n",
    "    \"\"\"\n",
    "    text = re.sub(r'<[^>]*>', '', text)  # HTML 태그 제거\n",
    "    text = re.sub(r'[^\\w\\s]', '', text)  # 특수 문자 제거\n",
    "    text = text.lower()  # 소문자 변환\n",
    "    return text\n",
    "\n",
    "# 3. 전처리 적용\n",
    "data[\"cleaned_content\"] = data[\"content\"].apply(preprocess_text)\n",
    "\n",
    "# 데이터 확인\n",
    "print(data.head())"
   ]
  },
  {
   "cell_type": "code",
   "execution_count": 43,
   "metadata": {},
   "outputs": [
    {
     "name": "stdout",
     "output_type": "stream",
     "text": [
      "Collecting vaderSentiment\n",
      "  Downloading vaderSentiment-3.3.2-py2.py3-none-any.whl.metadata (572 bytes)\n",
      "Requirement already satisfied: requests in /opt/anaconda3/lib/python3.12/site-packages (from vaderSentiment) (2.32.3)\n",
      "Requirement already satisfied: charset-normalizer<4,>=2 in /opt/anaconda3/lib/python3.12/site-packages (from requests->vaderSentiment) (3.3.2)\n",
      "Requirement already satisfied: idna<4,>=2.5 in /opt/anaconda3/lib/python3.12/site-packages (from requests->vaderSentiment) (3.7)\n",
      "Requirement already satisfied: urllib3<3,>=1.21.1 in /opt/anaconda3/lib/python3.12/site-packages (from requests->vaderSentiment) (2.2.2)\n",
      "Requirement already satisfied: certifi>=2017.4.17 in /opt/anaconda3/lib/python3.12/site-packages (from requests->vaderSentiment) (2024.8.30)\n",
      "Downloading vaderSentiment-3.3.2-py2.py3-none-any.whl (125 kB)\n",
      "Installing collected packages: vaderSentiment\n",
      "Successfully installed vaderSentiment-3.3.2\n",
      "Note: you may need to restart the kernel to use updated packages.\n"
     ]
    }
   ],
   "source": [
    "pip install vaderSentiment"
   ]
  },
  {
   "cell_type": "code",
   "execution_count": 1,
   "metadata": {},
   "outputs": [
    {
     "name": "stdout",
     "output_type": "stream",
     "text": [
      "감정 분석 결과가 'cointelegraph_articles_with_sentiment.csv' 파일에 저장되었습니다!\n"
     ]
    }
   ],
   "source": [
    "import csv\n",
    "from vaderSentiment.vaderSentiment import SentimentIntensityAnalyzer\n",
    "\n",
    "def analyze_sentiment_vader(content):\n",
    "    \"\"\"\n",
    "    주어진 텍스트(content)의 감정을 분석하는 함수 (VADER 사용).\n",
    "    \n",
    "    Parameters:\n",
    "        content (str): 분석할 텍스트\n",
    "    \n",
    "    Returns:\n",
    "        sentiment (str): \"Positive\", \"Negative\", \"Neutral\" 중 하나\n",
    "    \"\"\"\n",
    "    analyzer = SentimentIntensityAnalyzer()\n",
    "    sentiment_scores = analyzer.polarity_scores(content)\n",
    "    \n",
    "    # VADER의 compound 점수를 기준으로 감정 분류\n",
    "    if sentiment_scores['compound'] >= 0.05:\n",
    "        return \"Positive\"\n",
    "    elif sentiment_scores['compound'] <= -0.05:\n",
    "        return \"Negative\"\n",
    "    else:\n",
    "        return \"Neutral\"\n",
    "\n",
    "def perform_sentiment_analysis(input_csv, output_csv):\n",
    "    \"\"\"\n",
    "    입력 CSV 파일에서 기사 내용을 읽어 감정 분석을 수행하고 결과를 새로운 CSV 파일에 저장하는 함수.\n",
    "    \n",
    "    Parameters:\n",
    "        input_csv (str): 입력 CSV 파일 경로 (제목, 링크, 날짜, 내용 포함)\n",
    "        output_csv (str): 출력 CSV 파일 경로 (제목, 링크, 날짜, 내용, 감정 포함)\n",
    "    \"\"\"\n",
    "    articles_with_sentiment = []\n",
    "    \n",
    "    # 입력 CSV 파일 읽기\n",
    "    with open(input_csv, mode=\"r\", encoding=\"utf-8\") as file:\n",
    "        reader = csv.DictReader(file)\n",
    "        for row in reader:\n",
    "            title = row[\"title\"]\n",
    "            link = row[\"link\"]\n",
    "            date = row[\"date\"]\n",
    "            content = row[\"content\"]\n",
    "            \n",
    "            # 감정 분석 수행\n",
    "            sentiment = analyze_sentiment_vader(content)\n",
    "            \n",
    "            articles_with_sentiment.append({\n",
    "                \"title\": title,\n",
    "                \"link\": link,\n",
    "                \"date\": date,\n",
    "                \"content\": content,\n",
    "                \"sentiment\": sentiment\n",
    "            })\n",
    "    \n",
    "    # 출력 CSV 파일 저장\n",
    "    with open(output_csv, mode=\"w\", newline=\"\", encoding=\"utf-8\") as file:\n",
    "        fieldnames = [\"title\", \"link\", \"date\", \"content\", \"sentiment\"]\n",
    "        writer = csv.DictWriter(file, fieldnames=fieldnames)\n",
    "        \n",
    "        writer.writeheader()  # 헤더 추가\n",
    "        writer.writerows(articles_with_sentiment)  # 모든 데이터를 한 번에 저장\n",
    "    \n",
    "    print(f\"감정 분석 결과가 '{output_csv}' 파일에 저장되었습니다!\")\n",
    "\n",
    "# 실행 코드\n",
    "if __name__ == \"__main__\":\n",
    "    input_csv_path = \"cointelegraph_articles_with_content.csv\"  # 입력 CSV 파일 경로\n",
    "    output_csv_path = \"cointelegraph_articles_with_sentiment.csv\"  # 출력 CSV 파일 경로\n",
    "    \n",
    "    perform_sentiment_analysis(input_csv=input_csv_path, output_csv=output_csv_path)"
   ]
  },
  {
   "cell_type": "code",
   "execution_count": 8,
   "metadata": {},
   "outputs": [
    {
     "data": {
      "application/vnd.plotly.v1+json": {
       "config": {
        "plotlyServerURL": "https://plot.ly"
       },
       "data": [
        {
         "hovertemplate": "날짜=%{x}<br>평균 감정 점수=%{y}<extra></extra>",
         "legendgroup": "",
         "line": {
          "color": "#636efa",
          "dash": "solid"
         },
         "marker": {
          "symbol": "circle"
         },
         "mode": "lines+markers",
         "name": "",
         "orientation": "v",
         "showlegend": false,
         "type": "scatter",
         "x": [
          "2025-03-01T00:00:00.000000000",
          "2025-03-03T00:00:00.000000000",
          "2025-03-04T00:00:00.000000000",
          "2025-03-05T00:00:00.000000000",
          "2025-03-06T00:00:00.000000000",
          "2025-03-07T00:00:00.000000000",
          "2025-03-08T00:00:00.000000000",
          "2025-03-10T00:00:00.000000000",
          "2025-03-11T00:00:00.000000000",
          "2025-03-12T00:00:00.000000000",
          "2025-03-13T00:00:00.000000000",
          "2025-03-14T00:00:00.000000000"
         ],
         "xaxis": "x",
         "y": {
          "bdata": "jC666KKL7j8zMzMzMzP7PwAAAAAAAPI/AAAAAAAA+D9u27Zt27bxPwAAAAAAAPQ/AAAAAAAA+D85juM4juP4P6uqqqqqqso/SZIkSZIk6T+rqqqqqqrSPwAAAAAAAPg/",
          "dtype": "f8"
         },
         "yaxis": "y"
        }
       ],
       "layout": {
        "legend": {
         "tracegroupgap": 0
        },
        "template": {
         "data": {
          "bar": [
           {
            "error_x": {
             "color": "#f2f5fa"
            },
            "error_y": {
             "color": "#f2f5fa"
            },
            "marker": {
             "line": {
              "color": "rgb(17,17,17)",
              "width": 0.5
             },
             "pattern": {
              "fillmode": "overlay",
              "size": 10,
              "solidity": 0.2
             }
            },
            "type": "bar"
           }
          ],
          "barpolar": [
           {
            "marker": {
             "line": {
              "color": "rgb(17,17,17)",
              "width": 0.5
             },
             "pattern": {
              "fillmode": "overlay",
              "size": 10,
              "solidity": 0.2
             }
            },
            "type": "barpolar"
           }
          ],
          "carpet": [
           {
            "aaxis": {
             "endlinecolor": "#A2B1C6",
             "gridcolor": "#506784",
             "linecolor": "#506784",
             "minorgridcolor": "#506784",
             "startlinecolor": "#A2B1C6"
            },
            "baxis": {
             "endlinecolor": "#A2B1C6",
             "gridcolor": "#506784",
             "linecolor": "#506784",
             "minorgridcolor": "#506784",
             "startlinecolor": "#A2B1C6"
            },
            "type": "carpet"
           }
          ],
          "choropleth": [
           {
            "colorbar": {
             "outlinewidth": 0,
             "ticks": ""
            },
            "type": "choropleth"
           }
          ],
          "contour": [
           {
            "colorbar": {
             "outlinewidth": 0,
             "ticks": ""
            },
            "colorscale": [
             [
              0,
              "#0d0887"
             ],
             [
              0.1111111111111111,
              "#46039f"
             ],
             [
              0.2222222222222222,
              "#7201a8"
             ],
             [
              0.3333333333333333,
              "#9c179e"
             ],
             [
              0.4444444444444444,
              "#bd3786"
             ],
             [
              0.5555555555555556,
              "#d8576b"
             ],
             [
              0.6666666666666666,
              "#ed7953"
             ],
             [
              0.7777777777777778,
              "#fb9f3a"
             ],
             [
              0.8888888888888888,
              "#fdca26"
             ],
             [
              1,
              "#f0f921"
             ]
            ],
            "type": "contour"
           }
          ],
          "contourcarpet": [
           {
            "colorbar": {
             "outlinewidth": 0,
             "ticks": ""
            },
            "type": "contourcarpet"
           }
          ],
          "heatmap": [
           {
            "colorbar": {
             "outlinewidth": 0,
             "ticks": ""
            },
            "colorscale": [
             [
              0,
              "#0d0887"
             ],
             [
              0.1111111111111111,
              "#46039f"
             ],
             [
              0.2222222222222222,
              "#7201a8"
             ],
             [
              0.3333333333333333,
              "#9c179e"
             ],
             [
              0.4444444444444444,
              "#bd3786"
             ],
             [
              0.5555555555555556,
              "#d8576b"
             ],
             [
              0.6666666666666666,
              "#ed7953"
             ],
             [
              0.7777777777777778,
              "#fb9f3a"
             ],
             [
              0.8888888888888888,
              "#fdca26"
             ],
             [
              1,
              "#f0f921"
             ]
            ],
            "type": "heatmap"
           }
          ],
          "histogram": [
           {
            "marker": {
             "pattern": {
              "fillmode": "overlay",
              "size": 10,
              "solidity": 0.2
             }
            },
            "type": "histogram"
           }
          ],
          "histogram2d": [
           {
            "colorbar": {
             "outlinewidth": 0,
             "ticks": ""
            },
            "colorscale": [
             [
              0,
              "#0d0887"
             ],
             [
              0.1111111111111111,
              "#46039f"
             ],
             [
              0.2222222222222222,
              "#7201a8"
             ],
             [
              0.3333333333333333,
              "#9c179e"
             ],
             [
              0.4444444444444444,
              "#bd3786"
             ],
             [
              0.5555555555555556,
              "#d8576b"
             ],
             [
              0.6666666666666666,
              "#ed7953"
             ],
             [
              0.7777777777777778,
              "#fb9f3a"
             ],
             [
              0.8888888888888888,
              "#fdca26"
             ],
             [
              1,
              "#f0f921"
             ]
            ],
            "type": "histogram2d"
           }
          ],
          "histogram2dcontour": [
           {
            "colorbar": {
             "outlinewidth": 0,
             "ticks": ""
            },
            "colorscale": [
             [
              0,
              "#0d0887"
             ],
             [
              0.1111111111111111,
              "#46039f"
             ],
             [
              0.2222222222222222,
              "#7201a8"
             ],
             [
              0.3333333333333333,
              "#9c179e"
             ],
             [
              0.4444444444444444,
              "#bd3786"
             ],
             [
              0.5555555555555556,
              "#d8576b"
             ],
             [
              0.6666666666666666,
              "#ed7953"
             ],
             [
              0.7777777777777778,
              "#fb9f3a"
             ],
             [
              0.8888888888888888,
              "#fdca26"
             ],
             [
              1,
              "#f0f921"
             ]
            ],
            "type": "histogram2dcontour"
           }
          ],
          "mesh3d": [
           {
            "colorbar": {
             "outlinewidth": 0,
             "ticks": ""
            },
            "type": "mesh3d"
           }
          ],
          "parcoords": [
           {
            "line": {
             "colorbar": {
              "outlinewidth": 0,
              "ticks": ""
             }
            },
            "type": "parcoords"
           }
          ],
          "pie": [
           {
            "automargin": true,
            "type": "pie"
           }
          ],
          "scatter": [
           {
            "marker": {
             "line": {
              "color": "#283442"
             }
            },
            "type": "scatter"
           }
          ],
          "scatter3d": [
           {
            "line": {
             "colorbar": {
              "outlinewidth": 0,
              "ticks": ""
             }
            },
            "marker": {
             "colorbar": {
              "outlinewidth": 0,
              "ticks": ""
             }
            },
            "type": "scatter3d"
           }
          ],
          "scattercarpet": [
           {
            "marker": {
             "colorbar": {
              "outlinewidth": 0,
              "ticks": ""
             }
            },
            "type": "scattercarpet"
           }
          ],
          "scattergeo": [
           {
            "marker": {
             "colorbar": {
              "outlinewidth": 0,
              "ticks": ""
             }
            },
            "type": "scattergeo"
           }
          ],
          "scattergl": [
           {
            "marker": {
             "line": {
              "color": "#283442"
             }
            },
            "type": "scattergl"
           }
          ],
          "scattermap": [
           {
            "marker": {
             "colorbar": {
              "outlinewidth": 0,
              "ticks": ""
             }
            },
            "type": "scattermap"
           }
          ],
          "scattermapbox": [
           {
            "marker": {
             "colorbar": {
              "outlinewidth": 0,
              "ticks": ""
             }
            },
            "type": "scattermapbox"
           }
          ],
          "scatterpolar": [
           {
            "marker": {
             "colorbar": {
              "outlinewidth": 0,
              "ticks": ""
             }
            },
            "type": "scatterpolar"
           }
          ],
          "scatterpolargl": [
           {
            "marker": {
             "colorbar": {
              "outlinewidth": 0,
              "ticks": ""
             }
            },
            "type": "scatterpolargl"
           }
          ],
          "scatterternary": [
           {
            "marker": {
             "colorbar": {
              "outlinewidth": 0,
              "ticks": ""
             }
            },
            "type": "scatterternary"
           }
          ],
          "surface": [
           {
            "colorbar": {
             "outlinewidth": 0,
             "ticks": ""
            },
            "colorscale": [
             [
              0,
              "#0d0887"
             ],
             [
              0.1111111111111111,
              "#46039f"
             ],
             [
              0.2222222222222222,
              "#7201a8"
             ],
             [
              0.3333333333333333,
              "#9c179e"
             ],
             [
              0.4444444444444444,
              "#bd3786"
             ],
             [
              0.5555555555555556,
              "#d8576b"
             ],
             [
              0.6666666666666666,
              "#ed7953"
             ],
             [
              0.7777777777777778,
              "#fb9f3a"
             ],
             [
              0.8888888888888888,
              "#fdca26"
             ],
             [
              1,
              "#f0f921"
             ]
            ],
            "type": "surface"
           }
          ],
          "table": [
           {
            "cells": {
             "fill": {
              "color": "#506784"
             },
             "line": {
              "color": "rgb(17,17,17)"
             }
            },
            "header": {
             "fill": {
              "color": "#2a3f5f"
             },
             "line": {
              "color": "rgb(17,17,17)"
             }
            },
            "type": "table"
           }
          ]
         },
         "layout": {
          "annotationdefaults": {
           "arrowcolor": "#f2f5fa",
           "arrowhead": 0,
           "arrowwidth": 1
          },
          "autotypenumbers": "strict",
          "coloraxis": {
           "colorbar": {
            "outlinewidth": 0,
            "ticks": ""
           }
          },
          "colorscale": {
           "diverging": [
            [
             0,
             "#8e0152"
            ],
            [
             0.1,
             "#c51b7d"
            ],
            [
             0.2,
             "#de77ae"
            ],
            [
             0.3,
             "#f1b6da"
            ],
            [
             0.4,
             "#fde0ef"
            ],
            [
             0.5,
             "#f7f7f7"
            ],
            [
             0.6,
             "#e6f5d0"
            ],
            [
             0.7,
             "#b8e186"
            ],
            [
             0.8,
             "#7fbc41"
            ],
            [
             0.9,
             "#4d9221"
            ],
            [
             1,
             "#276419"
            ]
           ],
           "sequential": [
            [
             0,
             "#0d0887"
            ],
            [
             0.1111111111111111,
             "#46039f"
            ],
            [
             0.2222222222222222,
             "#7201a8"
            ],
            [
             0.3333333333333333,
             "#9c179e"
            ],
            [
             0.4444444444444444,
             "#bd3786"
            ],
            [
             0.5555555555555556,
             "#d8576b"
            ],
            [
             0.6666666666666666,
             "#ed7953"
            ],
            [
             0.7777777777777778,
             "#fb9f3a"
            ],
            [
             0.8888888888888888,
             "#fdca26"
            ],
            [
             1,
             "#f0f921"
            ]
           ],
           "sequentialminus": [
            [
             0,
             "#0d0887"
            ],
            [
             0.1111111111111111,
             "#46039f"
            ],
            [
             0.2222222222222222,
             "#7201a8"
            ],
            [
             0.3333333333333333,
             "#9c179e"
            ],
            [
             0.4444444444444444,
             "#bd3786"
            ],
            [
             0.5555555555555556,
             "#d8576b"
            ],
            [
             0.6666666666666666,
             "#ed7953"
            ],
            [
             0.7777777777777778,
             "#fb9f3a"
            ],
            [
             0.8888888888888888,
             "#fdca26"
            ],
            [
             1,
             "#f0f921"
            ]
           ]
          },
          "colorway": [
           "#636efa",
           "#EF553B",
           "#00cc96",
           "#ab63fa",
           "#FFA15A",
           "#19d3f3",
           "#FF6692",
           "#B6E880",
           "#FF97FF",
           "#FECB52"
          ],
          "font": {
           "color": "#f2f5fa"
          },
          "geo": {
           "bgcolor": "rgb(17,17,17)",
           "lakecolor": "rgb(17,17,17)",
           "landcolor": "rgb(17,17,17)",
           "showlakes": true,
           "showland": true,
           "subunitcolor": "#506784"
          },
          "hoverlabel": {
           "align": "left"
          },
          "hovermode": "closest",
          "mapbox": {
           "style": "dark"
          },
          "paper_bgcolor": "rgb(17,17,17)",
          "plot_bgcolor": "rgb(17,17,17)",
          "polar": {
           "angularaxis": {
            "gridcolor": "#506784",
            "linecolor": "#506784",
            "ticks": ""
           },
           "bgcolor": "rgb(17,17,17)",
           "radialaxis": {
            "gridcolor": "#506784",
            "linecolor": "#506784",
            "ticks": ""
           }
          },
          "scene": {
           "xaxis": {
            "backgroundcolor": "rgb(17,17,17)",
            "gridcolor": "#506784",
            "gridwidth": 2,
            "linecolor": "#506784",
            "showbackground": true,
            "ticks": "",
            "zerolinecolor": "#C8D4E3"
           },
           "yaxis": {
            "backgroundcolor": "rgb(17,17,17)",
            "gridcolor": "#506784",
            "gridwidth": 2,
            "linecolor": "#506784",
            "showbackground": true,
            "ticks": "",
            "zerolinecolor": "#C8D4E3"
           },
           "zaxis": {
            "backgroundcolor": "rgb(17,17,17)",
            "gridcolor": "#506784",
            "gridwidth": 2,
            "linecolor": "#506784",
            "showbackground": true,
            "ticks": "",
            "zerolinecolor": "#C8D4E3"
           }
          },
          "shapedefaults": {
           "line": {
            "color": "#f2f5fa"
           }
          },
          "sliderdefaults": {
           "bgcolor": "#C8D4E3",
           "bordercolor": "rgb(17,17,17)",
           "borderwidth": 1,
           "tickwidth": 0
          },
          "ternary": {
           "aaxis": {
            "gridcolor": "#506784",
            "linecolor": "#506784",
            "ticks": ""
           },
           "baxis": {
            "gridcolor": "#506784",
            "linecolor": "#506784",
            "ticks": ""
           },
           "bgcolor": "rgb(17,17,17)",
           "caxis": {
            "gridcolor": "#506784",
            "linecolor": "#506784",
            "ticks": ""
           }
          },
          "title": {
           "x": 0.05
          },
          "updatemenudefaults": {
           "bgcolor": "#506784",
           "borderwidth": 0
          },
          "xaxis": {
           "automargin": true,
           "gridcolor": "#283442",
           "linecolor": "#506784",
           "ticks": "",
           "title": {
            "standoff": 15
           },
           "zerolinecolor": "#283442",
           "zerolinewidth": 2
          },
          "yaxis": {
           "automargin": true,
           "gridcolor": "#283442",
           "linecolor": "#506784",
           "ticks": "",
           "title": {
            "standoff": 15
           },
           "zerolinecolor": "#283442",
           "zerolinewidth": 2
          }
         }
        },
        "title": {
         "text": "날짜별 평균 감정 강도"
        },
        "xaxis": {
         "anchor": "y",
         "domain": [
          0,
          1
         ],
         "title": {
          "text": "날짜"
         }
        },
        "yaxis": {
         "anchor": "x",
         "domain": [
          0,
          1
         ],
         "title": {
          "text": "평균 감정 점수"
         }
        }
       }
      }
     },
     "metadata": {},
     "output_type": "display_data"
    }
   ],
   "source": [
    "import pandas as pd\n",
    "import plotly.express as px\n",
    "\n",
    "def process_sentiment_data(input_csv):\n",
    "    \"\"\"\n",
    "    CSV 파일에서 데이터를 읽어와 날짜별 감정 강도를 처리하는 함수.\n",
    "    \n",
    "    Parameters:\n",
    "        input_csv (str): 입력 CSV 파일 경로\n",
    "    \n",
    "    Returns:\n",
    "        df_intensity (DataFrame): 날짜별 평균 감정 강도 데이터프레임\n",
    "    \"\"\"\n",
    "    # CSV 파일 읽기\n",
    "    df = pd.read_csv(input_csv)\n",
    "    \n",
    "    # 감정을 숫자로 매핑 및 가중치 적용\n",
    "    sentiment_mapping = {\n",
    "        \"Positive\": lambda x: 2 if \"price rise\" in x.lower() else 1.5,\n",
    "        \"Neutral\": lambda x: 0,\n",
    "        \"Negative\": lambda x: -2 if \"price drop\" in x.lower() else -1.5\n",
    "    }\n",
    "    \n",
    "    # 각 기사 내용에 따라 가중치 적용\n",
    "    df[\"sentiment_score\"] = df.apply(\n",
    "        lambda row: sentiment_mapping[row[\"sentiment\"]](row[\"content\"]), axis=1\n",
    "    )\n",
    "    \n",
    "    # 날짜 형식 변환\n",
    "    df[\"date\"] = pd.to_datetime(df[\"date\"])\n",
    "    \n",
    "    \n",
    "    # 날짜별 평균 감정 강도 계산\n",
    "    df_intensity = df.groupby(\"date\")[\"sentiment_score\"].mean().reset_index()\n",
    "    \n",
    "    return df_intensity\n",
    "\n",
    "def visualize_sentiment_data(df_intensity):\n",
    "    \"\"\"\n",
    "    Plotly를 사용하여 날짜별 감정 비율과 강도를 시각화하는 함수.\n",
    "    \n",
    "    Parameters:\n",
    "        df_intensity (DataFrame): 날짜별 평균 감정 강도 데이터프레임\n",
    "    \"\"\"\n",
    "    \n",
    "    # 평균 강도 시각화\n",
    "    fig_intensity = px.line(\n",
    "        df_intensity,\n",
    "        x=\"date\",\n",
    "        y=\"sentiment_score\",\n",
    "        title=\"날짜별 평균 감정 강도\",\n",
    "        labels={\"date\": \"날짜\", \"sentiment_score\": \"평균 감정 점수\"},\n",
    "        markers=True\n",
    "    )\n",
    "    \n",
    "    fig_intensity.update_layout(template=\"plotly_dark\")\n",
    "    fig_intensity.show()\n",
    "\n",
    "# 실행 코드\n",
    "if __name__ == \"__main__\":\n",
    "    input_csv_path = \"cointelegraph_articles_with_sentiment.csv\"  # 입력 CSV 파일 경로\n",
    "    \n",
    "    # 데이터 처리 및 시각화\n",
    "    df_intensity = process_sentiment_data(input_csv=input_csv_path)\n",
    "    visualize_sentiment_data(df_intensity)"
   ]
  },
  {
   "cell_type": "code",
   "execution_count": 9,
   "metadata": {},
   "outputs": [
    {
     "data": {
      "text/html": [
       "<div>\n",
       "<style scoped>\n",
       "    .dataframe tbody tr th:only-of-type {\n",
       "        vertical-align: middle;\n",
       "    }\n",
       "\n",
       "    .dataframe tbody tr th {\n",
       "        vertical-align: top;\n",
       "    }\n",
       "\n",
       "    .dataframe thead th {\n",
       "        text-align: right;\n",
       "    }\n",
       "</style>\n",
       "<table border=\"1\" class=\"dataframe\">\n",
       "  <thead>\n",
       "    <tr style=\"text-align: right;\">\n",
       "      <th></th>\n",
       "      <th>title</th>\n",
       "      <th>link</th>\n",
       "      <th>date</th>\n",
       "    </tr>\n",
       "  </thead>\n",
       "  <tbody>\n",
       "    <tr>\n",
       "      <th>0</th>\n",
       "      <td>XRP price poised for 46% gains after Ripple se...</td>\n",
       "      <td>https://cointelegraph.com/news/xrp-price-46-ga...</td>\n",
       "      <td>2025-03-14</td>\n",
       "    </tr>\n",
       "    <tr>\n",
       "      <th>1</th>\n",
       "      <td>Crypto regulation shifts as Bitcoin eyes $105K...</td>\n",
       "      <td>https://cointelegraph.com/news/crypto-regulati...</td>\n",
       "      <td>2025-03-13</td>\n",
       "    </tr>\n",
       "    <tr>\n",
       "      <th>2</th>\n",
       "      <td>Solana price bottom below $100? Death cross hi...</td>\n",
       "      <td>https://cointelegraph.com/news/solana-price-bo...</td>\n",
       "      <td>2025-03-13</td>\n",
       "    </tr>\n",
       "    <tr>\n",
       "      <th>3</th>\n",
       "      <td>Bitcoin price drops 2% as falling inflation bo...</td>\n",
       "      <td>https://cointelegraph.com/news/bitcoin-price-d...</td>\n",
       "      <td>2025-03-13</td>\n",
       "    </tr>\n",
       "    <tr>\n",
       "      <th>4</th>\n",
       "      <td>Trump family held talks with Binance for stake...</td>\n",
       "      <td>https://cointelegraph.com/news/trump-family-ha...</td>\n",
       "      <td>2025-03-13</td>\n",
       "    </tr>\n",
       "    <tr>\n",
       "      <th>...</th>\n",
       "      <td>...</td>\n",
       "      <td>...</td>\n",
       "      <td>...</td>\n",
       "    </tr>\n",
       "    <tr>\n",
       "      <th>112</th>\n",
       "      <td>Bitcoin rebounds to $84K — Analysts say BTC cr...</td>\n",
       "      <td>https://cointelegraph.com/news/bitcoin-rebound...</td>\n",
       "      <td>2025-03-01</td>\n",
       "    </tr>\n",
       "    <tr>\n",
       "      <th>113</th>\n",
       "      <td>BlackRock adds BTC ETF to model portfolio</td>\n",
       "      <td>https://cointelegraph.com/news/blackrock-adds-...</td>\n",
       "      <td>2025-03-01</td>\n",
       "    </tr>\n",
       "    <tr>\n",
       "      <th>114</th>\n",
       "      <td>Price analysis 2/28: BTC, ETH, XRP, BNB, SOL, ...</td>\n",
       "      <td>https://cointelegraph.com/news/price-analysis-...</td>\n",
       "      <td>2025-03-01</td>\n",
       "    </tr>\n",
       "    <tr>\n",
       "      <th>115</th>\n",
       "      <td>Bitcoin price metric hits ‘optimal DCA’ zone n...</td>\n",
       "      <td>https://cointelegraph.com/news/bitcoin-price-h...</td>\n",
       "      <td>2025-03-01</td>\n",
       "    </tr>\n",
       "    <tr>\n",
       "      <th>116</th>\n",
       "      <td>Bitcoin price bounces 5% as analyst sees crypt...</td>\n",
       "      <td>https://cointelegraph.com/news/bitcoin-price-b...</td>\n",
       "      <td>2025-03-01</td>\n",
       "    </tr>\n",
       "  </tbody>\n",
       "</table>\n",
       "<p>117 rows × 3 columns</p>\n",
       "</div>"
      ],
      "text/plain": [
       "                                                 title  \\\n",
       "0    XRP price poised for 46% gains after Ripple se...   \n",
       "1    Crypto regulation shifts as Bitcoin eyes $105K...   \n",
       "2    Solana price bottom below $100? Death cross hi...   \n",
       "3    Bitcoin price drops 2% as falling inflation bo...   \n",
       "4    Trump family held talks with Binance for stake...   \n",
       "..                                                 ...   \n",
       "112  Bitcoin rebounds to $84K — Analysts say BTC cr...   \n",
       "113          BlackRock adds BTC ETF to model portfolio   \n",
       "114  Price analysis 2/28: BTC, ETH, XRP, BNB, SOL, ...   \n",
       "115  Bitcoin price metric hits ‘optimal DCA’ zone n...   \n",
       "116  Bitcoin price bounces 5% as analyst sees crypt...   \n",
       "\n",
       "                                                  link        date  \n",
       "0    https://cointelegraph.com/news/xrp-price-46-ga...  2025-03-14  \n",
       "1    https://cointelegraph.com/news/crypto-regulati...  2025-03-13  \n",
       "2    https://cointelegraph.com/news/solana-price-bo...  2025-03-13  \n",
       "3    https://cointelegraph.com/news/bitcoin-price-d...  2025-03-13  \n",
       "4    https://cointelegraph.com/news/trump-family-ha...  2025-03-13  \n",
       "..                                                 ...         ...  \n",
       "112  https://cointelegraph.com/news/bitcoin-rebound...  2025-03-01  \n",
       "113  https://cointelegraph.com/news/blackrock-adds-...  2025-03-01  \n",
       "114  https://cointelegraph.com/news/price-analysis-...  2025-03-01  \n",
       "115  https://cointelegraph.com/news/bitcoin-price-h...  2025-03-01  \n",
       "116  https://cointelegraph.com/news/bitcoin-price-b...  2025-03-01  \n",
       "\n",
       "[117 rows x 3 columns]"
      ]
     },
     "execution_count": 9,
     "metadata": {},
     "output_type": "execute_result"
    }
   ],
   "source": [
    "df = pd.read_csv('cointelegraph_articles.csv')\n",
    "df"
   ]
  }
 ],
 "metadata": {
  "kernelspec": {
   "display_name": "base",
   "language": "python",
   "name": "python3"
  },
  "language_info": {
   "codemirror_mode": {
    "name": "ipython",
    "version": 3
   },
   "file_extension": ".py",
   "mimetype": "text/x-python",
   "name": "python",
   "nbconvert_exporter": "python",
   "pygments_lexer": "ipython3",
   "version": "3.12.4"
  }
 },
 "nbformat": 4,
 "nbformat_minor": 2
}
