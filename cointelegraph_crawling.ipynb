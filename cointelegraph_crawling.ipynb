{
 "cells": [
  {
   "cell_type": "code",
   "execution_count": 40,
   "metadata": {},
   "outputs": [
    {
     "name": "stdout",
     "output_type": "stream",
     "text": [
      "Cointelegraph Markets 섹션에서 기사를 크롤링 중...\n",
      "기사 저장: XRP price poised for 46% gains after Ripple secures first Dubai license (2025-03-14)\n",
      "기사 저장: Crypto regulation shifts as Bitcoin eyes $105K amid liquidity boost (2025-03-13)\n",
      "기사 저장: Solana price bottom below $100? Death cross hints at 30% drop (2025-03-13)\n",
      "기사 저장: Bitcoin price drops 2% as falling inflation boosts US trade war fears (2025-03-13)\n",
      "기사 저장: Trump family held talks with Binance for stake in crypto exchange — Report (2025-03-13)\n",
      "기사 저장: Will Bitcoin price reclaim $95K before the end of March? (2025-03-13)\n",
      "기사 저장: Bybit CEO on ‘brutal’ $4M Hyperliquid loss: Lower leverage as positions grow (2025-03-13)\n",
      "기사 저장: 3 reasons why Ethereum can outperform its rivals after crashing to 17-month lows (2025-03-13)\n",
      "기사 저장: Bitcoin must secure weekly close above $89K to confirm bottom has passed (2025-03-13)\n",
      "기사 저장: Ethereum 'falling knife' warning: Is another 30% crash versus Bitcoin coming? (2025-03-13)\n",
      "기사 저장: ETH/BTC hits 5-year low as trader suggests rotation into stronger alts (2025-03-13)\n",
      "기사 저장: Crypto trading volume slumps, signaling market exhaustion: Analysis (2025-03-13)\n",
      "기사 저장: Bitcoin dominance hits new highs, alts fade: Research (2025-03-12)\n",
      "기사 저장: SEC postpones ruling on Fidelity Ether ETF options (2025-03-12)\n",
      "기사 저장: Will Ethereum price bottom at $1.6K? (2025-03-12)\n",
      "기사 저장: Price analysis 3/12: BTC, ETH, XRP, BNB, SOL, ADA, DOGE, PI, LEO, HBAR (2025-03-13)\n",
      "기사 저장: Bitcoin battles US sellers as CPI inflation sees first drop since mid-2024 (2025-03-12)\n",
      "기사 저장: Why is XRP price up today? (2025-03-12)\n",
      "기사 저장: Crypto whale liquidated for $308M in leveraged Ether trade (2025-03-12)\n",
      "기사 저장: XRP ETF: Here are the funds awaiting SEC approval so far (2025-03-12)\n",
      "기사 저장: Bitcoin’s next catalyst: End of $36T US debt ceiling suspension (2025-03-12)\n",
      "기사 저장: Is Bitcoin price going to crash again? (2025-03-12)\n",
      "기사 저장: Bitcoin whales hint at $80K ‘market rebound’ as Binance inflows cool (2025-03-12)\n",
      "기사 저장: Why is Bitcoin price up today? (2025-03-12)\n",
      "기사 저장: Bitcoin high-entry buyers are driving sell pressure, price may ‘floor’ at $70K (2025-03-12)\n",
      "기사 저장: Bitcoin jumps 7% despite metrics flashing ‘bearish territory’ (2025-03-12)\n",
      "기사 저장: 4 signs that $76.7K Bitcoin is probably the ultimate low (2025-03-12)\n",
      "기사 저장: Bitcoin dips below $80K as Trump Canada tariffs halt BTC price comeback (2025-03-11)\n",
      "기사 저장: 3 reasons XRP might drop to $1.60 in March (2025-03-11)\n",
      "기사 저장: Why is Dogecoin price down today? (2025-03-11)\n",
      "기사 저장: Why is Ethereum (ETH) price down today? (2025-03-11)\n",
      "기사 저장: Why is Cardano price down today? (2025-03-11)\n",
      "기사 저장: Bitcoin price bounces 4% as data gives ‘89% chance’ stocks bottom is in (2025-03-11)\n",
      "기사 저장: Why is XRP price down today? (2025-03-11)\n",
      "기사 저장: Investors flee from risk assets as JPMorgan ups recession odds to 40% (2025-03-11)\n",
      "기사 저장: 4 things must happen before Ethereum can reclaim $2,600 (2025-03-11)\n",
      "기사 저장: Crypto needs policy change more than Bitcoin reserve — Execs (2025-03-11)\n",
      "기사 저장: Price analysis 3/10: SPX, DXY, BTC, ETH, XRP, BNB, SOL, DOGE, ADA, PI (2025-03-11)\n",
      "기사 저장: Bitcoin nears $78K lows as US stocks dive at the Wall Street open (2025-03-11)\n",
      "기사 저장: Bitcoin may benefit from US stablecoin dominance push (2025-03-10)\n",
      "기사 저장: Ethereum price bottom? $1.8B in ETH leaves exchanges, biggest outflow since 2022 (2025-03-10)\n",
      "기사 저장: European lawmakers silent on US Bitcoin reserve amid digital euro push (2025-03-10)\n",
      "기사 저장: Why is the crypto market down today? (2025-03-10)\n",
      "기사 저장: Strategy’s Bitcoin stash still up over $7B despite market downturn (2025-03-10)\n",
      "기사 저장: Bitcoin ‘Monte Carlo’ model forecasts $713K peak in 6 months (2025-03-10)\n",
      "기사 저장: Is XRP price going to crash again? (2025-03-10)\n",
      "기사 저장: Biggest red weekly candle ever: 5 things to know in Bitcoin this week (2025-03-10)\n",
      "기사 저장: Bitcoin slides another 3% — Is BTC price headed for $69K next? (2025-03-10)\n",
      "기사 저장: XRP price risks another 20% drop after ‘Digital Asset Stockpile’ letdown (2025-03-08)\n",
      "기사 저장: 50% of female crypto investors seek long-term wealth creation — Survey (2025-03-08)\n",
      "기사 저장: US Bitcoin reserve prompts $370 million in ETF outflows: Farside (2025-03-08)\n",
      "기사 저장: 4 reasons why Solana (SOL) price could rally back to $180 (2025-03-08)\n",
      "기사 저장: US Bitcoin reserve ups volatility, futures recoil (2025-03-08)\n",
      "기사 저장: Bitcoin price all-time highs historically linked to US Dollar Index declines — Analyst (2025-03-08)\n",
      "기사 저장: Price analysis 3/7: BTC, ETH, XRP, BNB, SOL, ADA, DOGE, PI, HBAR, LINK (2025-03-08)\n",
      "기사 저장: Bitcoin leaps toward $90K as US jobs data offers pre-crypto summit boost (2025-03-08)\n",
      "기사 저장: Why is Solana (SOL) price down today? (2025-03-07)\n",
      "기사 저장: Bitcoin analysts predict limited upside after BTC reserve disappointment (2025-03-07)\n",
      "기사 저장: Bitcoin forgets Strategic Reserve 'sell the news event' with 4% bounce (2025-03-07)\n",
      "기사 저장: Why is Bitcoin price down today? (2025-03-07)\n",
      "기사 저장: Bitcoin has ‘more than 50% chance’ of new high by June: Cory Klippsten (2025-03-07)\n",
      "기사 저장: Bitcoin plunges 6% as Trump’s crypto reserve falls short of hopes (2025-03-07)\n",
      "기사 저장: US crypto reserve could boost Bitcoin market cap by $460B — Research (2025-03-07)\n",
      "기사 저장: Bitcoin price rebound breaks down before key level is hit — Here is why (2025-03-07)\n",
      "기사 저장: Total crypto market cap could top $4 trillion in Q2 — Analyst (2025-03-07)\n",
      "기사 저장: What Bitcoin reserve? BTC price slips back below $90K (2025-03-07)\n",
      "기사 저장: Bitcoin, ETH, XRP, SOL, ADA charts versus US crypto reserve rumors — Which to trade? (2025-03-07)\n",
      "기사 저장: Solana DEX volumes still rival Ethereum’s despite memecoin meltdown: VanEck (2025-03-07)\n",
      "기사 저장: Litecoin traders say LTC price dips below $100 are ‘accumulation’ opportunities (2025-03-07)\n",
      "기사 저장: Bitwise makes first institutional DeFi allocation (2025-03-07)\n",
      "기사 저장: New York bill aims to protect crypto investors from memecoin rug pulls (2025-03-06)\n",
      "기사 저장: Bitcoin struggles near $90K as US tariff fears spook ETF investors (2025-03-06)\n",
      "기사 저장: Ethereum most 'undervalued' in 17-months — Can ETH return to $4K? (2025-03-06)\n",
      "기사 저장: Why is the crypto market up today? (2025-03-06)\n",
      "기사 저장: Bitcoin gets March 25 'blast-off date' as US dollar hits 4-month low (2025-03-06)\n",
      "기사 저장: Bitcoin reclaims $92K, but sentiment still stuck in ‘Extreme Fear’ (2025-03-06)\n",
      "기사 저장: Falling US dollar is signaling a strong quarter for crypto: Raoul Pal (2025-03-06)\n",
      "기사 저장: Ethereum price ‘double top’ hints at 42% drop as ETH bull market ends (2025-03-06)\n",
      "기사 저장: Bitcoin volatility soars amid US crypto reserve, tariff jitters (2025-03-06)\n",
      "기사 저장: Ethereum (ETH) price pinned below $2.2K — Here’s why (2025-03-06)\n",
      "기사 저장: XRP/ETH pair targets 160% rally according to bull market cycle history (2025-03-06)\n",
      "기사 저장: XRP traders eye rally to new all-time highs at $5.85 as key support holds (2025-03-06)\n",
      "기사 저장: Price analysis 3/5: BTC, ETH, XRP, BNB, SOL, ADA, DOGE, PI, HBAR, LINK (2025-03-06)\n",
      "기사 저장: Bitcoin trader eyes $78K BTC price retest as US seen delaying reserve (2025-03-06)\n",
      "기사 저장: 3 reasons why Bitcoin sells off on Trump tariff news (2025-03-05)\n",
      "기사 저장: Solana sees $485M outflows in February as crypto capital flees to ‘safety’ (2025-03-05)\n",
      "기사 저장: Bitcoin price metric that called 2020 bull run says $69K new bottom (2025-03-05)\n",
      "기사 저장: Why is Cardano (ADA) price up today? (2025-03-05)\n",
      "기사 저장: Bitcoin will ‘likely continue to consolidate’ in this pullback phase — Analyst (2025-03-05)\n",
      "기사 저장: Bitcoin will face ‘significant resistance’ reclaiming $94K: Analysts (2025-03-05)\n",
      "기사 저장: Bitcoin price stabilizes near $83K as investors eye S&P 500 recovery (2025-03-05)\n",
      "기사 저장: Bitcoin sags toward $80K as US dollar strength bounces off 12-week low (2025-03-05)\n",
      "기사 저장: Is crypto’s ‘Trump effect’ short-lived? (2025-03-05)\n",
      "기사 저장: How low can the Bitcoin price go? (2025-03-04)\n",
      "기사 저장: Bitcoin no longer ‘safe haven’ as $82K BTC price dive leaves gold on top (2025-03-04)\n",
      "기사 저장: XRP ‘distribution’ hits record level as the altcoin trades below $3 (2025-03-04)\n",
      "기사 저장: Bitcoin price action mirrors 2019 ‘Xi pump,’ are new BTC lows incoming? (2025-03-04)\n",
      "기사 저장: Trump crypto strategic reserve coins ‘ADA, XRP, SOL’ dump, Bitcoin follows (2025-03-04)\n",
      "기사 저장: Traders longing ADA futures spike after Trump’s crypto reserve reveal: Bitrue (2025-03-04)\n",
      "기사 저장: Bitcoin price dumps again — Will $90K turn into resistance or support? (2025-03-04)\n",
      "기사 저장: Bitcoin returns under $90K as crypto market liquidates $150M in hours (2025-03-04)\n",
      "기사 저장: Why is Ethereum (ETH) price up today? (2025-03-03)\n",
      "기사 저장: Why is Solana (SOL) price up today? (2025-03-03)\n",
      "기사 저장: Biggest CME gap ever at $85K: 5 things to know in Bitcoin this week (2025-03-03)\n",
      "기사 저장: XRP, ADA, SOL go parabolic after Trump US crypto reserve post: Will other altcoins follow? (2025-03-03)\n",
      "기사 저장: Bitcoin price jumps to $93K as XRP 'flips' Ethereum by fully diluted value (2025-03-03)\n",
      "기사 저장: What is Bitcoin price going to do next? — Bear trap, bottom, or oversold bounce? (2025-03-01)\n",
      "기사 저장: Bitcoin spot and margin longs push BTC to $85K, but the bottom isn’t in yet (2025-03-01)\n",
      "기사 저장: XRP price to $18K? — One crypto ‘research’ group says it’s possible (2025-03-01)\n",
      "기사 저장: Bitcoin’s ‘Trump trade’ is over — Traders shift hope to Fed rate cuts, expanding global liquidity (2025-03-01)\n",
      "기사 저장: Solana rallies 16% after SOL RSI drops to 2023 low: Was that the bottom? (2025-03-01)\n",
      "기사 저장: SEC again delays Ether ETF options on Cboe (2025-03-01)\n",
      "기사 저장: Bitcoin rebounds to $84K — Analysts say BTC crash was ultimate buy signal (2025-03-01)\n",
      "기사 저장: BlackRock adds BTC ETF to model portfolio (2025-03-01)\n",
      "기사 저장: Price analysis 2/28: BTC, ETH, XRP, BNB, SOL, DOGE, ADA, LTC, LINK, AVAX (2025-03-01)\n",
      "기사 저장: Bitcoin price metric hits ‘optimal DCA’ zone not seen since BTC traded in $50K to $70K range (2025-03-01)\n",
      "기사 저장: Bitcoin price bounces 5% as analyst sees crypto slump end in March (2025-03-01)\n",
      "일주일 범위를 벗어난 기사가 발견되었습니다. 크롤링을 종료합니다.\n",
      "총 117개의 기사를 수집했습니다.\n",
      "기사 데이터가 'cointelegraph_articles.csv' 파일에 저장되었습니다!\n"
     ]
    }
   ],
   "source": [
    "import csv\n",
    "from selenium import webdriver\n",
    "from selenium.webdriver.common.by import By\n",
    "from selenium.webdriver.common.action_chains import ActionChains\n",
    "from selenium.webdriver.support.ui import WebDriverWait\n",
    "from selenium.webdriver.support import expected_conditions as EC\n",
    "from datetime import datetime, timedelta\n",
    "import time\n",
    "\n",
    "# URL 설정\n",
    "base_url = \"https://cointelegraph.com/tags/markets\"\n",
    "today = datetime.now()\n",
    "one_week_ago = today - timedelta(days=14)\n",
    "\n",
    "def create_driver():\n",
    "    \"\"\"Selenium WebDriver 생성 및 설정\"\"\"\n",
    "    options = webdriver.ChromeOptions()\n",
    "    options.add_argument(\"--disable-blink-features=AutomationControlled\")  # Selenium 표시 제거\n",
    "    driver = webdriver.Chrome(options=options)\n",
    "    return driver\n",
    "\n",
    "def scrape_articles():\n",
    "    \"\"\"\n",
    "    Cointelegraph Markets 섹션에서 기사를 크롤링하는 함수.\n",
    "    \n",
    "    Returns:\n",
    "        articles (list): 크롤링된 기사 목록 (제목, 링크, 날짜 포함)\n",
    "    \"\"\"\n",
    "    driver = create_driver()\n",
    "    driver.get(base_url)\n",
    "    \n",
    "    # 페이지 로딩 대기\n",
    "    wait = WebDriverWait(driver, 10)\n",
    "    wait.until(EC.presence_of_element_located((By.CSS_SELECTOR, \"li[data-testid='posts-listing__item']\")))\n",
    "    \n",
    "    articles = []\n",
    "    seen_titles = set()  # 중복 제거를 위한 제목 저장소\n",
    "    \n",
    "    # footer 요소 가져오기 (스크롤 제한용)\n",
    "    footer_xpath = \"//footer\"\n",
    "    footer_element = driver.find_element(By.XPATH, footer_xpath)\n",
    "    \n",
    "    try:\n",
    "        while True:\n",
    "            # 기사 추출\n",
    "            elements = driver.find_elements(By.CSS_SELECTOR, \"li[data-testid='posts-listing__item']\")\n",
    "            new_articles_found = False\n",
    "            \n",
    "            for element in elements:\n",
    "                try:\n",
    "                    # 제목과 링크 추출\n",
    "                    title_tag = element.find_element(By.CLASS_NAME, \"post-card-inline__title-link\")\n",
    "                    title = title_tag.text.strip()\n",
    "                    link = title_tag.get_attribute(\"href\")\n",
    "                    \n",
    "                    # 날짜 추출\n",
    "                    date_tag = element.find_element(By.TAG_NAME, \"time\")\n",
    "                    date_str = date_tag.get_attribute(\"datetime\")\n",
    "                    article_date = datetime.strptime(date_str[:10], '%Y-%m-%d')\n",
    "                    \n",
    "                    # 날짜 필터링 (일주일 이내 기사만)\n",
    "                    if one_week_ago <= article_date <= today and title not in seen_titles:\n",
    "                        articles.append({\n",
    "                            \"title\": title,\n",
    "                            \"link\": link,\n",
    "                            \"date\": article_date.strftime('%Y-%m-%d')\n",
    "                        })\n",
    "                        seen_titles.add(title)  # 제목 저장하여 중복 방지\n",
    "                        new_articles_found = True\n",
    "                        print(f\"기사 저장: {title} ({article_date.strftime('%Y-%m-%d')})\")\n",
    "                    \n",
    "                    # 일주일 범위를 벗어난 기사 발견 시 종료\n",
    "                    elif article_date < one_week_ago:\n",
    "                        print(\"일주일 범위를 벗어난 기사가 발견되었습니다. 크롤링을 종료합니다.\")\n",
    "                        driver.quit()\n",
    "                        return articles\n",
    "\n",
    "                except Exception as e:\n",
    "                    print(f\"Error processing article: {e}\")\n",
    "            \n",
    "            # 현재 스크롤 위치 확인\n",
    "            current_scroll_position = driver.execute_script(\"return window.scrollY + window.innerHeight\")\n",
    "            footer_position = footer_element.location['y']  # footer의 Y축 위치\n",
    "            \n",
    "            # footer에 도달하기 전에만 스크롤 수행\n",
    "            if current_scroll_position + 100 >= footer_position:\n",
    "                print(\"Reached near the footer. Stopping scroll.\")\n",
    "                break\n",
    "            \n",
    "            # 더 이상 새로운 기사가 없으면 종료\n",
    "            if not new_articles_found:\n",
    "                print(\"더 이상 새로운 기사가 없습니다. 크롤링을 종료합니다.\")\n",
    "                break\n",
    "            \n",
    "            # 스크롤 내리기: `ActionChains`를 사용해 부드럽게 스크롤 수행\n",
    "            actions = ActionChains(driver)\n",
    "            actions.move_to_element(footer_element).scroll_by_amount(0, -200).perform()\n",
    "            time.sleep(3)  # 페이지 로딩 대기\n",
    "    \n",
    "    except Exception as e:\n",
    "        print(f\"Error during scraping: {e}\")\n",
    "    \n",
    "    finally:\n",
    "        driver.quit()\n",
    "    \n",
    "    return articles\n",
    "\n",
    "# 실행 코드\n",
    "if __name__ == \"__main__\":\n",
    "    print(\"Cointelegraph Markets 섹션에서 기사를 크롤링 중...\")\n",
    "    articles = scrape_articles()\n",
    "    \n",
    "    print(f\"총 {len(articles)}개의 기사를 수집했습니다.\")\n",
    "    \n",
    "    # CSV 파일로 저장\n",
    "    with open(\"cointelegraph_articles.csv\", mode=\"w\", newline=\"\", encoding=\"utf-8\") as file:\n",
    "        fieldnames = [\"title\", \"link\", \"date\"]\n",
    "        writer = csv.DictWriter(file, fieldnames=fieldnames)\n",
    "\n",
    "        writer.writeheader()  # 헤더 추가\n",
    "        writer.writerows(articles)  # 모든 데이터를 한 번에 저장\n",
    "\n",
    "    print(\"기사 데이터가 'cointelegraph_articles.csv' 파일에 저장되었습니다!\")"
   ]
  },
  {
   "cell_type": "code",
   "execution_count": 42,
   "metadata": {},
   "outputs": [
    {
     "name": "stdout",
     "output_type": "stream",
     "text": [
      "크롤링 중: XRP price poised for 46% gains after Ripple secures first Dubai license (https://cointelegraph.com/news/xrp-price-46-gains-after-ripple-secures-first-dubai-license)\n",
      "기사 내용 크롤링 완료: https://cointelegraph.com/news/xrp-price-46-gains-after-ripple-secures-first-dubai-license\n",
      "크롤링 중: Crypto regulation shifts as Bitcoin eyes $105K amid liquidity boost (https://cointelegraph.com/news/crypto-regulation-shifts-as-bitcoin-eyes-105-k-amid-liquidity-boost)\n",
      "기사 내용 크롤링 완료: https://cointelegraph.com/news/crypto-regulation-shifts-as-bitcoin-eyes-105-k-amid-liquidity-boost\n",
      "크롤링 중: Solana price bottom below $100? Death cross hints at 30% drop (https://cointelegraph.com/news/solana-price-bottom-below-100-death-cross-30-drop)\n",
      "기사 내용 크롤링 완료: https://cointelegraph.com/news/solana-price-bottom-below-100-death-cross-30-drop\n",
      "크롤링 중: Bitcoin price drops 2% as falling inflation boosts US trade war fears (https://cointelegraph.com/news/bitcoin-price-drops-2-falling-inflation-us-trade-war-fears)\n",
      "기사 내용 크롤링 완료: https://cointelegraph.com/news/bitcoin-price-drops-2-falling-inflation-us-trade-war-fears\n",
      "크롤링 중: Trump family held talks with Binance for stake in crypto exchange — Report (https://cointelegraph.com/news/trump-family-had-talks-for-stake-in-binance-crypto-exchange-report)\n",
      "기사 내용 크롤링 완료: https://cointelegraph.com/news/trump-family-had-talks-for-stake-in-binance-crypto-exchange-report\n",
      "크롤링 중: Will Bitcoin price reclaim $95K before the end of March? (https://cointelegraph.com/news/will-bitcoin-price-reclaim-95k-before-end-march)\n",
      "기사 내용 크롤링 완료: https://cointelegraph.com/news/will-bitcoin-price-reclaim-95k-before-end-march\n",
      "크롤링 중: Bybit CEO on ‘brutal’ $4M Hyperliquid loss: Lower leverage as positions grow (https://cointelegraph.com/news/hyperliquid-4-million-loss-leverage-eth-trader)\n",
      "기사 내용 크롤링 완료: https://cointelegraph.com/news/hyperliquid-4-million-loss-leverage-eth-trader\n",
      "크롤링 중: 3 reasons why Ethereum can outperform its rivals after crashing to 17-month lows (https://cointelegraph.com/news/ethereum-can-outperform-rivals-crashing-17-month-lows)\n",
      "기사 내용 크롤링 완료: https://cointelegraph.com/news/ethereum-can-outperform-rivals-crashing-17-month-lows\n",
      "크롤링 중: Bitcoin must secure weekly close above $89K to confirm bottom has passed (https://cointelegraph.com/news/bitcoin-price-weekly-close-89k-bottom-resume-uptrend-crypto-analyst)\n",
      "기사 내용 크롤링 완료: https://cointelegraph.com/news/bitcoin-price-weekly-close-89k-bottom-resume-uptrend-crypto-analyst\n",
      "크롤링 중: Ethereum 'falling knife' warning: Is another 30% crash versus Bitcoin coming? (https://cointelegraph.com/news/ethereum-falling-knife-another-30-crash-bitcoin)\n",
      "기사 내용 크롤링 완료: https://cointelegraph.com/news/ethereum-falling-knife-another-30-crash-bitcoin\n",
      "크롤링 중: ETH/BTC hits 5-year low as trader suggests rotation into stronger alts (https://cointelegraph.com/news/ether-bitcoin-ratio-multi-year-low-rotate-altcoins-crypto-analyst)\n",
      "기사 내용 크롤링 완료: https://cointelegraph.com/news/ether-bitcoin-ratio-multi-year-low-rotate-altcoins-crypto-analyst\n",
      "크롤링 중: Crypto trading volume slumps, signaling market exhaustion: Analysis (https://cointelegraph.com/news/crypto-trading-volume-decline-reflects-diminishing-trader-enthusiasm-analysts)\n",
      "기사 내용 크롤링 완료: https://cointelegraph.com/news/crypto-trading-volume-decline-reflects-diminishing-trader-enthusiasm-analysts\n",
      "크롤링 중: Bitcoin dominance hits new highs, alts fade: Research (https://cointelegraph.com/news/bitcoin-dominance-reaches-new-highs-alts-fade)\n",
      "기사 내용 크롤링 완료: https://cointelegraph.com/news/bitcoin-dominance-reaches-new-highs-alts-fade\n",
      "크롤링 중: SEC postpones ruling on Fidelity Ether ETF options (https://cointelegraph.com/news/sec-delays-decision-on-fidelity-eth-etf-options)\n",
      "기사 내용 크롤링 완료: https://cointelegraph.com/news/sec-delays-decision-on-fidelity-eth-etf-options\n",
      "크롤링 중: Will Ethereum price bottom at $1.6K? (https://cointelegraph.com/news/will-ethereum-price-bottom-1-6k)\n",
      "기사 내용 크롤링 완료: https://cointelegraph.com/news/will-ethereum-price-bottom-1-6k\n",
      "크롤링 중: Price analysis 3/12: BTC, ETH, XRP, BNB, SOL, ADA, DOGE, PI, LEO, HBAR (https://cointelegraph.com/news/price-analysis-3-12-btc-eth-xrp-bnb-sol-ada-doge-pi-leo-hbar)\n",
      "기사 내용 크롤링 완료: https://cointelegraph.com/news/price-analysis-3-12-btc-eth-xrp-bnb-sol-ada-doge-pi-leo-hbar\n",
      "크롤링 중: Bitcoin battles US sellers as CPI inflation sees first drop since mid-2024 (https://cointelegraph.com/news/bitcoin-battles-us-sellers-cpi-inflation-sees-first-drop-since-mid-2024)\n",
      "기사 내용 크롤링 완료: https://cointelegraph.com/news/bitcoin-battles-us-sellers-cpi-inflation-sees-first-drop-since-mid-2024\n",
      "크롤링 중: Why is XRP price up today? (https://cointelegraph.com/news/why-is-xrp-price-up-today)\n",
      "기사 내용 크롤링 완료: https://cointelegraph.com/news/why-is-xrp-price-up-today\n",
      "크롤링 중: Crypto whale liquidated for $308M in leveraged Ether trade (https://cointelegraph.com/news/ether-trader-loses-308-m-50x-leverage-market-volatility)\n",
      "기사 내용 크롤링 완료: https://cointelegraph.com/news/ether-trader-loses-308-m-50x-leverage-market-volatility\n",
      "크롤링 중: XRP ETF: Here are the funds awaiting SEC approval so far (https://cointelegraph.com/news/xrp-etf-filings-awaiting-sec-approval)\n",
      "기사 내용 크롤링 완료: https://cointelegraph.com/news/xrp-etf-filings-awaiting-sec-approval\n",
      "크롤링 중: Bitcoin’s next catalyst: End of $36T US debt ceiling suspension (https://cointelegraph.com/news/bitcoin-catalyst-end-of-36-t-us-debt-ceiling-suspension)\n",
      "기사 내용 크롤링 완료: https://cointelegraph.com/news/bitcoin-catalyst-end-of-36-t-us-debt-ceiling-suspension\n",
      "크롤링 중: Is Bitcoin price going to crash again? (https://cointelegraph.com/news/is-bitcoin-price-going-to-crash-again)\n",
      "기사 내용 크롤링 완료: https://cointelegraph.com/news/is-bitcoin-price-going-to-crash-again\n",
      "크롤링 중: Bitcoin whales hint at $80K ‘market rebound’ as Binance inflows cool (https://cointelegraph.com/news/bitcoin-whales-hint-80k-market-rebound-binance-inflows-cool)\n",
      "기사 내용 크롤링 완료: https://cointelegraph.com/news/bitcoin-whales-hint-80k-market-rebound-binance-inflows-cool\n",
      "크롤링 중: Why is Bitcoin price up today? (https://cointelegraph.com/news/why-is-bitcoin-price-up-today)\n",
      "기사 내용 크롤링 완료: https://cointelegraph.com/news/why-is-bitcoin-price-up-today\n",
      "크롤링 중: Bitcoin high-entry buyers are driving sell pressure, price may ‘floor’ at $70K (https://cointelegraph.com/news/bitcoin-high-entry-buyers-sell-pressure-btc-retrace-possible)\n",
      "기사 내용 크롤링 완료: https://cointelegraph.com/news/bitcoin-high-entry-buyers-sell-pressure-btc-retrace-possible\n",
      "크롤링 중: Bitcoin jumps 7% despite metrics flashing ‘bearish territory’ (https://cointelegraph.com/news/bitcoin-price-spike-valuation-metrics-bearish-crypto-analyst)\n",
      "기사 내용 크롤링 완료: https://cointelegraph.com/news/bitcoin-price-spike-valuation-metrics-bearish-crypto-analyst\n",
      "크롤링 중: 4 signs that $76.7K Bitcoin is probably the ultimate low (https://cointelegraph.com/news/4-reasons-why-76-7k-bitcoin-btc-is-the-ultimate-low)\n",
      "기사 내용 크롤링 완료: https://cointelegraph.com/news/4-reasons-why-76-7k-bitcoin-btc-is-the-ultimate-low\n",
      "크롤링 중: Bitcoin dips below $80K as Trump Canada tariffs halt BTC price comeback (https://cointelegraph.com/news/bitcoin-dips-below-80-k-as-trump-canada-tariffs-risk-asset-relief)\n",
      "기사 내용 크롤링 완료: https://cointelegraph.com/news/bitcoin-dips-below-80-k-as-trump-canada-tariffs-risk-asset-relief\n",
      "크롤링 중: 3 reasons XRP might drop to $1.60 in March (https://cointelegraph.com/news/3-reasons-xrp-might-drop-1-60-march)\n",
      "기사 내용 크롤링 완료: https://cointelegraph.com/news/3-reasons-xrp-might-drop-1-60-march\n",
      "크롤링 중: Why is Dogecoin price down today? (https://cointelegraph.com/news/why-is-dogecoin-doge-price-down-today)\n",
      "기사 내용 크롤링 완료: https://cointelegraph.com/news/why-is-dogecoin-doge-price-down-today\n",
      "크롤링 중: Why is Ethereum (ETH) price down today? (https://cointelegraph.com/news/why-is-ethereum-eth-price-down-today)\n",
      "기사 내용 크롤링 완료: https://cointelegraph.com/news/why-is-ethereum-eth-price-down-today\n",
      "크롤링 중: Why is Cardano price down today? (https://cointelegraph.com/news/why-is-cardano-price-down-today)\n",
      "기사 내용 크롤링 완료: https://cointelegraph.com/news/why-is-cardano-price-down-today\n",
      "크롤링 중: Bitcoin price bounces 4% as data gives ‘89% chance’ stocks bottom is in (https://cointelegraph.com/news/bitcoin-price-bounces-4-data-89-chance-stocks-bottom-is-in)\n",
      "기사 내용 크롤링 완료: https://cointelegraph.com/news/bitcoin-price-bounces-4-data-89-chance-stocks-bottom-is-in\n",
      "크롤링 중: Why is XRP price down today? (https://cointelegraph.com/news/why-is-xrp-price-down-today)\n",
      "기사 내용 크롤링 완료: https://cointelegraph.com/news/why-is-xrp-price-down-today\n",
      "크롤링 중: Investors flee from risk assets as JPMorgan ups recession odds to 40% (https://cointelegraph.com/news/investors-skitter-off-risk-assets-jpmorgan-raises-recession-chances)\n",
      "기사 내용 크롤링 완료: https://cointelegraph.com/news/investors-skitter-off-risk-assets-jpmorgan-raises-recession-chances\n",
      "크롤링 중: 4 things must happen before Ethereum can reclaim $2,600 (https://cointelegraph.com/news/4-things-before-ethereum-reclaim-2-600)\n",
      "기사 내용 크롤링 완료: https://cointelegraph.com/news/4-things-before-ethereum-reclaim-2-600\n",
      "크롤링 중: Crypto needs policy change more than Bitcoin reserve — Execs (https://cointelegraph.com/news/crypto-needs-policy-change-more-than-bitcoin-reserve-execs)\n",
      "기사 내용 크롤링 완료: https://cointelegraph.com/news/crypto-needs-policy-change-more-than-bitcoin-reserve-execs\n",
      "크롤링 중: Price analysis 3/10: SPX, DXY, BTC, ETH, XRP, BNB, SOL, DOGE, ADA, PI (https://cointelegraph.com/news/price-analysis-3-10-spx-dxy-btc-eth-xrp-bnb-sol-doge-ada-pi)\n",
      "기사 내용 크롤링 완료: https://cointelegraph.com/news/price-analysis-3-10-spx-dxy-btc-eth-xrp-bnb-sol-doge-ada-pi\n",
      "크롤링 중: Bitcoin nears $78K lows as US stocks dive at the Wall Street open (https://cointelegraph.com/news/bitcoin-nears-78k-lows-us-stocks-dive-wall-street-open)\n",
      "기사 내용 크롤링 완료: https://cointelegraph.com/news/bitcoin-nears-78k-lows-us-stocks-dive-wall-street-open\n",
      "크롤링 중: Bitcoin may benefit from US stablecoin dominance push (https://cointelegraph.com/news/stablecoin-push-dollar-dominance-positive-for-bitcoin)\n",
      "기사 내용 크롤링 완료: https://cointelegraph.com/news/stablecoin-push-dollar-dominance-positive-for-bitcoin\n",
      "크롤링 중: Ethereum price bottom? $1.8B in ETH leaves exchanges, biggest outflow since 2022 (https://cointelegraph.com/news/ehtereum-bottom-eth-exchange-outflow-biggest-since-2022)\n",
      "기사 내용 크롤링 완료: https://cointelegraph.com/news/ehtereum-bottom-eth-exchange-outflow-biggest-since-2022\n",
      "크롤링 중: European lawmakers silent on US Bitcoin reserve amid digital euro push (https://cointelegraph.com/news/european-lawmakers-silent-trump-bitcoin-reserve-amid-cbdc-push)\n",
      "기사 내용 크롤링 완료: https://cointelegraph.com/news/european-lawmakers-silent-trump-bitcoin-reserve-amid-cbdc-push\n",
      "크롤링 중: Why is the crypto market down today? (https://cointelegraph.com/news/why-is-the-crypto-market-down-today)\n",
      "기사 내용 크롤링 완료: https://cointelegraph.com/news/why-is-the-crypto-market-down-today\n",
      "크롤링 중: Strategy’s Bitcoin stash still up over $7B despite market downturn (https://cointelegraph.com/news/strategy-bitcoin-stash-up-7-billion-500k-btc-holdings)\n",
      "기사 내용 크롤링 완료: https://cointelegraph.com/news/strategy-bitcoin-stash-up-7-billion-500k-btc-holdings\n",
      "크롤링 중: Bitcoin ‘Monte Carlo’ model forecasts $713K peak in 6 months (https://cointelegraph.com/news/bitcoin-monte-carlo-model-forecasts-713k-peak-6-months)\n",
      "기사 내용 크롤링 완료: https://cointelegraph.com/news/bitcoin-monte-carlo-model-forecasts-713k-peak-6-months\n",
      "크롤링 중: Is XRP price going to crash again? (https://cointelegraph.com/news/is-xrp-price-going-to-crash-again)\n",
      "기사 내용 크롤링 완료: https://cointelegraph.com/news/is-xrp-price-going-to-crash-again\n",
      "크롤링 중: Biggest red weekly candle ever: 5 things to know in Bitcoin this week (https://cointelegraph.com/news/biggest-red-weekly-candle-ever-5-things-bitcoin-this-week)\n",
      "기사 내용 크롤링 완료: https://cointelegraph.com/news/biggest-red-weekly-candle-ever-5-things-bitcoin-this-week\n",
      "크롤링 중: Bitcoin slides another 3% — Is BTC price headed for $69K next? (https://cointelegraph.com/news/bitcoin-slides-3-btc-price-69k-next)\n",
      "기사 내용 크롤링 완료: https://cointelegraph.com/news/bitcoin-slides-3-btc-price-69k-next\n",
      "크롤링 중: XRP price risks another 20% drop after ‘Digital Asset Stockpile’ letdown (https://cointelegraph.com/news/xrp-price-risks-20-drop-digital-asset-stockpile)\n",
      "기사 내용 크롤링 완료: https://cointelegraph.com/news/xrp-price-risks-20-drop-digital-asset-stockpile\n",
      "크롤링 중: 50% of female crypto investors seek long-term wealth creation — Survey (https://cointelegraph.com/news/50-female-crypto-investors-prefer-long-term-strategies-survey)\n",
      "기사 내용 크롤링 완료: https://cointelegraph.com/news/50-female-crypto-investors-prefer-long-term-strategies-survey\n",
      "크롤링 중: US Bitcoin reserve prompts $370 million in ETF outflows: Farside (https://cointelegraph.com/news/bitcoin-etf-flows-rise-us-reserve-aids-institutional-uptake)\n",
      "기사 내용 크롤링 완료: https://cointelegraph.com/news/bitcoin-etf-flows-rise-us-reserve-aids-institutional-uptake\n",
      "크롤링 중: 4 reasons why Solana (SOL) price could rally back to $180 (https://cointelegraph.com/news/4-reasons-why-solana-sol-price-could-rally-back-to-180)\n",
      "기사 내용 크롤링 완료: https://cointelegraph.com/news/4-reasons-why-solana-sol-price-could-rally-back-to-180\n",
      "크롤링 중: US Bitcoin reserve ups volatility, futures recoil (https://cointelegraph.com/news/us-bitcoin-reserve-ups-volatility-futures-recoil)\n",
      "기사 내용 크롤링 완료: https://cointelegraph.com/news/us-bitcoin-reserve-ups-volatility-futures-recoil\n",
      "크롤링 중: Bitcoin price all-time highs historically linked to US Dollar Index declines — Analyst (https://cointelegraph.com/news/bitcoin-price-all-time-highs-historically-linked-to-us-dollar-index-declines-analyst)\n",
      "기사 내용 크롤링 완료: https://cointelegraph.com/news/bitcoin-price-all-time-highs-historically-linked-to-us-dollar-index-declines-analyst\n",
      "크롤링 중: Price analysis 3/7: BTC, ETH, XRP, BNB, SOL, ADA, DOGE, PI, HBAR, LINK (https://cointelegraph.com/news/price-analysis-3-7-btc-eth-xrp-bnb-sol-ada-doge-pi-hbar-link)\n",
      "기사 내용 크롤링 완료: https://cointelegraph.com/news/price-analysis-3-7-btc-eth-xrp-bnb-sol-ada-doge-pi-hbar-link\n",
      "크롤링 중: Bitcoin leaps toward $90K as US jobs data offers pre-crypto summit boost (https://cointelegraph.com/news/bitcoin-leaps-90k-us-jobs-data-crypto-summit-boost)\n",
      "기사 내용 크롤링 완료: https://cointelegraph.com/news/bitcoin-leaps-90k-us-jobs-data-crypto-summit-boost\n",
      "크롤링 중: Why is Solana (SOL) price down today? (https://cointelegraph.com/news/why-is-solana-sol-price-down-today)\n",
      "기사 내용 크롤링 완료: https://cointelegraph.com/news/why-is-solana-sol-price-down-today\n",
      "크롤링 중: Bitcoin analysts predict limited upside after BTC reserve disappointment (https://cointelegraph.com/news/https-cms-cointelegraph-com-articles-18718-language-1)\n",
      "기사 내용 크롤링 완료: https://cointelegraph.com/news/https-cms-cointelegraph-com-articles-18718-language-1\n",
      "크롤링 중: Bitcoin forgets Strategic Reserve 'sell the news event' with 4% bounce (https://cointelegraph.com/news/bitcoin-forgets-strategic-reserve-sell-the-news-bounce)\n",
      "기사 내용 크롤링 완료: https://cointelegraph.com/news/bitcoin-forgets-strategic-reserve-sell-the-news-bounce\n",
      "크롤링 중: Why is Bitcoin price down today? (https://cointelegraph.com/news/why-is-bitcoin-price-down-today)\n",
      "기사 내용 크롤링 완료: https://cointelegraph.com/news/why-is-bitcoin-price-down-today\n",
      "크롤링 중: Bitcoin has ‘more than 50% chance’ of new high by June: Cory Klippsten (https://cointelegraph.com/news/bitcoin-price-odds-hitting-new-highs-by-june-2025-swan-bitcoin-cory-klippsten)\n",
      "기사 내용 크롤링 완료: https://cointelegraph.com/news/bitcoin-price-odds-hitting-new-highs-by-june-2025-swan-bitcoin-cory-klippsten\n",
      "크롤링 중: Bitcoin plunges 6% as Trump’s crypto reserve falls short of hopes (https://cointelegraph.com/news/bitcoin-plunges-trump-strategic-bitcoin-reserve-eo)\n",
      "기사 내용 크롤링 완료: https://cointelegraph.com/news/bitcoin-plunges-trump-strategic-bitcoin-reserve-eo\n",
      "크롤링 중: US crypto reserve could boost Bitcoin market cap by $460B — Research (https://cointelegraph.com/news/us-crypto-reserve-could-boost-bitcoin-market-cap-by-460-b-research)\n",
      "기사 내용 크롤링 완료: https://cointelegraph.com/news/us-crypto-reserve-could-boost-bitcoin-market-cap-by-460-b-research\n",
      "크롤링 중: Bitcoin price rebound breaks down before key level is hit — Here is why (https://cointelegraph.com/news/bitcoin-price-rebound-breaks-down-before-key-level-is-hit-here-is-why)\n",
      "기사 내용 크롤링 완료: https://cointelegraph.com/news/bitcoin-price-rebound-breaks-down-before-key-level-is-hit-here-is-why\n",
      "크롤링 중: Total crypto market cap could top $4 trillion in Q2 — Analyst (https://cointelegraph.com/news/total-crypto-market-cap-could-top-4-trillion-in-q2-analyst)\n",
      "기사 내용 크롤링 완료: https://cointelegraph.com/news/total-crypto-market-cap-could-top-4-trillion-in-q2-analyst\n",
      "크롤링 중: What Bitcoin reserve? BTC price slips back below $90K (https://cointelegraph.com/news/bitcoin-reserve-btc-price-slips-below-90k)\n",
      "기사 내용 크롤링 완료: https://cointelegraph.com/news/bitcoin-reserve-btc-price-slips-below-90k\n",
      "크롤링 중: Bitcoin, ETH, XRP, SOL, ADA charts versus US crypto reserve rumors — Which to trade? (https://cointelegraph.com/news/bitcoin-eth-xrp-sol-ada-charts-versus-us-crypto-reserve-rumors-which-to-trade)\n",
      "기사 내용 크롤링 완료: https://cointelegraph.com/news/bitcoin-eth-xrp-sol-ada-charts-versus-us-crypto-reserve-rumors-which-to-trade\n",
      "크롤링 중: Solana DEX volumes still rival Ethereum’s despite memecoin meltdown: VanEck (https://cointelegraph.com/news/solana-dex-volumes-still-rival-ethereum-s-despite-memecoin-meltdown-van-eck)\n",
      "기사 내용 크롤링 완료: https://cointelegraph.com/news/solana-dex-volumes-still-rival-ethereum-s-despite-memecoin-meltdown-van-eck\n",
      "크롤링 중: Litecoin traders say LTC price dips below $100 are ‘accumulation’ opportunities (https://cointelegraph.com/news/litecoin-traders-say-ltc-price-dips-below-100-are-accumulation-opportunities)\n",
      "기사 내용 크롤링 완료: https://cointelegraph.com/news/litecoin-traders-say-ltc-price-dips-below-100-are-accumulation-opportunities\n",
      "크롤링 중: Bitwise makes first institutional DeFi allocation (https://cointelegraph.com/news/bitwise-makes-first-institutional-defi-allocation)\n",
      "기사 내용 크롤링 완료: https://cointelegraph.com/news/bitwise-makes-first-institutional-defi-allocation\n",
      "크롤링 중: New York bill aims to protect crypto investors from memecoin rug pulls (https://cointelegraph.com/news/ny-bill-criminalize-crypto-fraud-rug-pulls-amid-memecoin-scandals)\n",
      "기사 내용 크롤링 완료: https://cointelegraph.com/news/ny-bill-criminalize-crypto-fraud-rug-pulls-amid-memecoin-scandals\n",
      "크롤링 중: Bitcoin struggles near $90K as US tariff fears spook ETF investors (https://cointelegraph.com/news/bitcoin-price-limited-etf-institutional-investment-tariff-concerns)\n",
      "기사 내용 크롤링 완료: https://cointelegraph.com/news/bitcoin-price-limited-etf-institutional-investment-tariff-concerns\n",
      "크롤링 중: Ethereum most 'undervalued' in 17-months — Can ETH return to $4K? (https://cointelegraph.com/news/ethereum-most-undervalued-in-17-months-eth-return-4k)\n",
      "기사 내용 크롤링 완료: https://cointelegraph.com/news/ethereum-most-undervalued-in-17-months-eth-return-4k\n",
      "크롤링 중: Why is the crypto market up today? (https://cointelegraph.com/news/why-is-the-crypto-market-up-today)\n",
      "기사 내용 크롤링 완료: https://cointelegraph.com/news/why-is-the-crypto-market-up-today\n",
      "크롤링 중: Bitcoin gets March 25 'blast-off date' as US dollar hits 4-month low (https://cointelegraph.com/news/bitcoin-march-25-blast-off-date-us-dollar-4-month-low)\n",
      "기사 내용 크롤링 완료: https://cointelegraph.com/news/bitcoin-march-25-blast-off-date-us-dollar-4-month-low\n",
      "크롤링 중: Bitcoin reclaims $92K, but sentiment still stuck in ‘Extreme Fear’ (https://cointelegraph.com/news/bitcoin-price-92k-crypto-market-sentiment-fear-analysts-unsure)\n",
      "기사 내용 크롤링 완료: https://cointelegraph.com/news/bitcoin-price-92k-crypto-market-sentiment-fear-analysts-unsure\n",
      "크롤링 중: Falling US dollar is signaling a strong quarter for crypto: Raoul Pal (https://cointelegraph.com/news/us-dollar-falling-signals-positive-crypto-market-q2-2025-crypto-analyst)\n",
      "기사 내용 크롤링 완료: https://cointelegraph.com/news/us-dollar-falling-signals-positive-crypto-market-q2-2025-crypto-analyst\n",
      "크롤링 중: Ethereum price ‘double top’ hints at 42% drop as ETH bull market ends (https://cointelegraph.com/news/ethereum-price-double-top-hints-at-42-drop-as-eth-bull-market-ends)\n",
      "기사 내용 크롤링 완료: https://cointelegraph.com/news/ethereum-price-double-top-hints-at-42-drop-as-eth-bull-market-ends\n",
      "크롤링 중: Bitcoin volatility soars amid US crypto reserve, tariff jitters (https://cointelegraph.com/news/bitcoin-volatility-soars-crypto-reserve-tariff-jitters)\n",
      "기사 내용 크롤링 완료: https://cointelegraph.com/news/bitcoin-volatility-soars-crypto-reserve-tariff-jitters\n",
      "크롤링 중: Ethereum (ETH) price pinned below $2.2K — Here’s why (https://cointelegraph.com/news/ethereum-eth-price-pinned-below-2-2-k-here-s-why)\n",
      "기사 내용 크롤링 완료: https://cointelegraph.com/news/ethereum-eth-price-pinned-below-2-2-k-here-s-why\n",
      "크롤링 중: XRP/ETH pair targets 160% rally according to bull market cycle history (https://cointelegraph.com/news/xrp-eth-pair-targets-160-rally-according-to-bull-market-cycle-history)\n",
      "기사 내용 크롤링 완료: https://cointelegraph.com/news/xrp-eth-pair-targets-160-rally-according-to-bull-market-cycle-history\n",
      "크롤링 중: XRP traders eye rally to new all-time highs at $5.85 as key support holds (https://cointelegraph.com/news/xrp-traders-rally-new-all-time-highs-585-key-support)\n",
      "기사 내용 크롤링 완료: https://cointelegraph.com/news/xrp-traders-rally-new-all-time-highs-585-key-support\n",
      "크롤링 중: Price analysis 3/5: BTC, ETH, XRP, BNB, SOL, ADA, DOGE, PI, HBAR, LINK (https://cointelegraph.com/news/price-analysis-3-5-btc-eth-xrp-bnb-sol-ada-doge-pi-hbar-link)\n",
      "기사 내용 크롤링 완료: https://cointelegraph.com/news/price-analysis-3-5-btc-eth-xrp-bnb-sol-ada-doge-pi-hbar-link\n",
      "크롤링 중: Bitcoin trader eyes $78K BTC price retest as US seen delaying reserve (https://cointelegraph.com/news/bitcoin-trader-sees-btc-price-falling-to-78-k-again)\n",
      "기사 내용 크롤링 완료: https://cointelegraph.com/news/bitcoin-trader-sees-btc-price-falling-to-78-k-again\n",
      "크롤링 중: 3 reasons why Bitcoin sells off on Trump tariff news (https://cointelegraph.com/news/why-bitcoin-sells-off-trump-tariffs)\n",
      "기사 내용 크롤링 완료: https://cointelegraph.com/news/why-bitcoin-sells-off-trump-tariffs\n",
      "크롤링 중: Solana sees $485M outflows in February as crypto capital flees to ‘safety’ (https://cointelegraph.com/news/solana-sees-485-m-outflows-feb-amid-flight-safety-in-crypto-markets)\n",
      "기사 내용 크롤링 완료: https://cointelegraph.com/news/solana-sees-485-m-outflows-feb-amid-flight-safety-in-crypto-markets\n",
      "크롤링 중: Bitcoin price metric that called 2020 bull run says $69K new bottom (https://cointelegraph.com/news/bitcoin-price-metric-called-2020-bull-run-69k-new-bottom)\n",
      "기사 내용 크롤링 완료: https://cointelegraph.com/news/bitcoin-price-metric-called-2020-bull-run-69k-new-bottom\n",
      "크롤링 중: Why is Cardano (ADA) price up today? (https://cointelegraph.com/news/why-is-cardano-ada-price-up-today)\n",
      "기사 내용 크롤링 완료: https://cointelegraph.com/news/why-is-cardano-ada-price-up-today\n",
      "크롤링 중: Bitcoin will ‘likely continue to consolidate’ in this pullback phase — Analyst (https://cointelegraph.com/news/bitcoin-price-consolidation-likely-pullback-phase-crypto-analysts)\n",
      "기사 내용 크롤링 완료: https://cointelegraph.com/news/bitcoin-price-consolidation-likely-pullback-phase-crypto-analysts\n",
      "크롤링 중: Bitcoin will face ‘significant resistance’ reclaiming $94K: Analysts (https://cointelegraph.com/news/bitcoin-price-significant-resistance-94k-level-crypto-analysts)\n",
      "기사 내용 크롤링 완료: https://cointelegraph.com/news/bitcoin-price-significant-resistance-94k-level-crypto-analysts\n",
      "크롤링 중: Bitcoin price stabilizes near $83K as investors eye S&P 500 recovery (https://cointelegraph.com/news/bitcoin-price-stabilizes-near-83k-as-investors-eye-s-p-500-recovery)\n",
      "기사 내용 크롤링 완료: https://cointelegraph.com/news/bitcoin-price-stabilizes-near-83k-as-investors-eye-s-p-500-recovery\n",
      "크롤링 중: Bitcoin sags toward $80K as US dollar strength bounces off 12-week low (https://cointelegraph.com/news/bitcoin-toward-80k-us-dollar-strength-12-week-low)\n",
      "기사 내용 크롤링 완료: https://cointelegraph.com/news/bitcoin-toward-80k-us-dollar-strength-12-week-low\n",
      "크롤링 중: Is crypto’s ‘Trump effect’ short-lived? (https://cointelegraph.com/news/crypto-trump-effect-short-lived)\n",
      "기사 내용 크롤링 완료: https://cointelegraph.com/news/crypto-trump-effect-short-lived\n",
      "크롤링 중: How low can the Bitcoin price go? (https://cointelegraph.com/news/how-low-can-the-bitcoin-price-go)\n",
      "기사 내용 크롤링 완료: https://cointelegraph.com/news/how-low-can-the-bitcoin-price-go\n",
      "크롤링 중: Bitcoin no longer ‘safe haven’ as $82K BTC price dive leaves gold on top (https://cointelegraph.com/news/bitcoin-no-longer-safe-haven-82k-btc-price-dive-gold-top)\n",
      "기사 내용 크롤링 완료: https://cointelegraph.com/news/bitcoin-no-longer-safe-haven-82k-btc-price-dive-gold-top\n",
      "크롤링 중: XRP ‘distribution’ hits record level as the altcoin trades below $3 (https://cointelegraph.com/news/xrp-distribution-hits-record-level-as-the-altcoin-trades-below-3)\n",
      "기사 내용 크롤링 완료: https://cointelegraph.com/news/xrp-distribution-hits-record-level-as-the-altcoin-trades-below-3\n",
      "크롤링 중: Bitcoin price action mirrors 2019 ‘Xi pump,’ are new BTC lows incoming? (https://cointelegraph.com/news/bitcoin-evades-weekly-close-below-90-k-can-it-avoid-a-repeat-of-xi-pump)\n",
      "기사 내용 크롤링 완료: https://cointelegraph.com/news/bitcoin-evades-weekly-close-below-90-k-can-it-avoid-a-repeat-of-xi-pump\n",
      "크롤링 중: Trump crypto strategic reserve coins ‘ADA, XRP, SOL’ dump, Bitcoin follows (https://cointelegraph.com/news/trump-crypto-strategic-reserve-coins-ada-xrp-sol-dump-bitcoin-follows)\n",
      "기사 내용 크롤링 완료: https://cointelegraph.com/news/trump-crypto-strategic-reserve-coins-ada-xrp-sol-dump-bitcoin-follows\n",
      "크롤링 중: Traders longing ADA futures spike after Trump’s crypto reserve reveal: Bitrue (https://cointelegraph.com/news/traders-longing-ada-futures-spike-after-trump-s-crypto-reserve-reveal-bitrue)\n",
      "기사 내용 크롤링 완료: https://cointelegraph.com/news/traders-longing-ada-futures-spike-after-trump-s-crypto-reserve-reveal-bitrue\n",
      "크롤링 중: Bitcoin price dumps again — Will $90K turn into resistance or support? (https://cointelegraph.com/news/bitcoin-price-dumps-again-will-90k-turn-into-resistance-or-support)\n",
      "기사 내용 크롤링 완료: https://cointelegraph.com/news/bitcoin-price-dumps-again-will-90k-turn-into-resistance-or-support\n",
      "크롤링 중: Bitcoin returns under $90K as crypto market liquidates $150M in hours (https://cointelegraph.com/news/bitcoin-returns-under-90k-crypto-market-liquidates-150m)\n",
      "기사 내용 크롤링 완료: https://cointelegraph.com/news/bitcoin-returns-under-90k-crypto-market-liquidates-150m\n",
      "크롤링 중: Why is Ethereum (ETH) price up today? (https://cointelegraph.com/news/why-is-ethereum-eth-price-up-today)\n",
      "기사 내용 크롤링 완료: https://cointelegraph.com/news/why-is-ethereum-eth-price-up-today\n",
      "크롤링 중: Why is Solana (SOL) price up today? (https://cointelegraph.com/news/why-is-solana-price-up-this-week)\n",
      "기사 내용 크롤링 완료: https://cointelegraph.com/news/why-is-solana-price-up-this-week\n",
      "크롤링 중: Biggest CME gap ever at $85K: 5 things to know in Bitcoin this week (https://cointelegraph.com/news/biggest-cme-gap-ever-85k-5-things-bitcoin-this-week)\n",
      "기사 내용 크롤링 완료: https://cointelegraph.com/news/biggest-cme-gap-ever-85k-5-things-bitcoin-this-week\n",
      "크롤링 중: XRP, ADA, SOL go parabolic after Trump US crypto reserve post: Will other altcoins follow? (https://cointelegraph.com/news/xrp-ada-sol-go-parabolic-after-trump-us-crypto-reserve-post-will-altcoins-follow)\n",
      "기사 내용 크롤링 완료: https://cointelegraph.com/news/xrp-ada-sol-go-parabolic-after-trump-us-crypto-reserve-post-will-altcoins-follow\n",
      "크롤링 중: Bitcoin price jumps to $93K as XRP 'flips' Ethereum by fully diluted value (https://cointelegraph.com/news/bitcoin-price-suddenly-jumps-93k-xrp-flips-ethereum)\n",
      "기사 내용 크롤링 완료: https://cointelegraph.com/news/bitcoin-price-suddenly-jumps-93k-xrp-flips-ethereum\n",
      "크롤링 중: What is Bitcoin price going to do next? — Bear trap, bottom, or oversold bounce? (https://cointelegraph.com/news/what-is-bitcoin-price-going-to-do-next-bear-trap-bottom-or-oversold-bounce)\n",
      "기사 내용 크롤링 완료: https://cointelegraph.com/news/what-is-bitcoin-price-going-to-do-next-bear-trap-bottom-or-oversold-bounce\n",
      "크롤링 중: Bitcoin spot and margin longs push BTC to $85K, but the bottom isn’t in yet (https://cointelegraph.com/news/bitcoin-spot-and-margin-longs-push-btc-to-85-k-but-the-bottom-isn-t-in-yet)\n",
      "기사 내용 크롤링 완료: https://cointelegraph.com/news/bitcoin-spot-and-margin-longs-push-btc-to-85-k-but-the-bottom-isn-t-in-yet\n",
      "크롤링 중: XRP price to $18K? — One crypto ‘research’ group says it’s possible (https://cointelegraph.com/news/xrp-price-to-18-k-one-crypto-research-group-says-it-is-possible)\n",
      "기사 내용 크롤링 완료: https://cointelegraph.com/news/xrp-price-to-18-k-one-crypto-research-group-says-it-is-possible\n",
      "크롤링 중: Bitcoin’s ‘Trump trade’ is over — Traders shift hope to Fed rate cuts, expanding global liquidity (https://cointelegraph.com/news/bitcoin-trump-trade-is-over-will-fed-rate-cuts-and-m2-expansion-help)\n",
      "기사 내용 크롤링 완료: https://cointelegraph.com/news/bitcoin-trump-trade-is-over-will-fed-rate-cuts-and-m2-expansion-help\n",
      "크롤링 중: Solana rallies 16% after SOL RSI drops to 2023 low: Was that the bottom? (https://cointelegraph.com/news/solana-rallies-16-after-sol-rsi-falls-to-2023-low)\n",
      "기사 내용 크롤링 완료: https://cointelegraph.com/news/solana-rallies-16-after-sol-rsi-falls-to-2023-low\n",
      "크롤링 중: SEC again delays Ether ETF options on Cboe (https://cointelegraph.com/news/sec-again-delays-options-on-spot-ether-etfs)\n",
      "기사 내용 크롤링 완료: https://cointelegraph.com/news/sec-again-delays-options-on-spot-ether-etfs\n",
      "크롤링 중: Bitcoin rebounds to $84K — Analysts say BTC crash was ultimate buy signal (https://cointelegraph.com/news/bitcoin-rebounds-to-84-k-analysts-say-btc-crash-was-ultimate-buy-signal)\n",
      "기사 내용 크롤링 완료: https://cointelegraph.com/news/bitcoin-rebounds-to-84-k-analysts-say-btc-crash-was-ultimate-buy-signal\n",
      "크롤링 중: BlackRock adds BTC ETF to model portfolio (https://cointelegraph.com/news/blackrock-adds-btc-etf-150-b-model-portfolio-product)\n",
      "기사 내용 크롤링 완료: https://cointelegraph.com/news/blackrock-adds-btc-etf-150-b-model-portfolio-product\n",
      "크롤링 중: Price analysis 2/28: BTC, ETH, XRP, BNB, SOL, DOGE, ADA, LTC, LINK, AVAX (https://cointelegraph.com/news/price-analysis-2-28-btc-eth-xrp-bnb-sol-doge-ada-ltc-link-avax)\n",
      "기사 내용 크롤링 완료: https://cointelegraph.com/news/price-analysis-2-28-btc-eth-xrp-bnb-sol-doge-ada-ltc-link-avax\n",
      "크롤링 중: Bitcoin price metric hits ‘optimal DCA’ zone not seen since BTC traded in $50K to $70K range (https://cointelegraph.com/news/bitcoin-price-hits-dca-zone-not-seen-since-btc-traded-50-k-70-k-range)\n",
      "기사 내용 크롤링 완료: https://cointelegraph.com/news/bitcoin-price-hits-dca-zone-not-seen-since-btc-traded-50-k-70-k-range\n",
      "크롤링 중: Bitcoin price bounces 5% as analyst sees crypto slump end in March (https://cointelegraph.com/news/bitcoin-price-bounces-analyst-crypto-slump-end-march)\n",
      "기사 내용 크롤링 완료: https://cointelegraph.com/news/bitcoin-price-bounces-analyst-crypto-slump-end-march\n",
      "기사 데이터가 'cointelegraph_articles_with_content.csv' 파일에 저장되었습니다!\n"
     ]
    }
   ],
   "source": [
    "import csv\n",
    "from selenium import webdriver\n",
    "from selenium.webdriver.common.by import By\n",
    "from selenium.webdriver.support.ui import WebDriverWait\n",
    "from selenium.webdriver.support import expected_conditions as EC\n",
    "import time\n",
    "\n",
    "def create_driver():\n",
    "    \"\"\"Selenium WebDriver 생성 및 설정\"\"\"\n",
    "    options = webdriver.ChromeOptions()\n",
    "    options.add_argument(\"--disable-blink-features=AutomationControlled\")  # Selenium 표시 제거\n",
    "    driver = webdriver.Chrome(options=options)\n",
    "    return driver\n",
    "\n",
    "def scrape_article_content(link):\n",
    "    \"\"\"\n",
    "    특정 링크를 방문하여 기사 내용을 크롤링하는 함수.\n",
    "    \n",
    "    Parameters:\n",
    "        link (str): 기사의 URL\n",
    "    \n",
    "    Returns:\n",
    "        content (str): 기사의 본문 내용\n",
    "    \"\"\"\n",
    "    driver = create_driver()\n",
    "    driver.get(link)\n",
    "    \n",
    "    try:\n",
    "        # 기사 내용 대기 및 추출\n",
    "        wait = WebDriverWait(driver, 10)\n",
    "        article_element = wait.until(EC.presence_of_element_located((By.CLASS_NAME, \"post-content\")))\n",
    "        content = article_element.text.strip()\n",
    "        print(f\"기사 내용 크롤링 완료: {link}\")\n",
    "    except Exception as e:\n",
    "        print(f\"Error while scraping content from {link}: {e}\")\n",
    "        content = \"내용을 가져올 수 없습니다.\"\n",
    "    finally:\n",
    "        driver.quit()\n",
    "    \n",
    "    return content\n",
    "\n",
    "def scrape_all_articles(input_csv, output_csv):\n",
    "    \"\"\"\n",
    "    저장된 링크를 하나씩 방문하여 기사 내용을 크롤링하고 새로운 CSV 파일에 저장하는 함수.\n",
    "    \n",
    "    Parameters:\n",
    "        input_csv (str): 입력 CSV 파일 경로 (제목, 링크, 날짜 포함)\n",
    "        output_csv (str): 출력 CSV 파일 경로 (제목, 링크, 기사 내용 포함)\n",
    "    \"\"\"\n",
    "    articles_with_content = []\n",
    "    \n",
    "    # 입력 CSV 파일 읽기\n",
    "    with open(input_csv, mode=\"r\", encoding=\"utf-8\") as file:\n",
    "        reader = csv.DictReader(file)\n",
    "        for row in reader:\n",
    "            title = row[\"title\"]\n",
    "            link = row[\"link\"]\n",
    "            date = row[\"date\"]\n",
    "            \n",
    "            print(f\"크롤링 중: {title} ({link})\")\n",
    "            content = scrape_article_content(link)  # 기사 내용 크롤링\n",
    "            \n",
    "            articles_with_content.append({\n",
    "                \"title\": title,\n",
    "                \"link\": link,\n",
    "                \"date\": date,\n",
    "                \"content\": content\n",
    "            })\n",
    "    \n",
    "    # 출력 CSV 파일 저장\n",
    "    with open(output_csv, mode=\"w\", newline=\"\", encoding=\"utf-8\") as file:\n",
    "        fieldnames = [\"title\", \"link\", \"date\", \"content\"]\n",
    "        writer = csv.DictWriter(file, fieldnames=fieldnames)\n",
    "        \n",
    "        writer.writeheader()  # 헤더 추가\n",
    "        writer.writerows(articles_with_content)  # 모든 데이터를 한 번에 저장\n",
    "    \n",
    "    print(f\"기사 데이터가 '{output_csv}' 파일에 저장되었습니다!\")\n",
    "\n",
    "# 실행 코드\n",
    "if __name__ == \"__main__\":\n",
    "    input_csv_path = \"cointelegraph_articles.csv\"  # 입력 CSV 파일 경로\n",
    "    output_csv_path = \"cointelegraph_articles_with_content.csv\"  # 출력 CSV 파일 경로\n",
    "    \n",
    "    scrape_all_articles(input_csv=input_csv_path, output_csv=output_csv_path)"
   ]
  },
  {
   "cell_type": "code",
   "execution_count": 43,
   "metadata": {},
   "outputs": [
    {
     "name": "stdout",
     "output_type": "stream",
     "text": [
      "Collecting vaderSentiment\n",
      "  Downloading vaderSentiment-3.3.2-py2.py3-none-any.whl.metadata (572 bytes)\n",
      "Requirement already satisfied: requests in /opt/anaconda3/lib/python3.12/site-packages (from vaderSentiment) (2.32.3)\n",
      "Requirement already satisfied: charset-normalizer<4,>=2 in /opt/anaconda3/lib/python3.12/site-packages (from requests->vaderSentiment) (3.3.2)\n",
      "Requirement already satisfied: idna<4,>=2.5 in /opt/anaconda3/lib/python3.12/site-packages (from requests->vaderSentiment) (3.7)\n",
      "Requirement already satisfied: urllib3<3,>=1.21.1 in /opt/anaconda3/lib/python3.12/site-packages (from requests->vaderSentiment) (2.2.2)\n",
      "Requirement already satisfied: certifi>=2017.4.17 in /opt/anaconda3/lib/python3.12/site-packages (from requests->vaderSentiment) (2024.8.30)\n",
      "Downloading vaderSentiment-3.3.2-py2.py3-none-any.whl (125 kB)\n",
      "Installing collected packages: vaderSentiment\n",
      "Successfully installed vaderSentiment-3.3.2\n",
      "Note: you may need to restart the kernel to use updated packages.\n"
     ]
    }
   ],
   "source": [
    "pip install vaderSentiment"
   ]
  },
  {
   "cell_type": "code",
   "execution_count": 1,
   "metadata": {},
   "outputs": [
    {
     "name": "stdout",
     "output_type": "stream",
     "text": [
      "감정 분석 결과가 'cointelegraph_articles_with_sentiment.csv' 파일에 저장되었습니다!\n"
     ]
    }
   ],
   "source": [
    "import csv\n",
    "from vaderSentiment.vaderSentiment import SentimentIntensityAnalyzer\n",
    "\n",
    "def analyze_sentiment_vader(content):\n",
    "    \"\"\"\n",
    "    주어진 텍스트(content)의 감정을 분석하는 함수 (VADER 사용).\n",
    "    \n",
    "    Parameters:\n",
    "        content (str): 분석할 텍스트\n",
    "    \n",
    "    Returns:\n",
    "        sentiment (str): \"Positive\", \"Negative\", \"Neutral\" 중 하나\n",
    "    \"\"\"\n",
    "    analyzer = SentimentIntensityAnalyzer()\n",
    "    sentiment_scores = analyzer.polarity_scores(content)\n",
    "    \n",
    "    # VADER의 compound 점수를 기준으로 감정 분류\n",
    "    if sentiment_scores['compound'] >= 0.05:\n",
    "        return \"Positive\"\n",
    "    elif sentiment_scores['compound'] <= -0.05:\n",
    "        return \"Negative\"\n",
    "    else:\n",
    "        return \"Neutral\"\n",
    "\n",
    "def perform_sentiment_analysis(input_csv, output_csv):\n",
    "    \"\"\"\n",
    "    입력 CSV 파일에서 기사 내용을 읽어 감정 분석을 수행하고 결과를 새로운 CSV 파일에 저장하는 함수.\n",
    "    \n",
    "    Parameters:\n",
    "        input_csv (str): 입력 CSV 파일 경로 (제목, 링크, 날짜, 내용 포함)\n",
    "        output_csv (str): 출력 CSV 파일 경로 (제목, 링크, 날짜, 내용, 감정 포함)\n",
    "    \"\"\"\n",
    "    articles_with_sentiment = []\n",
    "    \n",
    "    # 입력 CSV 파일 읽기\n",
    "    with open(input_csv, mode=\"r\", encoding=\"utf-8\") as file:\n",
    "        reader = csv.DictReader(file)\n",
    "        for row in reader:\n",
    "            title = row[\"title\"]\n",
    "            link = row[\"link\"]\n",
    "            date = row[\"date\"]\n",
    "            content = row[\"content\"]\n",
    "            \n",
    "            # 감정 분석 수행\n",
    "            sentiment = analyze_sentiment_vader(content)\n",
    "            \n",
    "            articles_with_sentiment.append({\n",
    "                \"title\": title,\n",
    "                \"link\": link,\n",
    "                \"date\": date,\n",
    "                \"content\": content,\n",
    "                \"sentiment\": sentiment\n",
    "            })\n",
    "    \n",
    "    # 출력 CSV 파일 저장\n",
    "    with open(output_csv, mode=\"w\", newline=\"\", encoding=\"utf-8\") as file:\n",
    "        fieldnames = [\"title\", \"link\", \"date\", \"content\", \"sentiment\"]\n",
    "        writer = csv.DictWriter(file, fieldnames=fieldnames)\n",
    "        \n",
    "        writer.writeheader()  # 헤더 추가\n",
    "        writer.writerows(articles_with_sentiment)  # 모든 데이터를 한 번에 저장\n",
    "    \n",
    "    print(f\"감정 분석 결과가 '{output_csv}' 파일에 저장되었습니다!\")\n",
    "\n",
    "# 실행 코드\n",
    "if __name__ == \"__main__\":\n",
    "    input_csv_path = \"cointelegraph_articles_with_content.csv\"  # 입력 CSV 파일 경로\n",
    "    output_csv_path = \"cointelegraph_articles_with_sentiment.csv\"  # 출력 CSV 파일 경로\n",
    "    \n",
    "    perform_sentiment_analysis(input_csv=input_csv_path, output_csv=output_csv_path)"
   ]
  },
  {
   "cell_type": "code",
   "execution_count": null,
   "metadata": {},
   "outputs": [
    {
     "data": {
      "application/vnd.plotly.v1+json": {
       "config": {
        "plotlyServerURL": "https://plot.ly"
       },
       "data": [
        {
         "hovertemplate": "감정=Negative<br>날짜=%{x}<br>비율 (%)=%{y}<extra></extra>",
         "legendgroup": "Negative",
         "marker": {
          "color": "#636efa",
          "pattern": {
           "shape": ""
          }
         },
         "name": "Negative",
         "orientation": "v",
         "showlegend": true,
         "textposition": "auto",
         "type": "bar",
         "x": [
          "2025-03-01T00:00:00.000000000",
          "2025-03-04T00:00:00.000000000",
          "2025-03-06T00:00:00.000000000",
          "2025-03-07T00:00:00.000000000",
          "2025-03-11T00:00:00.000000000",
          "2025-03-12T00:00:00.000000000",
          "2025-03-13T00:00:00.000000000"
         ],
         "xaxis": "x",
         "y": {
          "bdata": "L7rooosuMkAAAAAAAAApQCRJkiRJkixAJEmSJEmSHEBWVVVVVdVEQNu2bdu2bTVAVlVVVVXVREA=",
          "dtype": "f8"
         },
         "yaxis": "y"
        },
        {
         "hovertemplate": "감정=Positive<br>날짜=%{x}<br>비율 (%)=%{y}<extra></extra>",
         "legendgroup": "Positive",
         "marker": {
          "color": "#EF553B",
          "pattern": {
           "shape": ""
          }
         },
         "name": "Positive",
         "orientation": "v",
         "showlegend": true,
         "textposition": "auto",
         "type": "bar",
         "x": [
          "2025-03-01T00:00:00.000000000",
          "2025-03-03T00:00:00.000000000",
          "2025-03-04T00:00:00.000000000",
          "2025-03-05T00:00:00.000000000",
          "2025-03-06T00:00:00.000000000",
          "2025-03-07T00:00:00.000000000",
          "2025-03-08T00:00:00.000000000",
          "2025-03-10T00:00:00.000000000",
          "2025-03-11T00:00:00.000000000",
          "2025-03-12T00:00:00.000000000",
          "2025-03-13T00:00:00.000000000",
          "2025-03-14T00:00:00.000000000"
         ],
         "xaxis": "x",
         "y": {
          "bdata": "ddFFF110VEAAAAAAAABZQAAAAAAA4FVAAAAAAAAAWUDbtm3btm1VQG7btm3bNldAAAAAAAAAWUAAAAAAAABZQKuqqqqqKk1ASZIkSZKkU0CrqqqqqipNQAAAAAAAAFlA",
          "dtype": "f8"
         },
         "yaxis": "y"
        }
       ],
       "layout": {
        "barmode": "stack",
        "legend": {
         "title": {
          "text": "감정"
         },
         "tracegroupgap": 0
        },
        "template": {
         "data": {
          "bar": [
           {
            "error_x": {
             "color": "#2a3f5f"
            },
            "error_y": {
             "color": "#2a3f5f"
            },
            "marker": {
             "line": {
              "color": "white",
              "width": 0.5
             },
             "pattern": {
              "fillmode": "overlay",
              "size": 10,
              "solidity": 0.2
             }
            },
            "type": "bar"
           }
          ],
          "barpolar": [
           {
            "marker": {
             "line": {
              "color": "white",
              "width": 0.5
             },
             "pattern": {
              "fillmode": "overlay",
              "size": 10,
              "solidity": 0.2
             }
            },
            "type": "barpolar"
           }
          ],
          "carpet": [
           {
            "aaxis": {
             "endlinecolor": "#2a3f5f",
             "gridcolor": "#C8D4E3",
             "linecolor": "#C8D4E3",
             "minorgridcolor": "#C8D4E3",
             "startlinecolor": "#2a3f5f"
            },
            "baxis": {
             "endlinecolor": "#2a3f5f",
             "gridcolor": "#C8D4E3",
             "linecolor": "#C8D4E3",
             "minorgridcolor": "#C8D4E3",
             "startlinecolor": "#2a3f5f"
            },
            "type": "carpet"
           }
          ],
          "choropleth": [
           {
            "colorbar": {
             "outlinewidth": 0,
             "ticks": ""
            },
            "type": "choropleth"
           }
          ],
          "contour": [
           {
            "colorbar": {
             "outlinewidth": 0,
             "ticks": ""
            },
            "colorscale": [
             [
              0,
              "#0d0887"
             ],
             [
              0.1111111111111111,
              "#46039f"
             ],
             [
              0.2222222222222222,
              "#7201a8"
             ],
             [
              0.3333333333333333,
              "#9c179e"
             ],
             [
              0.4444444444444444,
              "#bd3786"
             ],
             [
              0.5555555555555556,
              "#d8576b"
             ],
             [
              0.6666666666666666,
              "#ed7953"
             ],
             [
              0.7777777777777778,
              "#fb9f3a"
             ],
             [
              0.8888888888888888,
              "#fdca26"
             ],
             [
              1,
              "#f0f921"
             ]
            ],
            "type": "contour"
           }
          ],
          "contourcarpet": [
           {
            "colorbar": {
             "outlinewidth": 0,
             "ticks": ""
            },
            "type": "contourcarpet"
           }
          ],
          "heatmap": [
           {
            "colorbar": {
             "outlinewidth": 0,
             "ticks": ""
            },
            "colorscale": [
             [
              0,
              "#0d0887"
             ],
             [
              0.1111111111111111,
              "#46039f"
             ],
             [
              0.2222222222222222,
              "#7201a8"
             ],
             [
              0.3333333333333333,
              "#9c179e"
             ],
             [
              0.4444444444444444,
              "#bd3786"
             ],
             [
              0.5555555555555556,
              "#d8576b"
             ],
             [
              0.6666666666666666,
              "#ed7953"
             ],
             [
              0.7777777777777778,
              "#fb9f3a"
             ],
             [
              0.8888888888888888,
              "#fdca26"
             ],
             [
              1,
              "#f0f921"
             ]
            ],
            "type": "heatmap"
           }
          ],
          "histogram": [
           {
            "marker": {
             "pattern": {
              "fillmode": "overlay",
              "size": 10,
              "solidity": 0.2
             }
            },
            "type": "histogram"
           }
          ],
          "histogram2d": [
           {
            "colorbar": {
             "outlinewidth": 0,
             "ticks": ""
            },
            "colorscale": [
             [
              0,
              "#0d0887"
             ],
             [
              0.1111111111111111,
              "#46039f"
             ],
             [
              0.2222222222222222,
              "#7201a8"
             ],
             [
              0.3333333333333333,
              "#9c179e"
             ],
             [
              0.4444444444444444,
              "#bd3786"
             ],
             [
              0.5555555555555556,
              "#d8576b"
             ],
             [
              0.6666666666666666,
              "#ed7953"
             ],
             [
              0.7777777777777778,
              "#fb9f3a"
             ],
             [
              0.8888888888888888,
              "#fdca26"
             ],
             [
              1,
              "#f0f921"
             ]
            ],
            "type": "histogram2d"
           }
          ],
          "histogram2dcontour": [
           {
            "colorbar": {
             "outlinewidth": 0,
             "ticks": ""
            },
            "colorscale": [
             [
              0,
              "#0d0887"
             ],
             [
              0.1111111111111111,
              "#46039f"
             ],
             [
              0.2222222222222222,
              "#7201a8"
             ],
             [
              0.3333333333333333,
              "#9c179e"
             ],
             [
              0.4444444444444444,
              "#bd3786"
             ],
             [
              0.5555555555555556,
              "#d8576b"
             ],
             [
              0.6666666666666666,
              "#ed7953"
             ],
             [
              0.7777777777777778,
              "#fb9f3a"
             ],
             [
              0.8888888888888888,
              "#fdca26"
             ],
             [
              1,
              "#f0f921"
             ]
            ],
            "type": "histogram2dcontour"
           }
          ],
          "mesh3d": [
           {
            "colorbar": {
             "outlinewidth": 0,
             "ticks": ""
            },
            "type": "mesh3d"
           }
          ],
          "parcoords": [
           {
            "line": {
             "colorbar": {
              "outlinewidth": 0,
              "ticks": ""
             }
            },
            "type": "parcoords"
           }
          ],
          "pie": [
           {
            "automargin": true,
            "type": "pie"
           }
          ],
          "scatter": [
           {
            "fillpattern": {
             "fillmode": "overlay",
             "size": 10,
             "solidity": 0.2
            },
            "type": "scatter"
           }
          ],
          "scatter3d": [
           {
            "line": {
             "colorbar": {
              "outlinewidth": 0,
              "ticks": ""
             }
            },
            "marker": {
             "colorbar": {
              "outlinewidth": 0,
              "ticks": ""
             }
            },
            "type": "scatter3d"
           }
          ],
          "scattercarpet": [
           {
            "marker": {
             "colorbar": {
              "outlinewidth": 0,
              "ticks": ""
             }
            },
            "type": "scattercarpet"
           }
          ],
          "scattergeo": [
           {
            "marker": {
             "colorbar": {
              "outlinewidth": 0,
              "ticks": ""
             }
            },
            "type": "scattergeo"
           }
          ],
          "scattergl": [
           {
            "marker": {
             "colorbar": {
              "outlinewidth": 0,
              "ticks": ""
             }
            },
            "type": "scattergl"
           }
          ],
          "scattermap": [
           {
            "marker": {
             "colorbar": {
              "outlinewidth": 0,
              "ticks": ""
             }
            },
            "type": "scattermap"
           }
          ],
          "scattermapbox": [
           {
            "marker": {
             "colorbar": {
              "outlinewidth": 0,
              "ticks": ""
             }
            },
            "type": "scattermapbox"
           }
          ],
          "scatterpolar": [
           {
            "marker": {
             "colorbar": {
              "outlinewidth": 0,
              "ticks": ""
             }
            },
            "type": "scatterpolar"
           }
          ],
          "scatterpolargl": [
           {
            "marker": {
             "colorbar": {
              "outlinewidth": 0,
              "ticks": ""
             }
            },
            "type": "scatterpolargl"
           }
          ],
          "scatterternary": [
           {
            "marker": {
             "colorbar": {
              "outlinewidth": 0,
              "ticks": ""
             }
            },
            "type": "scatterternary"
           }
          ],
          "surface": [
           {
            "colorbar": {
             "outlinewidth": 0,
             "ticks": ""
            },
            "colorscale": [
             [
              0,
              "#0d0887"
             ],
             [
              0.1111111111111111,
              "#46039f"
             ],
             [
              0.2222222222222222,
              "#7201a8"
             ],
             [
              0.3333333333333333,
              "#9c179e"
             ],
             [
              0.4444444444444444,
              "#bd3786"
             ],
             [
              0.5555555555555556,
              "#d8576b"
             ],
             [
              0.6666666666666666,
              "#ed7953"
             ],
             [
              0.7777777777777778,
              "#fb9f3a"
             ],
             [
              0.8888888888888888,
              "#fdca26"
             ],
             [
              1,
              "#f0f921"
             ]
            ],
            "type": "surface"
           }
          ],
          "table": [
           {
            "cells": {
             "fill": {
              "color": "#EBF0F8"
             },
             "line": {
              "color": "white"
             }
            },
            "header": {
             "fill": {
              "color": "#C8D4E3"
             },
             "line": {
              "color": "white"
             }
            },
            "type": "table"
           }
          ]
         },
         "layout": {
          "annotationdefaults": {
           "arrowcolor": "#2a3f5f",
           "arrowhead": 0,
           "arrowwidth": 1
          },
          "autotypenumbers": "strict",
          "coloraxis": {
           "colorbar": {
            "outlinewidth": 0,
            "ticks": ""
           }
          },
          "colorscale": {
           "diverging": [
            [
             0,
             "#8e0152"
            ],
            [
             0.1,
             "#c51b7d"
            ],
            [
             0.2,
             "#de77ae"
            ],
            [
             0.3,
             "#f1b6da"
            ],
            [
             0.4,
             "#fde0ef"
            ],
            [
             0.5,
             "#f7f7f7"
            ],
            [
             0.6,
             "#e6f5d0"
            ],
            [
             0.7,
             "#b8e186"
            ],
            [
             0.8,
             "#7fbc41"
            ],
            [
             0.9,
             "#4d9221"
            ],
            [
             1,
             "#276419"
            ]
           ],
           "sequential": [
            [
             0,
             "#0d0887"
            ],
            [
             0.1111111111111111,
             "#46039f"
            ],
            [
             0.2222222222222222,
             "#7201a8"
            ],
            [
             0.3333333333333333,
             "#9c179e"
            ],
            [
             0.4444444444444444,
             "#bd3786"
            ],
            [
             0.5555555555555556,
             "#d8576b"
            ],
            [
             0.6666666666666666,
             "#ed7953"
            ],
            [
             0.7777777777777778,
             "#fb9f3a"
            ],
            [
             0.8888888888888888,
             "#fdca26"
            ],
            [
             1,
             "#f0f921"
            ]
           ],
           "sequentialminus": [
            [
             0,
             "#0d0887"
            ],
            [
             0.1111111111111111,
             "#46039f"
            ],
            [
             0.2222222222222222,
             "#7201a8"
            ],
            [
             0.3333333333333333,
             "#9c179e"
            ],
            [
             0.4444444444444444,
             "#bd3786"
            ],
            [
             0.5555555555555556,
             "#d8576b"
            ],
            [
             0.6666666666666666,
             "#ed7953"
            ],
            [
             0.7777777777777778,
             "#fb9f3a"
            ],
            [
             0.8888888888888888,
             "#fdca26"
            ],
            [
             1,
             "#f0f921"
            ]
           ]
          },
          "colorway": [
           "#636efa",
           "#EF553B",
           "#00cc96",
           "#ab63fa",
           "#FFA15A",
           "#19d3f3",
           "#FF6692",
           "#B6E880",
           "#FF97FF",
           "#FECB52"
          ],
          "font": {
           "color": "#2a3f5f"
          },
          "geo": {
           "bgcolor": "white",
           "lakecolor": "white",
           "landcolor": "white",
           "showlakes": true,
           "showland": true,
           "subunitcolor": "#C8D4E3"
          },
          "hoverlabel": {
           "align": "left"
          },
          "hovermode": "closest",
          "mapbox": {
           "style": "light"
          },
          "paper_bgcolor": "white",
          "plot_bgcolor": "white",
          "polar": {
           "angularaxis": {
            "gridcolor": "#EBF0F8",
            "linecolor": "#EBF0F8",
            "ticks": ""
           },
           "bgcolor": "white",
           "radialaxis": {
            "gridcolor": "#EBF0F8",
            "linecolor": "#EBF0F8",
            "ticks": ""
           }
          },
          "scene": {
           "xaxis": {
            "backgroundcolor": "white",
            "gridcolor": "#DFE8F3",
            "gridwidth": 2,
            "linecolor": "#EBF0F8",
            "showbackground": true,
            "ticks": "",
            "zerolinecolor": "#EBF0F8"
           },
           "yaxis": {
            "backgroundcolor": "white",
            "gridcolor": "#DFE8F3",
            "gridwidth": 2,
            "linecolor": "#EBF0F8",
            "showbackground": true,
            "ticks": "",
            "zerolinecolor": "#EBF0F8"
           },
           "zaxis": {
            "backgroundcolor": "white",
            "gridcolor": "#DFE8F3",
            "gridwidth": 2,
            "linecolor": "#EBF0F8",
            "showbackground": true,
            "ticks": "",
            "zerolinecolor": "#EBF0F8"
           }
          },
          "shapedefaults": {
           "line": {
            "color": "#2a3f5f"
           }
          },
          "ternary": {
           "aaxis": {
            "gridcolor": "#DFE8F3",
            "linecolor": "#A2B1C6",
            "ticks": ""
           },
           "baxis": {
            "gridcolor": "#DFE8F3",
            "linecolor": "#A2B1C6",
            "ticks": ""
           },
           "bgcolor": "white",
           "caxis": {
            "gridcolor": "#DFE8F3",
            "linecolor": "#A2B1C6",
            "ticks": ""
           }
          },
          "title": {
           "x": 0.05
          },
          "xaxis": {
           "automargin": true,
           "gridcolor": "#EBF0F8",
           "linecolor": "#EBF0F8",
           "ticks": "",
           "title": {
            "standoff": 15
           },
           "zerolinecolor": "#EBF0F8",
           "zerolinewidth": 2
          },
          "yaxis": {
           "automargin": true,
           "gridcolor": "#EBF0F8",
           "linecolor": "#EBF0F8",
           "ticks": "",
           "title": {
            "standoff": 15
           },
           "zerolinecolor": "#EBF0F8",
           "zerolinewidth": 2
          }
         }
        },
        "title": {
         "text": "날짜별 감정 비율"
        },
        "xaxis": {
         "anchor": "y",
         "domain": [
          0,
          1
         ],
         "title": {
          "text": "날짜"
         }
        },
        "yaxis": {
         "anchor": "x",
         "domain": [
          0,
          1
         ],
         "title": {
          "text": "비율 (%)"
         }
        }
       }
      }
     },
     "metadata": {},
     "output_type": "display_data"
    },
    {
     "data": {
      "application/vnd.plotly.v1+json": {
       "config": {
        "plotlyServerURL": "https://plot.ly"
       },
       "data": [
        {
         "hovertemplate": "날짜=%{x}<br>평균 감정 점수=%{y}<extra></extra>",
         "legendgroup": "",
         "line": {
          "color": "#636efa",
          "dash": "solid"
         },
         "marker": {
          "symbol": "circle"
         },
         "mode": "lines+markers",
         "name": "",
         "orientation": "v",
         "showlegend": false,
         "type": "scatter",
         "x": [
          "2025-03-01T00:00:00.000000000",
          "2025-03-03T00:00:00.000000000",
          "2025-03-04T00:00:00.000000000",
          "2025-03-05T00:00:00.000000000",
          "2025-03-06T00:00:00.000000000",
          "2025-03-07T00:00:00.000000000",
          "2025-03-08T00:00:00.000000000",
          "2025-03-10T00:00:00.000000000",
          "2025-03-11T00:00:00.000000000",
          "2025-03-12T00:00:00.000000000",
          "2025-03-13T00:00:00.000000000",
          "2025-03-14T00:00:00.000000000"
         ],
         "xaxis": "x",
         "y": {
          "bdata": "jC666KKL7j8zMzMzMzP7PwAAAAAAAPI/AAAAAAAA+D9u27Zt27bxPwAAAAAAAPQ/AAAAAAAA+D85juM4juP4P6uqqqqqqso/SZIkSZIk6T+rqqqqqqrSPwAAAAAAAPg/",
          "dtype": "f8"
         },
         "yaxis": "y"
        }
       ],
       "layout": {
        "legend": {
         "tracegroupgap": 0
        },
        "template": {
         "data": {
          "bar": [
           {
            "error_x": {
             "color": "#2a3f5f"
            },
            "error_y": {
             "color": "#2a3f5f"
            },
            "marker": {
             "line": {
              "color": "white",
              "width": 0.5
             },
             "pattern": {
              "fillmode": "overlay",
              "size": 10,
              "solidity": 0.2
             }
            },
            "type": "bar"
           }
          ],
          "barpolar": [
           {
            "marker": {
             "line": {
              "color": "white",
              "width": 0.5
             },
             "pattern": {
              "fillmode": "overlay",
              "size": 10,
              "solidity": 0.2
             }
            },
            "type": "barpolar"
           }
          ],
          "carpet": [
           {
            "aaxis": {
             "endlinecolor": "#2a3f5f",
             "gridcolor": "#C8D4E3",
             "linecolor": "#C8D4E3",
             "minorgridcolor": "#C8D4E3",
             "startlinecolor": "#2a3f5f"
            },
            "baxis": {
             "endlinecolor": "#2a3f5f",
             "gridcolor": "#C8D4E3",
             "linecolor": "#C8D4E3",
             "minorgridcolor": "#C8D4E3",
             "startlinecolor": "#2a3f5f"
            },
            "type": "carpet"
           }
          ],
          "choropleth": [
           {
            "colorbar": {
             "outlinewidth": 0,
             "ticks": ""
            },
            "type": "choropleth"
           }
          ],
          "contour": [
           {
            "colorbar": {
             "outlinewidth": 0,
             "ticks": ""
            },
            "colorscale": [
             [
              0,
              "#0d0887"
             ],
             [
              0.1111111111111111,
              "#46039f"
             ],
             [
              0.2222222222222222,
              "#7201a8"
             ],
             [
              0.3333333333333333,
              "#9c179e"
             ],
             [
              0.4444444444444444,
              "#bd3786"
             ],
             [
              0.5555555555555556,
              "#d8576b"
             ],
             [
              0.6666666666666666,
              "#ed7953"
             ],
             [
              0.7777777777777778,
              "#fb9f3a"
             ],
             [
              0.8888888888888888,
              "#fdca26"
             ],
             [
              1,
              "#f0f921"
             ]
            ],
            "type": "contour"
           }
          ],
          "contourcarpet": [
           {
            "colorbar": {
             "outlinewidth": 0,
             "ticks": ""
            },
            "type": "contourcarpet"
           }
          ],
          "heatmap": [
           {
            "colorbar": {
             "outlinewidth": 0,
             "ticks": ""
            },
            "colorscale": [
             [
              0,
              "#0d0887"
             ],
             [
              0.1111111111111111,
              "#46039f"
             ],
             [
              0.2222222222222222,
              "#7201a8"
             ],
             [
              0.3333333333333333,
              "#9c179e"
             ],
             [
              0.4444444444444444,
              "#bd3786"
             ],
             [
              0.5555555555555556,
              "#d8576b"
             ],
             [
              0.6666666666666666,
              "#ed7953"
             ],
             [
              0.7777777777777778,
              "#fb9f3a"
             ],
             [
              0.8888888888888888,
              "#fdca26"
             ],
             [
              1,
              "#f0f921"
             ]
            ],
            "type": "heatmap"
           }
          ],
          "histogram": [
           {
            "marker": {
             "pattern": {
              "fillmode": "overlay",
              "size": 10,
              "solidity": 0.2
             }
            },
            "type": "histogram"
           }
          ],
          "histogram2d": [
           {
            "colorbar": {
             "outlinewidth": 0,
             "ticks": ""
            },
            "colorscale": [
             [
              0,
              "#0d0887"
             ],
             [
              0.1111111111111111,
              "#46039f"
             ],
             [
              0.2222222222222222,
              "#7201a8"
             ],
             [
              0.3333333333333333,
              "#9c179e"
             ],
             [
              0.4444444444444444,
              "#bd3786"
             ],
             [
              0.5555555555555556,
              "#d8576b"
             ],
             [
              0.6666666666666666,
              "#ed7953"
             ],
             [
              0.7777777777777778,
              "#fb9f3a"
             ],
             [
              0.8888888888888888,
              "#fdca26"
             ],
             [
              1,
              "#f0f921"
             ]
            ],
            "type": "histogram2d"
           }
          ],
          "histogram2dcontour": [
           {
            "colorbar": {
             "outlinewidth": 0,
             "ticks": ""
            },
            "colorscale": [
             [
              0,
              "#0d0887"
             ],
             [
              0.1111111111111111,
              "#46039f"
             ],
             [
              0.2222222222222222,
              "#7201a8"
             ],
             [
              0.3333333333333333,
              "#9c179e"
             ],
             [
              0.4444444444444444,
              "#bd3786"
             ],
             [
              0.5555555555555556,
              "#d8576b"
             ],
             [
              0.6666666666666666,
              "#ed7953"
             ],
             [
              0.7777777777777778,
              "#fb9f3a"
             ],
             [
              0.8888888888888888,
              "#fdca26"
             ],
             [
              1,
              "#f0f921"
             ]
            ],
            "type": "histogram2dcontour"
           }
          ],
          "mesh3d": [
           {
            "colorbar": {
             "outlinewidth": 0,
             "ticks": ""
            },
            "type": "mesh3d"
           }
          ],
          "parcoords": [
           {
            "line": {
             "colorbar": {
              "outlinewidth": 0,
              "ticks": ""
             }
            },
            "type": "parcoords"
           }
          ],
          "pie": [
           {
            "automargin": true,
            "type": "pie"
           }
          ],
          "scatter": [
           {
            "fillpattern": {
             "fillmode": "overlay",
             "size": 10,
             "solidity": 0.2
            },
            "type": "scatter"
           }
          ],
          "scatter3d": [
           {
            "line": {
             "colorbar": {
              "outlinewidth": 0,
              "ticks": ""
             }
            },
            "marker": {
             "colorbar": {
              "outlinewidth": 0,
              "ticks": ""
             }
            },
            "type": "scatter3d"
           }
          ],
          "scattercarpet": [
           {
            "marker": {
             "colorbar": {
              "outlinewidth": 0,
              "ticks": ""
             }
            },
            "type": "scattercarpet"
           }
          ],
          "scattergeo": [
           {
            "marker": {
             "colorbar": {
              "outlinewidth": 0,
              "ticks": ""
             }
            },
            "type": "scattergeo"
           }
          ],
          "scattergl": [
           {
            "marker": {
             "colorbar": {
              "outlinewidth": 0,
              "ticks": ""
             }
            },
            "type": "scattergl"
           }
          ],
          "scattermap": [
           {
            "marker": {
             "colorbar": {
              "outlinewidth": 0,
              "ticks": ""
             }
            },
            "type": "scattermap"
           }
          ],
          "scattermapbox": [
           {
            "marker": {
             "colorbar": {
              "outlinewidth": 0,
              "ticks": ""
             }
            },
            "type": "scattermapbox"
           }
          ],
          "scatterpolar": [
           {
            "marker": {
             "colorbar": {
              "outlinewidth": 0,
              "ticks": ""
             }
            },
            "type": "scatterpolar"
           }
          ],
          "scatterpolargl": [
           {
            "marker": {
             "colorbar": {
              "outlinewidth": 0,
              "ticks": ""
             }
            },
            "type": "scatterpolargl"
           }
          ],
          "scatterternary": [
           {
            "marker": {
             "colorbar": {
              "outlinewidth": 0,
              "ticks": ""
             }
            },
            "type": "scatterternary"
           }
          ],
          "surface": [
           {
            "colorbar": {
             "outlinewidth": 0,
             "ticks": ""
            },
            "colorscale": [
             [
              0,
              "#0d0887"
             ],
             [
              0.1111111111111111,
              "#46039f"
             ],
             [
              0.2222222222222222,
              "#7201a8"
             ],
             [
              0.3333333333333333,
              "#9c179e"
             ],
             [
              0.4444444444444444,
              "#bd3786"
             ],
             [
              0.5555555555555556,
              "#d8576b"
             ],
             [
              0.6666666666666666,
              "#ed7953"
             ],
             [
              0.7777777777777778,
              "#fb9f3a"
             ],
             [
              0.8888888888888888,
              "#fdca26"
             ],
             [
              1,
              "#f0f921"
             ]
            ],
            "type": "surface"
           }
          ],
          "table": [
           {
            "cells": {
             "fill": {
              "color": "#EBF0F8"
             },
             "line": {
              "color": "white"
             }
            },
            "header": {
             "fill": {
              "color": "#C8D4E3"
             },
             "line": {
              "color": "white"
             }
            },
            "type": "table"
           }
          ]
         },
         "layout": {
          "annotationdefaults": {
           "arrowcolor": "#2a3f5f",
           "arrowhead": 0,
           "arrowwidth": 1
          },
          "autotypenumbers": "strict",
          "coloraxis": {
           "colorbar": {
            "outlinewidth": 0,
            "ticks": ""
           }
          },
          "colorscale": {
           "diverging": [
            [
             0,
             "#8e0152"
            ],
            [
             0.1,
             "#c51b7d"
            ],
            [
             0.2,
             "#de77ae"
            ],
            [
             0.3,
             "#f1b6da"
            ],
            [
             0.4,
             "#fde0ef"
            ],
            [
             0.5,
             "#f7f7f7"
            ],
            [
             0.6,
             "#e6f5d0"
            ],
            [
             0.7,
             "#b8e186"
            ],
            [
             0.8,
             "#7fbc41"
            ],
            [
             0.9,
             "#4d9221"
            ],
            [
             1,
             "#276419"
            ]
           ],
           "sequential": [
            [
             0,
             "#0d0887"
            ],
            [
             0.1111111111111111,
             "#46039f"
            ],
            [
             0.2222222222222222,
             "#7201a8"
            ],
            [
             0.3333333333333333,
             "#9c179e"
            ],
            [
             0.4444444444444444,
             "#bd3786"
            ],
            [
             0.5555555555555556,
             "#d8576b"
            ],
            [
             0.6666666666666666,
             "#ed7953"
            ],
            [
             0.7777777777777778,
             "#fb9f3a"
            ],
            [
             0.8888888888888888,
             "#fdca26"
            ],
            [
             1,
             "#f0f921"
            ]
           ],
           "sequentialminus": [
            [
             0,
             "#0d0887"
            ],
            [
             0.1111111111111111,
             "#46039f"
            ],
            [
             0.2222222222222222,
             "#7201a8"
            ],
            [
             0.3333333333333333,
             "#9c179e"
            ],
            [
             0.4444444444444444,
             "#bd3786"
            ],
            [
             0.5555555555555556,
             "#d8576b"
            ],
            [
             0.6666666666666666,
             "#ed7953"
            ],
            [
             0.7777777777777778,
             "#fb9f3a"
            ],
            [
             0.8888888888888888,
             "#fdca26"
            ],
            [
             1,
             "#f0f921"
            ]
           ]
          },
          "colorway": [
           "#636efa",
           "#EF553B",
           "#00cc96",
           "#ab63fa",
           "#FFA15A",
           "#19d3f3",
           "#FF6692",
           "#B6E880",
           "#FF97FF",
           "#FECB52"
          ],
          "font": {
           "color": "#2a3f5f"
          },
          "geo": {
           "bgcolor": "white",
           "lakecolor": "white",
           "landcolor": "white",
           "showlakes": true,
           "showland": true,
           "subunitcolor": "#C8D4E3"
          },
          "hoverlabel": {
           "align": "left"
          },
          "hovermode": "closest",
          "mapbox": {
           "style": "light"
          },
          "paper_bgcolor": "white",
          "plot_bgcolor": "white",
          "polar": {
           "angularaxis": {
            "gridcolor": "#EBF0F8",
            "linecolor": "#EBF0F8",
            "ticks": ""
           },
           "bgcolor": "white",
           "radialaxis": {
            "gridcolor": "#EBF0F8",
            "linecolor": "#EBF0F8",
            "ticks": ""
           }
          },
          "scene": {
           "xaxis": {
            "backgroundcolor": "white",
            "gridcolor": "#DFE8F3",
            "gridwidth": 2,
            "linecolor": "#EBF0F8",
            "showbackground": true,
            "ticks": "",
            "zerolinecolor": "#EBF0F8"
           },
           "yaxis": {
            "backgroundcolor": "white",
            "gridcolor": "#DFE8F3",
            "gridwidth": 2,
            "linecolor": "#EBF0F8",
            "showbackground": true,
            "ticks": "",
            "zerolinecolor": "#EBF0F8"
           },
           "zaxis": {
            "backgroundcolor": "white",
            "gridcolor": "#DFE8F3",
            "gridwidth": 2,
            "linecolor": "#EBF0F8",
            "showbackground": true,
            "ticks": "",
            "zerolinecolor": "#EBF0F8"
           }
          },
          "shapedefaults": {
           "line": {
            "color": "#2a3f5f"
           }
          },
          "ternary": {
           "aaxis": {
            "gridcolor": "#DFE8F3",
            "linecolor": "#A2B1C6",
            "ticks": ""
           },
           "baxis": {
            "gridcolor": "#DFE8F3",
            "linecolor": "#A2B1C6",
            "ticks": ""
           },
           "bgcolor": "white",
           "caxis": {
            "gridcolor": "#DFE8F3",
            "linecolor": "#A2B1C6",
            "ticks": ""
           }
          },
          "title": {
           "x": 0.05
          },
          "xaxis": {
           "automargin": true,
           "gridcolor": "#EBF0F8",
           "linecolor": "#EBF0F8",
           "ticks": "",
           "title": {
            "standoff": 15
           },
           "zerolinecolor": "#EBF0F8",
           "zerolinewidth": 2
          },
          "yaxis": {
           "automargin": true,
           "gridcolor": "#EBF0F8",
           "linecolor": "#EBF0F8",
           "ticks": "",
           "title": {
            "standoff": 15
           },
           "zerolinecolor": "#EBF0F8",
           "zerolinewidth": 2
          }
         }
        },
        "title": {
         "text": "날짜별 평균 감정 강도"
        },
        "xaxis": {
         "anchor": "y",
         "domain": [
          0,
          1
         ],
         "title": {
          "text": "날짜"
         }
        },
        "yaxis": {
         "anchor": "x",
         "domain": [
          0,
          1
         ],
         "title": {
          "text": "평균 감정 점수"
         }
        }
       }
      }
     },
     "metadata": {},
     "output_type": "display_data"
    }
   ],
   "source": [
    "import pandas as pd\n",
    "import plotly.express as px\n",
    "\n",
    "def process_sentiment_data(input_csv):\n",
    "    \"\"\"\n",
    "    CSV 파일에서 데이터를 읽어와 날짜별 감정 비율과 강도를 처리하는 함수.\n",
    "    \n",
    "    Parameters:\n",
    "        input_csv (str): 입력 CSV 파일 경로\n",
    "    \n",
    "    Returns:\n",
    "        df_ratio (DataFrame): 날짜별 감정 비율 데이터프레임\n",
    "        df_intensity (DataFrame): 날짜별 평균 감정 강도 데이터프레임\n",
    "    \"\"\"\n",
    "    # CSV 파일 읽기\n",
    "    df = pd.read_csv(input_csv)\n",
    "    \n",
    "    # 감정을 숫자로 매핑 및 가중치 적용\n",
    "    sentiment_mapping = {\n",
    "        \"Positive\": lambda x: 2 if \"price rise\" in x.lower() else 1.5,\n",
    "        \"Neutral\": lambda x: 0,\n",
    "        \"Negative\": lambda x: -2 if \"price drop\" in x.lower() else -1.5\n",
    "    }\n",
    "    \n",
    "    # 각 기사 내용에 따라 가중치 적용\n",
    "    df[\"sentiment_score\"] = df.apply(\n",
    "        lambda row: sentiment_mapping[row[\"sentiment\"]](row[\"content\"]), axis=1\n",
    "    )\n",
    "    \n",
    "    # 날짜 형식 변환\n",
    "    df[\"date\"] = pd.to_datetime(df[\"date\"])\n",
    "    \n",
    "    # 날짜별 감정 비율 계산\n",
    "    df_ratio = df.groupby([\"date\", \"sentiment\"]).size().reset_index(name=\"count\")\n",
    "    total_counts = df_ratio.groupby(\"date\")[\"count\"].transform(\"sum\")\n",
    "    df_ratio[\"percentage\"] = (df_ratio[\"count\"] / total_counts) * 100\n",
    "    \n",
    "    # 날짜별 평균 감정 강도 계산\n",
    "    df_intensity = df.groupby(\"date\")[\"sentiment_score\"].mean().reset_index()\n",
    "    \n",
    "    return df_ratio, df_intensity\n",
    "\n",
    "def visualize_sentiment_data(df_ratio, df_intensity):\n",
    "    \"\"\"\n",
    "    Plotly를 사용하여 날짜별 감정 비율과 강도를 시각화하는 함수.\n",
    "    \n",
    "    Parameters:\n",
    "        df_ratio (DataFrame): 날짜별 감정 비율 데이터프레임\n",
    "        df_intensity (DataFrame): 날짜별 평균 감정 강도 데이터프레임\n",
    "    \"\"\"\n",
    "    # 감정 비율 시각화\n",
    "    fig_ratio = px.bar(\n",
    "        df_ratio,\n",
    "        x=\"date\",\n",
    "        y=\"percentage\",\n",
    "        color=\"sentiment\",\n",
    "        title=\"날짜별 감정 비율\",\n",
    "        labels={\"date\": \"날짜\", \"percentage\": \"비율 (%)\", \"sentiment\": \"감정\"},\n",
    "        barmode=\"stack\"\n",
    "    )\n",
    "    \n",
    "    # 평균 강도 시각화\n",
    "    fig_intensity = px.line(\n",
    "        df_intensity,\n",
    "        x=\"date\",\n",
    "        y=\"sentiment_score\",\n",
    "        title=\"날짜별 평균 감정 강도\",\n",
    "        labels={\"date\": \"날짜\", \"sentiment_score\": \"평균 감정 점수\"},\n",
    "        markers=True\n",
    "    )\n",
    "    \n",
    "    fig_ratio.update_layout(template=\"plotly_white\")\n",
    "    fig_intensity.update_layout(template=\"plotly_dark\")\n",
    "    \n",
    "    fig_ratio.show()\n",
    "    fig_intensity.show()\n",
    "\n",
    "# 실행 코드\n",
    "if __name__ == \"__main__\":\n",
    "    input_csv_path = \"cointelegraph_articles_with_sentiment.csv\"  # 입력 CSV 파일 경로\n",
    "    \n",
    "    # 데이터 처리 및 시각화\n",
    "    df_ratio, df_intensity = process_sentiment_data(input_csv=input_csv_path)\n",
    "    visualize_sentiment_data(df_ratio, df_intensity)"
   ]
  }
 ],
 "metadata": {
  "kernelspec": {
   "display_name": "base",
   "language": "python",
   "name": "python3"
  },
  "language_info": {
   "codemirror_mode": {
    "name": "ipython",
    "version": 3
   },
   "file_extension": ".py",
   "mimetype": "text/x-python",
   "name": "python",
   "nbconvert_exporter": "python",
   "pygments_lexer": "ipython3",
   "version": "3.12.4"
  }
 },
 "nbformat": 4,
 "nbformat_minor": 2
}
